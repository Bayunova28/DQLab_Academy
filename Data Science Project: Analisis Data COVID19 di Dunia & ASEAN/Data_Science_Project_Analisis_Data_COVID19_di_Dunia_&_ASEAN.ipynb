{
  "nbformat": 4,
  "nbformat_minor": 0,
  "metadata": {
    "colab": {
      "name": "Data Science Project: Analisis Data COVID19 di Dunia & ASEAN.ipynb",
      "provenance": []
    },
    "kernelspec": {
      "name": "python3",
      "display_name": "Python 3"
    },
    "language_info": {
      "name": "python"
    }
  },
  "cells": [
    {
      "cell_type": "markdown",
      "source": [
        "# Pendahuluan"
      ],
      "metadata": {
        "id": "cH8Rhg7lMPjj"
      }
    },
    {
      "cell_type": "markdown",
      "source": [
        "### Library yang dibutuhkan"
      ],
      "metadata": {
        "id": "QHxKKp-TMPhD"
      }
    },
    {
      "cell_type": "code",
      "execution_count": 1,
      "metadata": {
        "id": "5bs9dnwYMOBE"
      },
      "outputs": [],
      "source": [
        "import numpy as np\n",
        "import pandas as pd"
      ]
    },
    {
      "cell_type": "markdown",
      "source": [
        "# Mengakses Data COVID-19 Dunia"
      ],
      "metadata": {
        "id": "ujJ_reMgPOEC"
      }
    },
    {
      "cell_type": "markdown",
      "source": [
        "### Membaca Data COVID-19 Dunia"
      ],
      "metadata": {
        "id": "3HNR-va6Msok"
      }
    },
    {
      "cell_type": "code",
      "source": [
        "import numpy as np\n",
        "import pandas as pd\n",
        "pd.set_option(\"display.max_columns\", None)\n",
        "\n",
        "covid_url = \"https://dqlab.id/data/covid19_worldwide_2020.json\"\n",
        "df_covid_worldwide = pd.read_json(covid_url)\n",
        "\n",
        "print(\"Ukuran dataset: %d kolom dan %d baris.\\n\" % df_covid_worldwide.shape)\n",
        "print(\"Lima data teratas:\\n\", df_covid_worldwide.head())\n",
        "print(\"\\nLima data terbawah:\\n\", df_covid_worldwide.tail())"
      ],
      "metadata": {
        "colab": {
          "base_uri": "https://localhost:8080/"
        },
        "id": "Y045rpd8MtpK",
        "outputId": "49687813-39c1-48c0-8b91-e6f21f11ffcf"
      },
      "execution_count": 2,
      "outputs": [
        {
          "output_type": "stream",
          "name": "stdout",
          "text": [
            "Ukuran dataset: 61900 kolom dan 6 baris.\n",
            "\n",
            "Lima data teratas:\n",
            "         date  daily_confirmed_cases  daily_deaths  confirmed_cases  deaths  \\\n",
            "0 2020-03-20                      1             0                1       0   \n",
            "1 2020-03-21                      0             0                1       0   \n",
            "2 2020-03-22                      1             0                2       0   \n",
            "3 2020-03-23                      0             0                2       0   \n",
            "4 2020-03-24                      0             0                2       0   \n",
            "\n",
            "  geo_id  \n",
            "0     TD  \n",
            "1     TD  \n",
            "2     TD  \n",
            "3     TD  \n",
            "4     TD  \n",
            "\n",
            "Lima data terbawah:\n",
            "             date  daily_confirmed_cases  daily_deaths  confirmed_cases  \\\n",
            "61895 2020-02-24                     57             1              691   \n",
            "61896 2020-02-26                      0             1              691   \n",
            "61897 2020-03-10                     -9             1              696   \n",
            "61898 2020-02-20                     79             2              621   \n",
            "61899 2020-02-29                      0             2              705   \n",
            "\n",
            "       deaths    geo_id  \n",
            "61895       3  JPG11668  \n",
            "61896       4  JPG11668  \n",
            "61897       7  JPG11668  \n",
            "61898       2  JPG11668  \n",
            "61899       6  JPG11668  \n"
          ]
        }
      ]
    },
    {
      "cell_type": "markdown",
      "source": [
        "### Reformat Data Frame COVID-19 Dunia"
      ],
      "metadata": {
        "id": "1shMPXoaNg_q"
      }
    },
    {
      "cell_type": "code",
      "source": [
        "import numpy as np\n",
        "import pandas as pd\n",
        "pd.set_option(\"display.max_columns\", None)\n",
        "\n",
        "covid_url = \"https://dqlab.id/data/covid19_worldwide_2020.json\"\n",
        "df_covid_worldwide = pd.read_json(covid_url)\n",
        "\n",
        "print(\"Informasi data frame awal:\")\n",
        "df_covid_worldwide.info()\n",
        "\n",
        "df_covid_worldwide = df_covid_worldwide.set_index(\"date\").sort_index()\n",
        "\n",
        "print(\"\\nInformasi data frame setelah set index kolom date:\")\n",
        "df_covid_worldwide.info()"
      ],
      "metadata": {
        "colab": {
          "base_uri": "https://localhost:8080/"
        },
        "id": "4zryShMeNiBy",
        "outputId": "961346e3-71da-4830-e4ab-9d4ac73a2a94"
      },
      "execution_count": 3,
      "outputs": [
        {
          "output_type": "stream",
          "name": "stdout",
          "text": [
            "Informasi data frame awal:\n",
            "<class 'pandas.core.frame.DataFrame'>\n",
            "Int64Index: 61900 entries, 0 to 61899\n",
            "Data columns (total 6 columns):\n",
            " #   Column                 Non-Null Count  Dtype         \n",
            "---  ------                 --------------  -----         \n",
            " 0   date                   61900 non-null  datetime64[ns]\n",
            " 1   daily_confirmed_cases  61900 non-null  int64         \n",
            " 2   daily_deaths           61900 non-null  int64         \n",
            " 3   confirmed_cases        61900 non-null  int64         \n",
            " 4   deaths                 61900 non-null  int64         \n",
            " 5   geo_id                 61625 non-null  object        \n",
            "dtypes: datetime64[ns](1), int64(4), object(1)\n",
            "memory usage: 3.3+ MB\n",
            "\n",
            "Informasi data frame setelah set index kolom date:\n",
            "<class 'pandas.core.frame.DataFrame'>\n",
            "DatetimeIndex: 61900 entries, 2019-12-31 to 2020-12-14\n",
            "Data columns (total 5 columns):\n",
            " #   Column                 Non-Null Count  Dtype \n",
            "---  ------                 --------------  ----- \n",
            " 0   daily_confirmed_cases  61900 non-null  int64 \n",
            " 1   daily_deaths           61900 non-null  int64 \n",
            " 2   confirmed_cases        61900 non-null  int64 \n",
            " 3   deaths                 61900 non-null  int64 \n",
            " 4   geo_id                 61625 non-null  object\n",
            "dtypes: int64(4), object(1)\n",
            "memory usage: 2.8+ MB\n"
          ]
        }
      ]
    },
    {
      "cell_type": "markdown",
      "source": [
        "### Missing Value di DataFrame COVID-19 Dunia"
      ],
      "metadata": {
        "id": "JlHKqeDcOMGC"
      }
    },
    {
      "cell_type": "code",
      "source": [
        "import numpy as np\n",
        "import pandas as pd\n",
        "pd.set_option(\"display.max_columns\", None)\n",
        "\n",
        "covid_url = \"https://dqlab.id/data/covid19_worldwide_2020.json\"\n",
        "df_covid_worldwide = pd.read_json(covid_url)\n",
        "df_covid_worldwide = df_covid_worldwide.set_index(\"date\").sort_index()\n",
        "\n",
        "print(\"Jumlah missing value tiap kolom:\")\n",
        "print(df_covid_worldwide.isna().sum())\n",
        "\n",
        "df_covid_worldwide.dropna(inplace=True)\n",
        "\n",
        "print(\"\\nJumlah missing value tiap kolom setelah didrop:\")\n",
        "print(df_covid_worldwide.isna().sum())"
      ],
      "metadata": {
        "colab": {
          "base_uri": "https://localhost:8080/"
        },
        "id": "BYZUyB_ZONFy",
        "outputId": "8c47ae8a-1e79-4568-d831-d7cb618377f2"
      },
      "execution_count": 4,
      "outputs": [
        {
          "output_type": "stream",
          "name": "stdout",
          "text": [
            "Jumlah missing value tiap kolom:\n",
            "daily_confirmed_cases      0\n",
            "daily_deaths               0\n",
            "confirmed_cases            0\n",
            "deaths                     0\n",
            "geo_id                   275\n",
            "dtype: int64\n",
            "\n",
            "Jumlah missing value tiap kolom setelah didrop:\n",
            "daily_confirmed_cases    0\n",
            "daily_deaths             0\n",
            "confirmed_cases          0\n",
            "deaths                   0\n",
            "geo_id                   0\n",
            "dtype: int64\n"
          ]
        }
      ]
    },
    {
      "cell_type": "markdown",
      "source": [
        "### Membaca Data Countries"
      ],
      "metadata": {
        "id": "68QageftOuCU"
      }
    },
    {
      "cell_type": "code",
      "source": [
        "import numpy as np\n",
        "import pandas as pd\n",
        "pd.set_option(\"display.max_columns\", None)\n",
        "\n",
        "countries_url = \"https://dqlab.id/data/country_details.json\"\n",
        "df_countries = pd.read_json(countries_url)\n",
        "print(df_countries.head())"
      ],
      "metadata": {
        "colab": {
          "base_uri": "https://localhost:8080/"
        },
        "id": "phbaSvPoOx7L",
        "outputId": "dea2b21e-9e6f-41b7-9f83-5024bd9a5f3d"
      },
      "execution_count": 5,
      "outputs": [
        {
          "output_type": "stream",
          "name": "stdout",
          "text": [
            "  geo_id country_name\n",
            "0     TD         Chad\n",
            "1     CU         Cuba\n",
            "2     FJ         Fiji\n",
            "3     GU         Guam\n",
            "4     IR         Iran\n"
          ]
        }
      ]
    },
    {
      "cell_type": "markdown",
      "source": [
        "# Kasus Covid-19 di Dunia dan Negara Mana yang Tertinggi"
      ],
      "metadata": {
        "id": "2tsUp7EIP_rT"
      }
    },
    {
      "cell_type": "markdown",
      "source": [
        "### Merge Covid19 Data dan Countries"
      ],
      "metadata": {
        "id": "LkateVIKPCq6"
      }
    },
    {
      "cell_type": "code",
      "source": [
        "import numpy as np\n",
        "import pandas as pd\n",
        "pd.set_option(\"display.max_columns\", None)\n",
        "\n",
        "covid_url = \"https://dqlab.id/data/covid19_worldwide_2020.json\"\n",
        "df_covid_worldwide = pd.read_json(covid_url)\n",
        "df_covid_worldwide = df_covid_worldwide.set_index(\"date\").sort_index().dropna()\n",
        "\n",
        "countries_url = \"https://dqlab.id/data/country_details.json\"\n",
        "df_countries = pd.read_json(countries_url)\n",
        "\n",
        "df_covid_denormalized = pd.merge(df_covid_worldwide.reset_index(), df_countries, on=\"geo_id\").set_index(\"date\")\n",
        "print(df_covid_denormalized.head())"
      ],
      "metadata": {
        "colab": {
          "base_uri": "https://localhost:8080/"
        },
        "id": "G-q8IcE_QGlx",
        "outputId": "0cd07fdd-2af3-4eb5-8c85-6b5258eea838"
      },
      "execution_count": 6,
      "outputs": [
        {
          "output_type": "stream",
          "name": "stdout",
          "text": [
            "            daily_confirmed_cases  daily_deaths  confirmed_cases  deaths  \\\n",
            "date                                                                       \n",
            "2019-12-31                      0             0                0       0   \n",
            "2020-01-01                      0             0                0       0   \n",
            "2020-01-02                      0             0                0       0   \n",
            "2020-01-03                      0             0                0       0   \n",
            "2020-01-04                      0             0                0       0   \n",
            "\n",
            "           geo_id country_name  \n",
            "date                            \n",
            "2019-12-31     IN        India  \n",
            "2020-01-01     IN        India  \n",
            "2020-01-02     IN        India  \n",
            "2020-01-03     IN        India  \n",
            "2020-01-04     IN        India  \n"
          ]
        }
      ]
    },
    {
      "cell_type": "markdown",
      "source": [
        "### Menghitung Fatality Ratio"
      ],
      "metadata": {
        "id": "e8vvXSJqQz3s"
      }
    },
    {
      "cell_type": "code",
      "source": [
        "import numpy as np\n",
        "import pandas as pd\n",
        "pd.set_option(\"display.max_columns\", None)\n",
        "\n",
        "covid_url = \"https://dqlab.id/data/covid19_worldwide_2020.json\"\n",
        "df_covid_worldwide = pd.read_json(covid_url)\n",
        "df_covid_worldwide = df_covid_worldwide.set_index(\"date\").sort_index().dropna()\n",
        "\n",
        "countries_url = \"https://dqlab.id/data/country_details.json\"\n",
        "df_countries = pd.read_json(countries_url)\n",
        "\n",
        "df_covid_denormalized = pd.merge(df_covid_worldwide.reset_index(), df_countries, on=\"geo_id\").set_index(\"date\")\n",
        "\n",
        "df_covid_denormalized[\"fatality_ratio\"] = df_covid_denormalized[\"deaths\"]/df_covid_denormalized[\"confirmed_cases\"]\n",
        "print(df_covid_denormalized.head())"
      ],
      "metadata": {
        "colab": {
          "base_uri": "https://localhost:8080/"
        },
        "id": "3Ig85nFZQ15T",
        "outputId": "df21d6ed-6f87-44d9-84f5-4e04a8adcc2b"
      },
      "execution_count": 7,
      "outputs": [
        {
          "output_type": "stream",
          "name": "stdout",
          "text": [
            "            daily_confirmed_cases  daily_deaths  confirmed_cases  deaths  \\\n",
            "date                                                                       \n",
            "2019-12-31                      0             0                0       0   \n",
            "2020-01-01                      0             0                0       0   \n",
            "2020-01-02                      0             0                0       0   \n",
            "2020-01-03                      0             0                0       0   \n",
            "2020-01-04                      0             0                0       0   \n",
            "\n",
            "           geo_id country_name  fatality_ratio  \n",
            "date                                            \n",
            "2019-12-31     IN        India             NaN  \n",
            "2020-01-01     IN        India             NaN  \n",
            "2020-01-02     IN        India             NaN  \n",
            "2020-01-03     IN        India             NaN  \n",
            "2020-01-04     IN        India             NaN  \n"
          ]
        }
      ]
    },
    {
      "cell_type": "markdown",
      "source": [
        "### Negara-negara dengan Fatality Ratio Tertinggi"
      ],
      "metadata": {
        "id": "kwI4J7ykQ-f7"
      }
    },
    {
      "cell_type": "code",
      "source": [
        "import numpy as np\n",
        "import pandas as pd\n",
        "pd.set_option(\"display.max_columns\", None)\n",
        "\n",
        "covid_url = \"https://dqlab.id/data/covid19_worldwide_2020.json\"\n",
        "df_covid_worldwide = pd.read_json(covid_url)\n",
        "df_covid_worldwide = df_covid_worldwide.set_index(\"date\").sort_index().dropna()\n",
        "\n",
        "countries_url = \"https://dqlab.id/data/country_details.json\"\n",
        "df_countries = pd.read_json(countries_url)\n",
        "\n",
        "df_covid_denormalized = pd.merge(df_covid_worldwide.reset_index(), df_countries, on=\"geo_id\").set_index(\"date\")\n",
        "\n",
        "df_covid_denormalized[\"fatality_ratio\"] = df_covid_denormalized[\"deaths\"]/df_covid_denormalized[\"confirmed_cases\"]\n",
        "\n",
        "df_top_20_fatality_rate = df_covid_denormalized.sort_values(\"fatality_ratio\", ascending=False).head(20)\n",
        "print(df_top_20_fatality_rate[[\"geo_id\",\"country_name\",\"fatality_ratio\"]])"
      ],
      "metadata": {
        "colab": {
          "base_uri": "https://localhost:8080/"
        },
        "id": "aSAzeU8MQ_47",
        "outputId": "6139ba95-617b-41ab-e899-d6fbb373e4db"
      },
      "execution_count": 8,
      "outputs": [
        {
          "output_type": "stream",
          "name": "stdout",
          "text": [
            "           geo_id country_name  fatality_ratio\n",
            "date                                          \n",
            "2020-03-15     SD        Sudan             1.0\n",
            "2020-02-20     IR         Iran             1.0\n",
            "2020-03-16     GT    Guatemala             1.0\n",
            "2020-03-13     GY       Guyana             1.0\n",
            "2020-03-18     SD        Sudan             1.0\n",
            "2020-03-17     SD        Sudan             1.0\n",
            "2020-03-16     SD        Sudan             1.0\n",
            "2020-02-03     PH  Philippines             0.5\n",
            "2020-02-05     PH  Philippines             0.5\n",
            "2020-02-04     PH  Philippines             0.5\n",
            "2020-03-28     NI    Nicaragua             0.5\n",
            "2020-02-02     PH  Philippines             0.5\n",
            "2020-03-24     ZW     Zimbabwe             0.5\n",
            "2020-03-24     GM       Gambia             0.5\n",
            "2020-03-19     SD        Sudan             0.5\n",
            "2020-03-20     SD        Sudan             0.5\n",
            "2020-03-21     SD        Sudan             0.5\n",
            "2020-03-22     SD        Sudan             0.5\n",
            "2020-03-23     SD        Sudan             0.5\n",
            "2020-03-24     SD        Sudan             0.5\n"
          ]
        }
      ]
    },
    {
      "cell_type": "markdown",
      "source": [
        "### Kondisi Fatality ratio Tertinggi di Bulan Agustus 2020"
      ],
      "metadata": {
        "id": "AErAg5bnRfJC"
      }
    },
    {
      "cell_type": "code",
      "source": [
        "import numpy as np\n",
        "import pandas as pd\n",
        "pd.set_option(\"display.max_columns\", None)\n",
        "\n",
        "covid_url = \"https://dqlab.id/data/covid19_worldwide_2020.json\"\n",
        "df_covid_worldwide = pd.read_json(covid_url)\n",
        "df_covid_worldwide = df_covid_worldwide.set_index(\"date\").sort_index().dropna()\n",
        "\n",
        "countries_url = \"https://dqlab.id/data/country_details.json\"\n",
        "df_countries = pd.read_json(countries_url)\n",
        "\n",
        "df_covid_denormalized = pd.merge(df_covid_worldwide.reset_index(), df_countries, on=\"geo_id\").set_index(\"date\")\n",
        "\n",
        "df_covid_denormalized_august = df_covid_denormalized.loc[\"2020-08\"].groupby(\"country_name\").sum()\n",
        "\n",
        "df_covid_denormalized_august[\"fatality_ratio\"] = df_covid_denormalized_august[\"deaths\"]/df_covid_denormalized_august[\"confirmed_cases\"]\n",
        "\n",
        "df_top_20_fatality_rate_on_august = df_covid_denormalized_august.sort_values(by=\"fatality_ratio\", ascending=False).head(20)\n",
        "print(df_top_20_fatality_rate_on_august[\"fatality_ratio\"])"
      ],
      "metadata": {
        "colab": {
          "base_uri": "https://localhost:8080/"
        },
        "id": "ahQ2_1ohRo4K",
        "outputId": "75048fc5-cebf-4aa2-fc3a-108644f29872"
      },
      "execution_count": 9,
      "outputs": [
        {
          "output_type": "stream",
          "name": "stdout",
          "text": [
            "country_name\n",
            "Yemen                     0.286473\n",
            "Italy                     0.138619\n",
            "France                    0.137979\n",
            "United_Kingdom            0.130228\n",
            "Belgium                   0.125079\n",
            "Hungary                   0.122820\n",
            "Netherlands               0.099309\n",
            "Mexico                    0.099092\n",
            "Jersey                    0.088677\n",
            "Spain                     0.079746\n",
            "Chad                      0.078870\n",
            "Montserrat                0.076923\n",
            "Canada                    0.073963\n",
            "Sweden                    0.071475\n",
            "Isle_of_Man               0.071429\n",
            "British_Virgin_Islands    0.066239\n",
            "Ireland                   0.065030\n",
            "Sudan                     0.064250\n",
            "Liberia                   0.063944\n",
            "Ecuador                   0.061031\n",
            "Name: fatality_ratio, dtype: float64\n"
          ]
        }
      ]
    },
    {
      "cell_type": "markdown",
      "source": [
        "### Visualisasi Negara dengan Fatality Ratio Tertinggi di Bulan Agustus 2020"
      ],
      "metadata": {
        "id": "Ola5otibS0dj"
      }
    },
    {
      "cell_type": "code",
      "source": [
        "import numpy as np\n",
        "import pandas as pd\n",
        "pd.set_option(\"display.max_columns\", None)\n",
        "\n",
        "covid_url = \"https://dqlab.id/data/covid19_worldwide_2020.json\"\n",
        "df_covid_worldwide = pd.read_json(covid_url)\n",
        "df_covid_worldwide = df_covid_worldwide.set_index(\"date\").sort_index().dropna()\n",
        "\n",
        "countries_url = \"https://dqlab.id/data/country_details.json\"\n",
        "df_countries = pd.read_json(countries_url)\n",
        "\n",
        "df_covid_denormalized = pd.merge(df_covid_worldwide.reset_index(), df_countries, on=\"geo_id\").set_index(\"date\")\n",
        "\n",
        "df_covid_denormalized_august = df_covid_denormalized.loc[\"2020-08\"].groupby(\"country_name\").sum()\n",
        "\n",
        "df_covid_denormalized_august[\"fatality_ratio\"] = df_covid_denormalized_august[\"deaths\"]/df_covid_denormalized_august[\"confirmed_cases\"]\n",
        "\n",
        "df_top_20_fatality_rate_on_august = df_covid_denormalized_august.sort_values(\"fatality_ratio\", ascending=False).head(20)\n",
        "\n",
        "# Visulisasi\n",
        "import matplotlib.pyplot as plt\n",
        "plt.figure(figsize=(10,6))\n",
        "df_top_20_fatality_rate_on_august[\"fatality_ratio\"].sort_values().plot(kind=\"barh\", color=\"coral\")\n",
        "plt.title(\"Top 20 Highest Fatality Rate Countries\", fontsize=18, color=\"b\")\n",
        "plt.xlabel(\"Fatality Rate\", fontsize=14)\n",
        "plt.ylabel(\"Country Name\", fontsize=14)\n",
        "plt.grid(axis=\"x\")\n",
        "plt.tight_layout()\n",
        "plt.show()"
      ],
      "metadata": {
        "colab": {
          "base_uri": "https://localhost:8080/",
          "height": 441
        },
        "id": "qRbX3FV8S3pz",
        "outputId": "626ee14b-c7ff-4aa1-8ab0-a433189e5a36"
      },
      "execution_count": 11,
      "outputs": [
        {
          "output_type": "display_data",
          "data": {
            "image/png": "[encoded data removed]",
            "text/plain": [
              "<Figure size 720x432 with 1 Axes>"
            ]
          },
          "metadata": {
            "needs_background": "light"
          }
        }
      ]
    },
    {
      "cell_type": "markdown",
      "source": [
        "# Kasus Covid-19 di ASEAN"
      ],
      "metadata": {
        "id": "TM_RMejrTxhr"
      }
    },
    {
      "cell_type": "markdown",
      "source": [
        "### Data Frame Kasus COVID-19 ASEAN"
      ],
      "metadata": {
        "id": "mICFp51BTyU7"
      }
    },
    {
      "cell_type": "code",
      "source": [
        "import numpy as np\n",
        "import pandas as pd\n",
        "pd.set_option(\"display.max_columns\", None)\n",
        "\n",
        "covid_url = \"https://dqlab.id/data/covid19_worldwide_2020.json\"\n",
        "df_covid_worldwide = pd.read_json(covid_url)\n",
        "df_covid_worldwide = df_covid_worldwide.set_index(\"date\").sort_index().dropna()\n",
        "\n",
        "countries_url = \"https://dqlab.id/data/country_details.json\"\n",
        "df_countries = pd.read_json(countries_url)\n",
        "\n",
        "df_covid_denormalized = pd.merge(df_covid_worldwide.reset_index(), df_countries, on=\"geo_id\").set_index(\"date\")\n",
        "\n",
        "asean_country_id = [\"ID\", \"MY\", \"SG\", \"TH\", \"VN\"]\n",
        "filter_list = [(df_covid_denormalized[\"geo_id\"]==country_id).to_numpy() for country_id in asean_country_id]\n",
        "filter_array = np.column_stack(filter_list).sum(axis=1, dtype=\"bool\")\n",
        "df_covid_denormalized_asean = df_covid_denormalized[filter_array].sort_index()\n",
        "\n",
        "print(\"Cek nilai unik di kolom 'country_name':\", df_covid_denormalized_asean[\"country_name\"].unique())\n",
        "print(df_covid_denormalized_asean.head())"
      ],
      "metadata": {
        "colab": {
          "base_uri": "https://localhost:8080/"
        },
        "id": "C4oVtDfeT0wq",
        "outputId": "4822d16b-ef20-4564-97ea-44db69387d37"
      },
      "execution_count": 12,
      "outputs": [
        {
          "output_type": "stream",
          "name": "stdout",
          "text": [
            "Cek nilai unik di kolom 'country_name': ['Malaysia' 'Vietnam' 'Thailand' 'Singapore' 'Indonesia']\n",
            "            daily_confirmed_cases  daily_deaths  confirmed_cases  deaths  \\\n",
            "date                                                                       \n",
            "2019-12-31                      0             0                0       0   \n",
            "2019-12-31                      0             0                0       0   \n",
            "2019-12-31                      0             0                0       0   \n",
            "2019-12-31                      0             0                0       0   \n",
            "2019-12-31                      0             0                0       0   \n",
            "\n",
            "           geo_id country_name  \n",
            "date                            \n",
            "2019-12-31     MY     Malaysia  \n",
            "2019-12-31     VN      Vietnam  \n",
            "2019-12-31     TH     Thailand  \n",
            "2019-12-31     SG    Singapore  \n",
            "2019-12-31     ID    Indonesia  \n"
          ]
        }
      ]
    },
    {
      "cell_type": "markdown",
      "source": [
        "### Kapankah Kasus Pertama COVID-19 di ASEAN"
      ],
      "metadata": {
        "id": "NCHct21NUUK0"
      }
    },
    {
      "cell_type": "code",
      "source": [
        "import numpy as np\n",
        "import pandas as pd\n",
        "pd.set_option(\"display.max_columns\", None)\n",
        "\n",
        "covid_url = \"https://dqlab.id/data/covid19_worldwide_2020.json\"\n",
        "df_covid_worldwide = pd.read_json(covid_url)\n",
        "df_covid_worldwide = df_covid_worldwide.set_index(\"date\").sort_index().dropna()\n",
        "\n",
        "countries_url = \"https://dqlab.id/data/country_details.json\"\n",
        "df_countries = pd.read_json(countries_url)\n",
        "\n",
        "df_covid_denormalized = pd.merge(df_covid_worldwide.reset_index(), df_countries, on=\"geo_id\").set_index(\"date\")\n",
        "\n",
        "asean_country_id = [\"ID\", \"MY\", \"SG\", \"TH\", \"VN\"]\n",
        "filter_list = [(df_covid_denormalized[\"geo_id\"]==country_id).to_numpy() for country_id in asean_country_id]\n",
        "filter_array = np.column_stack(filter_list).sum(axis=1, dtype=\"bool\")\n",
        "df_covid_denormalized_asean = df_covid_denormalized[filter_array].sort_index()\n",
        "\n",
        "print(\"The first case popped up in each of 5 ASEAN countries:\")\n",
        "\n",
        "for country_id in asean_country_id:\n",
        "    asean_country = df_covid_denormalized_asean[df_covid_denormalized_asean[\"geo_id\"]==country_id]\n",
        "    first_case = asean_country[asean_country[\"confirmed_cases\"]>0][[\"confirmed_cases\",\"geo_id\",\"country_name\"]]\n",
        "    print(first_case.head(1))"
      ],
      "metadata": {
        "colab": {
          "base_uri": "https://localhost:8080/"
        },
        "id": "g9b6c9fvUXDb",
        "outputId": "1feb93bd-324b-4240-973e-b73b8fb57190"
      },
      "execution_count": 13,
      "outputs": [
        {
          "output_type": "stream",
          "name": "stdout",
          "text": [
            "The first case popped up in each of 5 ASEAN countries:\n",
            "            confirmed_cases geo_id country_name\n",
            "date                                           \n",
            "2020-03-02                2     ID    Indonesia\n",
            "            confirmed_cases geo_id country_name\n",
            "date                                           \n",
            "2020-01-25                3     MY     Malaysia\n",
            "            confirmed_cases geo_id country_name\n",
            "date                                           \n",
            "2020-01-24                3     SG    Singapore\n",
            "            confirmed_cases geo_id country_name\n",
            "date                                           \n",
            "2020-01-13                1     TH     Thailand\n",
            "            confirmed_cases geo_id country_name\n",
            "date                                           \n",
            "2020-01-24                2     VN      Vietnam\n"
          ]
        }
      ]
    },
    {
      "cell_type": "markdown",
      "source": [
        "### Kasus Covid-19 di ASEAN mulai Bulan Maret 2020"
      ],
      "metadata": {
        "id": "FjuN-xo_VGcM"
      }
    },
    {
      "cell_type": "code",
      "source": [
        "import numpy as np\n",
        "import pandas as pd\n",
        "pd.set_option(\"display.max_columns\", None)\n",
        "\n",
        "covid_url = \"https://dqlab.id/data/covid19_worldwide_2020.json\"\n",
        "df_covid_worldwide = pd.read_json(covid_url)\n",
        "df_covid_worldwide = df_covid_worldwide.set_index(\"date\").sort_index().dropna()\n",
        "\n",
        "countries_url = \"https://dqlab.id/data/country_details.json\"\n",
        "df_countries = pd.read_json(countries_url)\n",
        "\n",
        "df_covid_denormalized = pd.merge(df_covid_worldwide.reset_index(), df_countries, on=\"geo_id\").set_index(\"date\")\n",
        "\n",
        "asean_country_id = [\"ID\", \"MY\", \"SG\", \"TH\", \"VN\"]\n",
        "filter_list = [(df_covid_denormalized[\"geo_id\"]==country_id).to_numpy() for country_id in asean_country_id]\n",
        "filter_array = np.column_stack(filter_list).sum(axis=1, dtype=\"bool\")\n",
        "df_covid_denormalized_asean = df_covid_denormalized[filter_array].sort_index()\n",
        "\n",
        "df_covid_denormalized_asean_march_onward = df_covid_denormalized_asean[df_covid_denormalized_asean.index>=\"2020-03-01\"]\n",
        "print(df_covid_denormalized_asean_march_onward.head())"
      ],
      "metadata": {
        "colab": {
          "base_uri": "https://localhost:8080/"
        },
        "id": "vxz_vyk-Vppn",
        "outputId": "2555391a-abf7-481a-9764-35f1780de884"
      },
      "execution_count": 1,
      "outputs": [
        {
          "output_type": "stream",
          "name": "stdout",
          "text": [
            "            daily_confirmed_cases  daily_deaths  confirmed_cases  deaths  \\\n",
            "date                                                                       \n",
            "2020-03-01                      0             1               42       1   \n",
            "2020-03-01                      4             0              102       0   \n",
            "2020-03-01                      0             0               16       0   \n",
            "2020-03-01                      0             0                0       0   \n",
            "2020-03-01                      0             0               25       0   \n",
            "\n",
            "           geo_id country_name  \n",
            "date                            \n",
            "2020-03-01     TH     Thailand  \n",
            "2020-03-01     SG    Singapore  \n",
            "2020-03-01     VN      Vietnam  \n",
            "2020-03-01     ID    Indonesia  \n",
            "2020-03-01     MY     Malaysia  \n"
          ]
        }
      ]
    }
  ]
}