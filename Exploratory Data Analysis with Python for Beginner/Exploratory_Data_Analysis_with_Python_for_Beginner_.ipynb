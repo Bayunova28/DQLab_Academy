{
  "nbformat": 4,
  "nbformat_minor": 0,
  "metadata": {
    "colab": {
      "name": "Exploratory Data Analysis with Python for Beginner .ipynb",
      "provenance": []
    },
    "kernelspec": {
      "name": "python3",
      "display_name": "Python 3"
    },
    "language_info": {
      "name": "python"
    }
  },
  "cells": [
    {
      "cell_type": "markdown",
      "source": [
        "# Exploratory Data Analysis dengan Pandas - Part 1"
      ],
      "metadata": {
        "id": "ZX-dvmlyuCVM"
      }
    },
    {
      "cell_type": "markdown",
      "source": [
        "### Tugas Praktek"
      ],
      "metadata": {
        "id": "BkZx4rcZuFrT"
      }
    },
    {
      "cell_type": "code",
      "execution_count": 3,
      "metadata": {
        "id": "7gl0wAsNt_tb"
      },
      "outputs": [],
      "source": [
        "import pandas as pd\n",
        "order_df = pd.read_csv('https://storage.googleapis.com/dqlab-dataset/order.csv')"
      ]
    },
    {
      "cell_type": "code",
      "source": [
        "import pandas as pd\n",
        "order_df = pd.read_csv(\"https://storage.googleapis.com/dqlab-dataset/order.csv\")\n",
        "print(order_df.shape)"
      ],
      "metadata": {
        "colab": {
          "base_uri": "https://localhost:8080/"
        },
        "id": "43DXeAu8uWC1",
        "outputId": "7a86db84-5a96-430d-cefe-bb93fe9f6c12"
      },
      "execution_count": 4,
      "outputs": [
        {
          "output_type": "stream",
          "name": "stdout",
          "text": [
            "(49999, 12)\n"
          ]
        }
      ]
    },
    {
      "cell_type": "code",
      "source": [
        "import pandas as pd\n",
        "order_df = pd.read_csv(\"https://storage.googleapis.com/dqlab-dataset/order.csv\")\n",
        "print(order_df.head(10))"
      ],
      "metadata": {
        "colab": {
          "base_uri": "https://localhost:8080/"
        },
        "id": "EetqaTfEub6t",
        "outputId": "bf2681f1-c76d-4c70-b358-878bc169f175"
      },
      "execution_count": 5,
      "outputs": [
        {
          "output_type": "stream",
          "name": "stdout",
          "text": [
            "                           order_id  ...  product_weight_gram\n",
            "0  2e7a8482f6fb09756ca50c10d7bfc047  ...               1800.0\n",
            "1  2e7a8482f6fb09756ca50c10d7bfc047  ...               1400.0\n",
            "2  e5fa5a7210941f7d56d0208e4e071d35  ...                700.0\n",
            "3  3b697a20d9e427646d92567910af6d57  ...                300.0\n",
            "4  71303d7e93b399f5bcd537d124c0bcfa  ...                500.0\n",
            "5  be5bc2f0da14d8071e2d45451ad119d9  ...                400.0\n",
            "6  0a0837a5eee9e7a9ce2b1fa831944d27  ...               3100.0\n",
            "7  1ff217aa612f6cd7c4255c9bfe931c8b  ...                200.0\n",
            "8  22613579f7d11cc59c4347526fc3c79e  ...                600.0\n",
            "9  356b492aba2d1a7da886e54e0b6212b7  ...                610.0\n",
            "\n",
            "[10 rows x 12 columns]\n"
          ]
        }
      ]
    },
    {
      "cell_type": "code",
      "source": [
        "import pandas as pd\n",
        "order_df = pd.read_csv(\"https://storage.googleapis.com/dqlab-dataset/order.csv\")\n",
        "\n",
        "# Quick summary  dari segi kuantitas, harga, freight value, dan weight\n",
        "print(order_df.describe())\n",
        "\n",
        "# Median median dari total pembelian konsumen per transaksi kolom price\n",
        "print(order_df.loc[:, \"price\"].median())"
      ],
      "metadata": {
        "colab": {
          "base_uri": "https://localhost:8080/"
        },
        "id": "lZUup3Xzuhh8",
        "outputId": "7557be5e-e8e0-4745-b7d4-42cd9413e327"
      },
      "execution_count": 6,
      "outputs": [
        {
          "output_type": "stream",
          "name": "stdout",
          "text": [
            "           quantity         price  freight_value  product_weight_gram\n",
            "count  49999.000000  4.999900e+04   49999.000000         49980.000000\n",
            "mean       1.197484  2.607784e+06  104521.390428          2201.830892\n",
            "std        0.722262  1.388312e+06   55179.844962          3929.896875\n",
            "min        1.000000  2.000000e+05    9000.000000            50.000000\n",
            "25%        1.000000  1.410500e+06   57000.000000           300.000000\n",
            "50%        1.000000  2.610000e+06  104000.000000           800.000000\n",
            "75%        1.000000  3.810000e+06  152000.000000          1850.000000\n",
            "max       21.000000  5.000000e+06  200000.000000         40425.000000\n",
            "2610000.0\n"
          ]
        }
      ]
    },
    {
      "cell_type": "code",
      "source": [
        "import pandas as pd\n",
        "import matplotlib.pyplot as plt\n",
        "order_df = pd.read_csv(\"https://storage.googleapis.com/dqlab-dataset/order.csv\")\n",
        "\n",
        "# plot histogram kolom: price\n",
        "order_df[['price']].hist(figsize=(4, 5), bins=10, xlabelsize=8, ylabelsize=8)\n",
        "plt.show()  # Untuk menampilkan histogram plot"
      ],
      "metadata": {
        "colab": {
          "base_uri": "https://localhost:8080/",
          "height": 348
        },
        "id": "iCsy87O7un38",
        "outputId": "fbbafdec-adb0-45d1-f552-dac70cb60d45"
      },
      "execution_count": 8,
      "outputs": [
        {
          "output_type": "display_data",
          "data": {
            "image/png": "[encoded data removed]",
            "text/plain": [
              "<Figure size 288x360 with 1 Axes>"
            ]
          },
          "metadata": {
            "needs_background": "light"
          }
        }
      ]
    },
    {
      "cell_type": "code",
      "source": [
        "import pandas as pd\n",
        "order_df = pd.read_csv(\"https://storage.googleapis.com/dqlab-dataset/order.csv\")\n",
        "\n",
        "# Standar variasi kolom product_weight_gram\n",
        "order_df.loc[:, \"product_weight_gram\"].std()\n",
        "\n",
        "# Varians kolom product_weight_gram\n",
        "order_df.loc[:, \"product_weight_gram\"].var()"
      ],
      "metadata": {
        "colab": {
          "base_uri": "https://localhost:8080/"
        },
        "id": "MGQeP-2Ouu8M",
        "outputId": "8f79fa54-8959-4346-ca41-0ed9ffa096c7"
      },
      "execution_count": 9,
      "outputs": [
        {
          "output_type": "execute_result",
          "data": {
            "text/plain": [
              "15444089.451064402"
            ]
          },
          "metadata": {},
          "execution_count": 9
        }
      ]
    },
    {
      "cell_type": "code",
      "source": [
        "import pandas as pd\n",
        "order_df = pd.read_csv(\"https://storage.googleapis.com/dqlab-dataset/order.csv\")\n",
        "\n",
        "# Hitung quartile 1\n",
        "Q1 = order_df[[\"product_weight_gram\"]].quantile(0.25)\n",
        "\n",
        "# Hitung quartile 3\n",
        "Q3 = order_df[[\"product_weight_gram\"]].quantile(0.75)\n",
        "\n",
        "# Hitung inter quartile range dan cetak ke console\n",
        "IQR = Q3 - Q1\n",
        "print(IQR)"
      ],
      "metadata": {
        "colab": {
          "base_uri": "https://localhost:8080/"
        },
        "id": "9CNwi55nu0pT",
        "outputId": "e653f269-1572-497b-b49d-47cd58692cb8"
      },
      "execution_count": 10,
      "outputs": [
        {
          "output_type": "stream",
          "name": "stdout",
          "text": [
            "product_weight_gram    1550.0\n",
            "dtype: float64\n"
          ]
        }
      ]
    },
    {
      "cell_type": "code",
      "source": [
        "import pandas as pd\n",
        "order_df = pd.read_csv(\"https://storage.googleapis.com/dqlab-dataset/order.csv\")\n",
        "\n",
        "# Ganti nama kolom freight_value menjadi shipping_cost\n",
        "order_df.rename(columns={\"freight_value\": \"shipping_cost\"}, inplace=True)\n",
        "order_df.head()"
      ],
      "metadata": {
        "colab": {
          "base_uri": "https://localhost:8080/",
          "height": 226
        },
        "id": "_v1c9xX8vCmD",
        "outputId": "28fb7215-aa67-492d-856f-53fb6d5594dd"
      },
      "execution_count": 12,
      "outputs": [
        {
          "output_type": "execute_result",
          "data": {
            "text/html": [
              "<div>\n",
              "<style scoped>\n",
              "    .dataframe tbody tr th:only-of-type {\n",
              "        vertical-align: middle;\n",
              "    }\n",
              "\n",
              "    .dataframe tbody tr th {\n",
              "        vertical-align: top;\n",
              "    }\n",
              "\n",
              "    .dataframe thead th {\n",
              "        text-align: right;\n",
              "    }\n",
              "</style>\n",
              "<table border=\"1\" class=\"dataframe\">\n",
              "  <thead>\n",
              "    <tr style=\"text-align: right;\">\n",
              "      <th></th>\n",
              "      <th>order_id</th>\n",
              "      <th>quantity</th>\n",
              "      <th>product_id</th>\n",
              "      <th>price</th>\n",
              "      <th>seller_id</th>\n",
              "      <th>shipping_cost</th>\n",
              "      <th>customer_id</th>\n",
              "      <th>order_status</th>\n",
              "      <th>purchase_date</th>\n",
              "      <th>payment_type</th>\n",
              "      <th>product_category_name</th>\n",
              "      <th>product_weight_gram</th>\n",
              "    </tr>\n",
              "  </thead>\n",
              "  <tbody>\n",
              "    <tr>\n",
              "      <th>0</th>\n",
              "      <td>2e7a8482f6fb09756ca50c10d7bfc047</td>\n",
              "      <td>2</td>\n",
              "      <td>f293394c72c9b5fafd7023301fc21fc2</td>\n",
              "      <td>1489000</td>\n",
              "      <td>1554a68530182680ad5c8b042c3ab563</td>\n",
              "      <td>28000</td>\n",
              "      <td>08c5351a6aca1c1589a38f244edeee9d</td>\n",
              "      <td>shipped</td>\n",
              "      <td>2016-09-05</td>\n",
              "      <td>virtual account</td>\n",
              "      <td>fashion</td>\n",
              "      <td>1800.0</td>\n",
              "    </tr>\n",
              "    <tr>\n",
              "      <th>1</th>\n",
              "      <td>2e7a8482f6fb09756ca50c10d7bfc047</td>\n",
              "      <td>1</td>\n",
              "      <td>c1488892604e4ba5cff5b4eb4d595400</td>\n",
              "      <td>1756000</td>\n",
              "      <td>1554a68530182680ad5c8b042c3ab563</td>\n",
              "      <td>45000</td>\n",
              "      <td>08c5351a6aca1c1589a38f244edeee9d</td>\n",
              "      <td>shipped</td>\n",
              "      <td>2016-09-05</td>\n",
              "      <td>virtual account</td>\n",
              "      <td>automotive</td>\n",
              "      <td>1400.0</td>\n",
              "    </tr>\n",
              "    <tr>\n",
              "      <th>2</th>\n",
              "      <td>e5fa5a7210941f7d56d0208e4e071d35</td>\n",
              "      <td>1</td>\n",
              "      <td>f3c2d01a84c947b078e32bbef0718962</td>\n",
              "      <td>1707000</td>\n",
              "      <td>a425f92c199eb576938df686728acd20</td>\n",
              "      <td>174000</td>\n",
              "      <td>683c54fc24d40ee9f8a6fc179fd9856c</td>\n",
              "      <td>canceled</td>\n",
              "      <td>2016-09-05</td>\n",
              "      <td>e-wallet</td>\n",
              "      <td>toys</td>\n",
              "      <td>700.0</td>\n",
              "    </tr>\n",
              "    <tr>\n",
              "      <th>3</th>\n",
              "      <td>3b697a20d9e427646d92567910af6d57</td>\n",
              "      <td>1</td>\n",
              "      <td>3ae08df6bcbfe23586dd431c40bddbb7</td>\n",
              "      <td>3071000</td>\n",
              "      <td>522620dcb18a6b31cd7bdf73665113a9</td>\n",
              "      <td>154000</td>\n",
              "      <td>355077684019f7f60a031656bd7262b8</td>\n",
              "      <td>delivered</td>\n",
              "      <td>2016-10-03</td>\n",
              "      <td>e-wallet</td>\n",
              "      <td>utilities</td>\n",
              "      <td>300.0</td>\n",
              "    </tr>\n",
              "    <tr>\n",
              "      <th>4</th>\n",
              "      <td>71303d7e93b399f5bcd537d124c0bcfa</td>\n",
              "      <td>1</td>\n",
              "      <td>d2998d7ced12f83f9b832f33cf6507b6</td>\n",
              "      <td>3833000</td>\n",
              "      <td>25e6ffe976bd75618accfe16cefcbd0d</td>\n",
              "      <td>147000</td>\n",
              "      <td>b106b360fe2ef8849fbbd056f777b4d5</td>\n",
              "      <td>canceled</td>\n",
              "      <td>2016-10-03</td>\n",
              "      <td>e-wallet</td>\n",
              "      <td>fashion</td>\n",
              "      <td>500.0</td>\n",
              "    </tr>\n",
              "  </tbody>\n",
              "</table>\n",
              "</div>"
            ],
            "text/plain": [
              "                           order_id  ...  product_weight_gram\n",
              "0  2e7a8482f6fb09756ca50c10d7bfc047  ...               1800.0\n",
              "1  2e7a8482f6fb09756ca50c10d7bfc047  ...               1400.0\n",
              "2  e5fa5a7210941f7d56d0208e4e071d35  ...                700.0\n",
              "3  3b697a20d9e427646d92567910af6d57  ...                300.0\n",
              "4  71303d7e93b399f5bcd537d124c0bcfa  ...                500.0\n",
              "\n",
              "[5 rows x 12 columns]"
            ]
          },
          "metadata": {},
          "execution_count": 12
        }
      ]
    },
    {
      "cell_type": "code",
      "source": [
        "import pandas as pd\n",
        "order_df = pd.read_csv(\"https://storage.googleapis.com/dqlab-dataset/order.csv\")\n",
        "\n",
        "# Hitung rata rata dari price per payment_type\n",
        "rata_rata = order_df[\"price\"].groupby(order_df[\"payment_type\"]).mean()\n",
        "print(rata_rata)"
      ],
      "metadata": {
        "colab": {
          "base_uri": "https://localhost:8080/"
        },
        "id": "JIVQgWySvUmc",
        "outputId": "581a35da-5ee9-4177-f1b6-65f286bcaad4"
      },
      "execution_count": 13,
      "outputs": [
        {
          "output_type": "stream",
          "name": "stdout",
          "text": [
            "payment_type\n",
            "credit card        2.600706e+06\n",
            "debit card         2.611974e+06\n",
            "e-wallet           2.598562e+06\n",
            "virtual account    2.619786e+06\n",
            "Name: price, dtype: float64\n"
          ]
        }
      ]
    },
    {
      "cell_type": "code",
      "source": [
        "import pandas as pd\n",
        "order_df = pd.read_csv(\"https://storage.googleapis.com/dqlab-dataset/order.csv\")\n",
        "\n",
        "# Hitung harga maksimum pembelian customer\n",
        "sort_harga = order_df.sort_values(by=\"price\", ascending=False)\n",
        "sort_harga.head()"
      ],
      "metadata": {
        "colab": {
          "base_uri": "https://localhost:8080/",
          "height": 226
        },
        "id": "f8T7gTg3viI8",
        "outputId": "436055e6-045d-4d28-d069-85fa9f7bbff5"
      },
      "execution_count": 15,
      "outputs": [
        {
          "output_type": "execute_result",
          "data": {
            "text/html": [
              "<div>\n",
              "<style scoped>\n",
              "    .dataframe tbody tr th:only-of-type {\n",
              "        vertical-align: middle;\n",
              "    }\n",
              "\n",
              "    .dataframe tbody tr th {\n",
              "        vertical-align: top;\n",
              "    }\n",
              "\n",
              "    .dataframe thead th {\n",
              "        text-align: right;\n",
              "    }\n",
              "</style>\n",
              "<table border=\"1\" class=\"dataframe\">\n",
              "  <thead>\n",
              "    <tr style=\"text-align: right;\">\n",
              "      <th></th>\n",
              "      <th>order_id</th>\n",
              "      <th>quantity</th>\n",
              "      <th>product_id</th>\n",
              "      <th>price</th>\n",
              "      <th>seller_id</th>\n",
              "      <th>freight_value</th>\n",
              "      <th>customer_id</th>\n",
              "      <th>order_status</th>\n",
              "      <th>purchase_date</th>\n",
              "      <th>payment_type</th>\n",
              "      <th>product_category_name</th>\n",
              "      <th>product_weight_gram</th>\n",
              "    </tr>\n",
              "  </thead>\n",
              "  <tbody>\n",
              "    <tr>\n",
              "      <th>37085</th>\n",
              "      <td>d7b2d3b902441cf3dd12cd125533217d</td>\n",
              "      <td>1</td>\n",
              "      <td>35afc973633aaeb6b877ff57b2793310</td>\n",
              "      <td>5000000</td>\n",
              "      <td>4a3ca9315b744ce9f8e9374361493884</td>\n",
              "      <td>118000</td>\n",
              "      <td>217344c7c334e16c8e76551b4b240c1d</td>\n",
              "      <td>delivered</td>\n",
              "      <td>2017-10-31</td>\n",
              "      <td>debit card</td>\n",
              "      <td>beauty</td>\n",
              "      <td>1825.0</td>\n",
              "    </tr>\n",
              "    <tr>\n",
              "      <th>41958</th>\n",
              "      <td>2711089c7fec59d4dc8483e3c6a12fa3</td>\n",
              "      <td>1</td>\n",
              "      <td>7c1bd920dbdf22470b68bde975dd3ccf</td>\n",
              "      <td>5000000</td>\n",
              "      <td>cc419e0650a3c5ba77189a1882b7556a</td>\n",
              "      <td>31000</td>\n",
              "      <td>0ef59d9bb071def3dbf7e7b055965e95</td>\n",
              "      <td>delivered</td>\n",
              "      <td>2017-11-24</td>\n",
              "      <td>e-wallet</td>\n",
              "      <td>fashion</td>\n",
              "      <td>200.0</td>\n",
              "    </tr>\n",
              "    <tr>\n",
              "      <th>3976</th>\n",
              "      <td>f343624eab419250ad81f1ce6be22c93</td>\n",
              "      <td>1</td>\n",
              "      <td>777d2e438a1b645f3aec9bd57e92672c</td>\n",
              "      <td>5000000</td>\n",
              "      <td>4a3ca9315b744ce9f8e9374361493884</td>\n",
              "      <td>101000</td>\n",
              "      <td>3fc0d940852ab274e532e80b1c1d5c2f</td>\n",
              "      <td>delivered</td>\n",
              "      <td>2017-03-07</td>\n",
              "      <td>debit card</td>\n",
              "      <td>gadget</td>\n",
              "      <td>950.0</td>\n",
              "    </tr>\n",
              "    <tr>\n",
              "      <th>21072</th>\n",
              "      <td>c8947a583ab9791a5a9d02384cb84302</td>\n",
              "      <td>1</td>\n",
              "      <td>f8cfb63e323be2e1c4172f255d61843d</td>\n",
              "      <td>5000000</td>\n",
              "      <td>4a3ca9315b744ce9f8e9374361493884</td>\n",
              "      <td>184000</td>\n",
              "      <td>57c047e791e69bef0af220b0a165a22d</td>\n",
              "      <td>delivered</td>\n",
              "      <td>2017-07-27</td>\n",
              "      <td>credit card</td>\n",
              "      <td>beauty</td>\n",
              "      <td>550.0</td>\n",
              "    </tr>\n",
              "    <tr>\n",
              "      <th>47074</th>\n",
              "      <td>f6134169ca6f0cdfbe6458ebb5731613</td>\n",
              "      <td>1</td>\n",
              "      <td>2ea92fab7565c4fe9f91a5e4e1756258</td>\n",
              "      <td>5000000</td>\n",
              "      <td>3d871de0142ce09b7081e2b9d1733cb1</td>\n",
              "      <td>196000</td>\n",
              "      <td>cbfdcc896d6ebc83c21fdcf4f4762efc</td>\n",
              "      <td>delivered</td>\n",
              "      <td>2017-12-04</td>\n",
              "      <td>virtual account</td>\n",
              "      <td>gadget</td>\n",
              "      <td>10600.0</td>\n",
              "    </tr>\n",
              "  </tbody>\n",
              "</table>\n",
              "</div>"
            ],
            "text/plain": [
              "                               order_id  ...  product_weight_gram\n",
              "37085  d7b2d3b902441cf3dd12cd125533217d  ...               1825.0\n",
              "41958  2711089c7fec59d4dc8483e3c6a12fa3  ...                200.0\n",
              "3976   f343624eab419250ad81f1ce6be22c93  ...                950.0\n",
              "21072  c8947a583ab9791a5a9d02384cb84302  ...                550.0\n",
              "47074  f6134169ca6f0cdfbe6458ebb5731613  ...              10600.0\n",
              "\n",
              "[5 rows x 12 columns]"
            ]
          },
          "metadata": {},
          "execution_count": 15
        }
      ]
    },
    {
      "cell_type": "markdown",
      "source": [
        "# Mini Project"
      ],
      "metadata": {
        "id": "QIrT1C6luKP0"
      }
    },
    {
      "cell_type": "markdown",
      "source": [
        "### Tugas dari Andra"
      ],
      "metadata": {
        "id": "PtqOlI0wwNCs"
      }
    },
    {
      "cell_type": "code",
      "source": [
        "import pandas as pd\n",
        "import matplotlib.pyplot as plt\n",
        "order_df = pd.read_csv(\"https://storage.googleapis.com/dqlab-dataset/order.csv\")\n",
        "\n",
        "# Median price yang dibayar customer dari masing-masing metode pembayaran.\n",
        "median_price = order_df[\"price\"].groupby(order_df[\"payment_type\"]).median()\n",
        "print(median_price)\n",
        "\n",
        "# Ubah freight_value menjadi shipping_cost dan cari shipping_cost\n",
        "# termahal dari data penjualan tersebut menggunakan sort.\n",
        "order_df.rename(columns={\"freight_value\": \"shipping_cost\"}, inplace=True)\n",
        "sort_value = order_df.sort_values(by=\"shipping_cost\", ascending=0)\n",
        "sort_value.head()"
      ],
      "metadata": {
        "colab": {
          "base_uri": "https://localhost:8080/",
          "height": 330
        },
        "id": "wRUPBKX2wPa2",
        "outputId": "bee8bd34-c1a5-4a34-b9e8-cd5e04c31ce7"
      },
      "execution_count": 19,
      "outputs": [
        {
          "output_type": "stream",
          "name": "stdout",
          "text": [
            "payment_type\n",
            "credit card        2587500\n",
            "debit card         2621500\n",
            "e-wallet           2589000\n",
            "virtual account    2643000\n",
            "Name: price, dtype: int64\n"
          ]
        },
        {
          "output_type": "execute_result",
          "data": {
            "text/html": [
              "<div>\n",
              "<style scoped>\n",
              "    .dataframe tbody tr th:only-of-type {\n",
              "        vertical-align: middle;\n",
              "    }\n",
              "\n",
              "    .dataframe tbody tr th {\n",
              "        vertical-align: top;\n",
              "    }\n",
              "\n",
              "    .dataframe thead th {\n",
              "        text-align: right;\n",
              "    }\n",
              "</style>\n",
              "<table border=\"1\" class=\"dataframe\">\n",
              "  <thead>\n",
              "    <tr style=\"text-align: right;\">\n",
              "      <th></th>\n",
              "      <th>order_id</th>\n",
              "      <th>quantity</th>\n",
              "      <th>product_id</th>\n",
              "      <th>price</th>\n",
              "      <th>seller_id</th>\n",
              "      <th>shipping_cost</th>\n",
              "      <th>customer_id</th>\n",
              "      <th>order_status</th>\n",
              "      <th>purchase_date</th>\n",
              "      <th>payment_type</th>\n",
              "      <th>product_category_name</th>\n",
              "      <th>product_weight_gram</th>\n",
              "    </tr>\n",
              "  </thead>\n",
              "  <tbody>\n",
              "    <tr>\n",
              "      <th>23829</th>\n",
              "      <td>7d63cb1d349e7bd0ee1edcc61ea71077</td>\n",
              "      <td>1</td>\n",
              "      <td>75d6b6963340c6063f7f4cfcccfe6a30</td>\n",
              "      <td>1472000</td>\n",
              "      <td>cc419e0650a3c5ba77189a1882b7556a</td>\n",
              "      <td>200000</td>\n",
              "      <td>484711e3d14ac75fb874e949b3a28395</td>\n",
              "      <td>delivered</td>\n",
              "      <td>2017-08-14</td>\n",
              "      <td>credit card</td>\n",
              "      <td>gadget</td>\n",
              "      <td>400.0</td>\n",
              "    </tr>\n",
              "    <tr>\n",
              "      <th>12011</th>\n",
              "      <td>00c9f7d4b0e87781465e562dc109f6aa</td>\n",
              "      <td>1</td>\n",
              "      <td>1a0d662b65b5ef08796501b064c853af</td>\n",
              "      <td>4543000</td>\n",
              "      <td>2e0dba2da448400b1c11d7b4b22f32a4</td>\n",
              "      <td>200000</td>\n",
              "      <td>cea80f9af87104810bd7fa9698f69d29</td>\n",
              "      <td>delivered</td>\n",
              "      <td>2017-05-22</td>\n",
              "      <td>e-wallet</td>\n",
              "      <td>toys</td>\n",
              "      <td>900.0</td>\n",
              "    </tr>\n",
              "    <tr>\n",
              "      <th>10984</th>\n",
              "      <td>69013d19f8db4cd7dc9f3b5c2564a96f</td>\n",
              "      <td>1</td>\n",
              "      <td>10d196ec072e2d8382c7ec9c942d7ea8</td>\n",
              "      <td>4137000</td>\n",
              "      <td>d12c926d74ceff0a90a21184466ce161</td>\n",
              "      <td>200000</td>\n",
              "      <td>9cf423929ed7f738fd0a0e88607a79fd</td>\n",
              "      <td>delivered</td>\n",
              "      <td>2017-05-15</td>\n",
              "      <td>credit card</td>\n",
              "      <td>utilities</td>\n",
              "      <td>250.0</td>\n",
              "    </tr>\n",
              "    <tr>\n",
              "      <th>29722</th>\n",
              "      <td>f32c4d2b078bc5a354f4c1184522b5ff</td>\n",
              "      <td>1</td>\n",
              "      <td>0f789be671fe3bd93cabfbb4a710f282</td>\n",
              "      <td>4802000</td>\n",
              "      <td>259f7b5e6e482c230e5bfaa670b6bb8f</td>\n",
              "      <td>200000</td>\n",
              "      <td>5a1523d32a6d1b323a05895f5164655d</td>\n",
              "      <td>delivered</td>\n",
              "      <td>2017-09-18</td>\n",
              "      <td>credit card</td>\n",
              "      <td>toys</td>\n",
              "      <td>450.0</td>\n",
              "    </tr>\n",
              "    <tr>\n",
              "      <th>15259</th>\n",
              "      <td>c8eab0ccabe8cdfc2afce66c1c554ae2</td>\n",
              "      <td>1</td>\n",
              "      <td>800f75019492a0d9ffb2483ae65b59f1</td>\n",
              "      <td>4078000</td>\n",
              "      <td>efcd8d2104f1a05d028af7bad20d974b</td>\n",
              "      <td>200000</td>\n",
              "      <td>2339ab3abbeebe72f2782a01c87a9bc0</td>\n",
              "      <td>delivered</td>\n",
              "      <td>2017-06-14</td>\n",
              "      <td>debit card</td>\n",
              "      <td>sports</td>\n",
              "      <td>100.0</td>\n",
              "    </tr>\n",
              "  </tbody>\n",
              "</table>\n",
              "</div>"
            ],
            "text/plain": [
              "                               order_id  ...  product_weight_gram\n",
              "23829  7d63cb1d349e7bd0ee1edcc61ea71077  ...                400.0\n",
              "12011  00c9f7d4b0e87781465e562dc109f6aa  ...                900.0\n",
              "10984  69013d19f8db4cd7dc9f3b5c2564a96f  ...                250.0\n",
              "29722  f32c4d2b078bc5a354f4c1184522b5ff  ...                450.0\n",
              "15259  c8eab0ccabe8cdfc2afce66c1c554ae2  ...                100.0\n",
              "\n",
              "[5 rows x 12 columns]"
            ]
          },
          "metadata": {},
          "execution_count": 19
        }
      ]
    },
    {
      "cell_type": "code",
      "source": [
        "# Untuk product_category_name, berapa rata-rata weight produk tersebut\n",
        "# dan standar deviasi mana yang terkecil dari weight tersebut,\n",
        "mean_value = order_df[\"product_weight_gram\"].groupby(order_df[\"product_category_name\"]).mean()\n",
        "print(mean_value.sort_values())\n",
        "std_value = order_df[\"product_weight_gram\"].groupby(order_df[\"product_category_name\"]).std()\n",
        "print(std_value.sort_values())"
      ],
      "metadata": {
        "colab": {
          "base_uri": "https://localhost:8080/"
        },
        "id": "itl5K-yfwkPs",
        "outputId": "1d6b1f59-c885-4415-8979-2b8cd29f5881"
      },
      "execution_count": 20,
      "outputs": [
        {
          "output_type": "stream",
          "name": "stdout",
          "text": [
            "product_category_name\n",
            "beauty         2120.088396\n",
            "automotive     2129.559039\n",
            "electronics    2144.751191\n",
            "toys           2203.863643\n",
            "gadget         2229.632942\n",
            "fashion        2246.516901\n",
            "sports         2251.879909\n",
            "utilities      2291.029868\n",
            "Name: product_weight_gram, dtype: float64\n",
            "product_category_name\n",
            "automotive     3799.884166\n",
            "beauty         3837.474929\n",
            "electronics    3839.271768\n",
            "fashion        3858.885213\n",
            "gadget         3955.792741\n",
            "toys           3956.814749\n",
            "sports         4032.850044\n",
            "utilities      4150.509909\n",
            "Name: product_weight_gram, dtype: float64\n"
          ]
        }
      ]
    },
    {
      "cell_type": "code",
      "source": [
        "# Buat histogram quantity penjualan dari dataset tersebutuntuk melihat persebaran quantity\n",
        "# penjualan tersebut dengan bins = 5 dan figsize= (4,5)\n",
        "order_df[[\"quantity\"]].hist(figsize=(4, 5), bins=5)\n",
        "plt.show()"
      ],
      "metadata": {
        "colab": {
          "base_uri": "https://localhost:8080/",
          "height": 336
        },
        "id": "UMxMp99iwYul",
        "outputId": "080fca81-8c5f-420f-98f9-949a0d713f8b"
      },
      "execution_count": 18,
      "outputs": [
        {
          "output_type": "display_data",
          "data": {
            "image/png": "[encoded data removed]",
            "text/plain": [
              "<Figure size 288x360 with 1 Axes>"
            ]
          },
          "metadata": {
            "needs_background": "light"
          }
        }
      ]
    }
  ]
}