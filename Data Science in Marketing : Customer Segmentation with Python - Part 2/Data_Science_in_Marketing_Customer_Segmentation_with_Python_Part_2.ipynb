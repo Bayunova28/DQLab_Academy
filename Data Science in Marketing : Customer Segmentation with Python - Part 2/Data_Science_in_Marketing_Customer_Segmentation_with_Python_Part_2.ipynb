{
  "nbformat": 4,
  "nbformat_minor": 0,
  "metadata": {
    "colab": {
      "name": "Data Science in Marketing : Customer Segmentation with Python - Part 2.ipynb",
      "provenance": []
    },
    "kernelspec": {
      "name": "python3",
      "display_name": "Python 3"
    },
    "language_info": {
      "name": "python"
    }
  },
  "cells": [
    {
      "cell_type": "markdown",
      "source": [
        "# Permodelan"
      ],
      "metadata": {
        "id": "pzehjGx_uoAG"
      }
    },
    {
      "cell_type": "markdown",
      "source": [
        "### Mencari Jumlah Cluster yang Optimal"
      ],
      "metadata": {
        "id": "G673B1Dnunxf"
      }
    },
    {
      "cell_type": "code",
      "source": [
        "#install library\n",
        "!pip3 install kmodes"
      ],
      "metadata": {
        "colab": {
          "base_uri": "https://localhost:8080/"
        },
        "id": "k-Ni1jGgwWzf",
        "outputId": "0ea43db5-f740-49f9-f7b5-b51fe1341e47"
      },
      "execution_count": 2,
      "outputs": [
        {
          "output_type": "stream",
          "name": "stdout",
          "text": [
            "Collecting kmodes\n",
            "  Downloading kmodes-0.11.1-py2.py3-none-any.whl (19 kB)\n",
            "Requirement already satisfied: numpy>=1.10.4 in /usr/local/lib/python3.7/dist-packages (from kmodes) (1.19.5)\n",
            "Requirement already satisfied: scipy>=0.13.3 in /usr/local/lib/python3.7/dist-packages (from kmodes) (1.4.1)\n",
            "Requirement already satisfied: scikit-learn>=0.22.0 in /usr/local/lib/python3.7/dist-packages (from kmodes) (1.0.1)\n",
            "Requirement already satisfied: joblib>=0.11 in /usr/local/lib/python3.7/dist-packages (from kmodes) (1.1.0)\n",
            "Requirement already satisfied: threadpoolctl>=2.0.0 in /usr/local/lib/python3.7/dist-packages (from scikit-learn>=0.22.0->kmodes) (3.0.0)\n",
            "Installing collected packages: kmodes\n",
            "Successfully installed kmodes-0.11.1\n"
          ]
        }
      ]
    },
    {
      "cell_type": "code",
      "execution_count": 3,
      "metadata": {
        "colab": {
          "base_uri": "https://localhost:8080/",
          "height": 265
        },
        "id": "Q7SXA19xufpy",
        "outputId": "469aa09d-4580-4539-9d8a-334067d13fba"
      },
      "outputs": [
        {
          "output_type": "display_data",
          "data": {
            "image/png": "[encoded data removed]",
            "text/plain": [
              "<Figure size 432x288 with 1 Axes>"
            ]
          },
          "metadata": {
            "needs_background": "light"
          }
        }
      ],
      "source": [
        "from kmodes.kmodes import KModes  \n",
        "from kmodes.kprototypes import KPrototypes  \n",
        "import pandas as pd\n",
        "import seaborn as sns\n",
        "import matplotlib.pyplot as plt  \n",
        "df_model = pd.read_csv('https://storage.googleapis.com/dqlab-dataset/df-customer-segmentation.csv')\n",
        "\n",
        "# Melakukan Iterasi untuk Mendapatkan nilai Cost  \n",
        "cost = {}  \n",
        "for k in range(2,10):  \n",
        "    kproto = KPrototypes (n_clusters = k,random_state=75)  \n",
        "    kproto.fit_predict(df_model, categorical=[0,1,2])  \n",
        "    cost[k]= kproto.cost_  \n",
        "  \n",
        "# Memvisualisasikan Elbow Plot  \n",
        "sns.pointplot(x=list(cost.keys()), y=list(cost.values()))  \n",
        "plt.show()"
      ]
    },
    {
      "cell_type": "markdown",
      "source": [
        "### Membuat Model"
      ],
      "metadata": {
        "id": "PV9ggku9vVxQ"
      }
    },
    {
      "cell_type": "code",
      "source": [
        "import pandas as pd \n",
        "df_model = pd.read_csv('https://storage.googleapis.com/dqlab-dataset/df-customer-segmentation.csv')\n",
        "\n",
        "import pickle  \n",
        "from kmodes.kmodes import KModes  \n",
        "from kmodes.kprototypes import KPrototypes  \n",
        "  \n",
        "kproto = KPrototypes (n_clusters = 5, random_state = 75)  \n",
        "kproto = kproto.fit(df_model, categorical = [0,1,2])  \n",
        "  \n",
        "#Save Model  \n",
        "pickle.dump(kproto, open('cluster.pkl', 'wb'))  "
      ],
      "metadata": {
        "id": "L5xiel26vYnu"
      },
      "execution_count": 4,
      "outputs": []
    },
    {
      "cell_type": "markdown",
      "source": [
        "### Menggunakan Model"
      ],
      "metadata": {
        "id": "Za0DUQ277V0W"
      }
    },
    {
      "cell_type": "code",
      "source": [
        "import pandas as pd\n",
        "from kmodes.kmodes import KModes  \n",
        "from kmodes.kprototypes import KPrototypes  \n",
        "df = pd.read_csv(\"https://storage.googleapis.com/dqlab-dataset/customer_segments.txt\", sep=\"\\t\") \n",
        "df_model = pd.read_csv('https://storage.googleapis.com/dqlab-dataset/df-customer-segmentation.csv')\n",
        "kproto = KPrototypes(n_clusters=5, random_state = 75)  \n",
        "kproto = kproto.fit(df_model, categorical=[0,1,2])  \n",
        "\n",
        "# Menentukan segmen tiap pelanggan    \n",
        "clusters =  kproto.predict(df_model, categorical = [0,1,2])    \n",
        "print('segmen pelanggan: {}\\n'.format(clusters))    \n",
        "    \n",
        "# Menggabungkan data awal dan segmen pelanggan    \n",
        "df_final = df.copy()    \n",
        "df_final['cluster'] = clusters\n",
        "print(df_final.head())   "
      ],
      "metadata": {
        "colab": {
          "base_uri": "https://localhost:8080/"
        },
        "id": "HIiEeuvg7k3e",
        "outputId": "488fc308-83cb-431e-8fd7-9fbf92f18393"
      },
      "execution_count": 5,
      "outputs": [
        {
          "output_type": "stream",
          "name": "stdout",
          "text": [
            "segmen pelanggan: [1 0 2 2 3 4 1 2 4 4 2 2 1 1 3 4 4 2 3 0 3 2 4 3 3 2 3 4 2 2 0 1 0 3 4 3 4\n",
            " 1 4 0 4 3 4 3 4 3 2 1 4 1]\n",
            "\n",
            "  Customer_ID       Nama Pelanggan  ... NilaiBelanjaSetahun  cluster\n",
            "0    CUST-001         Budi Anggara  ...             9497927        1\n",
            "1    CUST-002     Shirley Ratuwati  ...             2722700        0\n",
            "2    CUST-003         Agus Cahyono  ...             5286429        2\n",
            "3    CUST-004     Antonius Winarta  ...             5204498        2\n",
            "4    CUST-005  Ibu Sri Wahyuni, IR  ...            10615206        3\n",
            "\n",
            "[5 rows x 8 columns]\n"
          ]
        }
      ]
    },
    {
      "cell_type": "markdown",
      "source": [
        "### Menampilkan Cluster Tiap Pelanggan"
      ],
      "metadata": {
        "id": "HAFKf8u07ouN"
      }
    },
    {
      "cell_type": "code",
      "source": [
        "import pandas as pd\n",
        "from kmodes.kmodes import KModes  \n",
        "from kmodes.kprototypes import KPrototypes  \n",
        "df = pd.read_csv(\"https://storage.googleapis.com/dqlab-dataset/customer_segments.txt\", sep=\"\\t\") \n",
        "df_model = pd.read_csv('https://storage.googleapis.com/dqlab-dataset/df-customer-segmentation.csv')\n",
        "kproto = KPrototypes(n_clusters=5, random_state = 75)  \n",
        "kproto = kproto.fit(df_model, categorical=[0,1,2])  \n",
        "\n",
        "clusters =  kproto.predict(df_model, categorical=[0,1,2]) \n",
        "df_final = df.copy()    \n",
        "df_final['cluster'] = clusters \n",
        "\n",
        "# Menampilkan data pelanggan berdasarkan cluster nya  \n",
        "for i in range (0,5):  \n",
        "    print('\\nPelanggan cluster: {}\\n'.format(i))  \n",
        "    print(df_final[df_final['cluster']== i])"
      ],
      "metadata": {
        "colab": {
          "base_uri": "https://localhost:8080/"
        },
        "id": "vpn5k8ey7vCl",
        "outputId": "a1b41121-bd63-4672-c405-ed7f09343a0d"
      },
      "execution_count": 8,
      "outputs": [
        {
          "output_type": "stream",
          "name": "stdout",
          "text": [
            "\n",
            "Pelanggan cluster: 0\n",
            "\n",
            "   Customer_ID    Nama Pelanggan  ... NilaiBelanjaSetahun  cluster\n",
            "1     CUST-002  Shirley Ratuwati  ...             2722700        0\n",
            "19    CUST-020    Irene Novianto  ...             2896845        0\n",
            "30    CUST-031     Eviana Handry  ...             3042773        0\n",
            "32    CUST-033   Cecilia Kusnadi  ...             3047926        0\n",
            "39    CUST-040    Irene Darmawan  ...             2861855        0\n",
            "\n",
            "[5 rows x 8 columns]\n",
            "\n",
            "Pelanggan cluster: 1\n",
            "\n",
            "   Customer_ID    Nama Pelanggan  ... NilaiBelanjaSetahun  cluster\n",
            "0     CUST-001      Budi Anggara  ...             9497927        1\n",
            "6     CUST-007     Cahyono, Agus  ...             9837260        1\n",
            "12    CUST-013      Cahaya Putri  ...             9333168        1\n",
            "13    CUST-014    Mario Setiawan  ...             9471615        1\n",
            "31    CUST-032   Chintya Winarni  ...            10663179        1\n",
            "37    CUST-038      Agatha Salim  ...            10477127        1\n",
            "47    CUST-048  Maria Hutagalung  ...            10390732        1\n",
            "49    CUST-050    Lianna Nugraha  ...            10569316        1\n",
            "\n",
            "[8 rows x 8 columns]\n",
            "\n",
            "Pelanggan cluster: 2\n",
            "\n",
            "   Customer_ID     Nama Pelanggan  ... NilaiBelanjaSetahun  cluster\n",
            "2     CUST-003       Agus Cahyono  ...             5286429        2\n",
            "3     CUST-004   Antonius Winarta  ...             5204498        2\n",
            "7     CUST-008     Danang Santosa  ...             5223569        2\n",
            "10    CUST-011     Maria Suryawan  ...             5987367        2\n",
            "11    CUST-012    Erliana Widjaja  ...             5941914        2\n",
            "17    CUST-018        Nelly Halim  ...             5340690        2\n",
            "21    CUST-022       Novita Purba  ...             5298157        2\n",
            "25    CUST-026  Christine Winarto  ...             5269392        2\n",
            "28    CUST-029       Tia Hartanti  ...             5271845        2\n",
            "29    CUST-030     Rosita Saragih  ...             5020976        2\n",
            "46    CUST-047        Mira Kurnia  ...             6130724        2\n",
            "\n",
            "[11 rows x 8 columns]\n",
            "\n",
            "Pelanggan cluster: 3\n",
            "\n",
            "   Customer_ID       Nama Pelanggan  ... NilaiBelanjaSetahun  cluster\n",
            "4     CUST-005  Ibu Sri Wahyuni, IR  ...            10615206        3\n",
            "14    CUST-015     Shirley Ratuwati  ...            10365668        3\n",
            "18    CUST-019         Mega Pranoto  ...            10884508        3\n",
            "20    CUST-021     Lestari Fabianto  ...             9222070        3\n",
            "23    CUST-024        Putri Ginting  ...            10259572        3\n",
            "24    CUST-025       Julia Setiawan  ...            10721998        3\n",
            "26    CUST-027        Grace Mulyati  ...             9114159        3\n",
            "33    CUST-034       Deasy Arisandi  ...             9759822        3\n",
            "35    CUST-036       Ni Made Suasti  ...             9678994        3\n",
            "41    CUST-042         Yuliana Wati  ...             9880607        3\n",
            "43    CUST-044                 Anna  ...             9339737        3\n",
            "45    CUST-046         Elfira Surya  ...            10099807        3\n",
            "\n",
            "[12 rows x 8 columns]\n",
            "\n",
            "Pelanggan cluster: 4\n",
            "\n",
            "   Customer_ID         Nama Pelanggan  ... NilaiBelanjaSetahun  cluster\n",
            "5     CUST-006        Rosalina Kurnia  ...             5215541        4\n",
            "8     CUST-009  Elisabeth Suryadinata  ...             5993218        4\n",
            "9     CUST-010         Mario Setiawan  ...             5257448        4\n",
            "15    CUST-016           Bambang Rudi  ...             5262521        4\n",
            "16    CUST-017              Yuni Sari  ...             5677762        4\n",
            "22    CUST-023        Denny Amiruddin  ...             5239290        4\n",
            "27    CUST-028          Adeline Huang  ...             6631680        4\n",
            "34    CUST-035                Ida Ayu  ...             5962575        4\n",
            "36    CUST-037       Felicia Tandiono  ...             5972787        4\n",
            "38    CUST-039           Gina Hidayat  ...             5257775        4\n",
            "40    CUST-041       Shinta Aritonang  ...             6820976        4\n",
            "42    CUST-043           Yenna Sumadi  ...             5268410        4\n",
            "44    CUST-045         Rismawati Juni  ...             5211041        4\n",
            "48    CUST-049        Josephine Wahab  ...             4992585        4\n",
            "\n",
            "[14 rows x 8 columns]\n"
          ]
        }
      ]
    },
    {
      "cell_type": "markdown",
      "source": [
        "### Visualisasi Hasil Clustering - Box Plot"
      ],
      "metadata": {
        "id": "obNHkEGB7-RO"
      }
    },
    {
      "cell_type": "code",
      "source": [
        "import pandas as pd\n",
        "import seaborn as sns\n",
        "import matplotlib.pyplot as plt\n",
        "from kmodes.kmodes import KModes  \n",
        "from kmodes.kprototypes import KPrototypes  \n",
        "df = pd.read_csv(\"https://storage.googleapis.com/dqlab-dataset/customer_segments.txt\", sep=\"\\t\") \n",
        "df_model = pd.read_csv('https://storage.googleapis.com/dqlab-dataset/df-customer-segmentation.csv')\n",
        "kproto = KPrototypes(n_clusters=5, random_state = 75)  \n",
        "kproto = kproto.fit(df_model, categorical=[0,1,2])  \n",
        "\n",
        "clusters =  kproto.predict(df_model, categorical=[0,1,2]) \n",
        "df_final = df.copy()    \n",
        "df_final['cluster'] = clusters \n",
        "\n",
        "# Data Numerical\n",
        "kolom_numerik = ['Umur','NilaiBelanjaSetahun']  \n",
        "  \n",
        "for i in kolom_numerik:  \n",
        "    plt.figure(figsize=(6,4))  \n",
        "    ax = sns.boxplot(x = 'cluster',y = i, data = df_final)  \n",
        "    plt.title ('\\nBox Plot {}\\n'.format(i), fontsize=12)  \n",
        "    plt.show() "
      ],
      "metadata": {
        "colab": {
          "base_uri": "https://localhost:8080/",
          "height": 633
        },
        "id": "zbdrSbrk8LbF",
        "outputId": "37e42ccf-ad25-4601-c56c-612924b4820c"
      },
      "execution_count": 9,
      "outputs": [
        {
          "output_type": "display_data",
          "data": {
            "image/png": "[encoded data removed]",
            "text/plain": [
              "<Figure size 432x288 with 1 Axes>"
            ]
          },
          "metadata": {
            "needs_background": "light"
          }
        },
        {
          "output_type": "display_data",
          "data": {
            "image/png": "[encoded data removed]",
            "text/plain": [
              "<Figure size 432x288 with 1 Axes>"
            ]
          },
          "metadata": {
            "needs_background": "light"
          }
        }
      ]
    },
    {
      "cell_type": "markdown",
      "source": [
        "### Visualisasi Hasil Clustering - Count Plot"
      ],
      "metadata": {
        "id": "umDqiMPw884-"
      }
    },
    {
      "cell_type": "code",
      "source": [
        "import pandas as pd\n",
        "import seaborn as sns\n",
        "import matplotlib.pyplot as plt\n",
        "from kmodes.kmodes import KModes  \n",
        "from kmodes.kprototypes import KPrototypes  \n",
        "df = pd.read_csv(\"https://storage.googleapis.com/dqlab-dataset/customer_segments.txt\", sep=\"\\t\") \n",
        "df_model = pd.read_csv('https://storage.googleapis.com/dqlab-dataset/df-customer-segmentation.csv')\n",
        "kproto = KPrototypes(n_clusters=5, random_state = 75)  \n",
        "kproto = kproto.fit(df_model, categorical=[0,1,2])  \n",
        "\n",
        "clusters =  kproto.predict(df_model, categorical=[0,1,2]) \n",
        "df_final = df.copy()    \n",
        "df_final['cluster'] = clusters \n",
        "\n",
        "# Data Kategorikal  \n",
        "kolom_categorical = ['Jenis Kelamin','Profesi','Tipe Residen']  \n",
        "  \n",
        "for i in kolom_categorical:  \n",
        "    plt.figure(figsize=(6,4))  \n",
        "    ax = sns.countplot(data = df_final, x = 'cluster', hue = i )  \n",
        "    plt.title('\\nCount Plot {}\\n'.format(i), fontsize=12)  \n",
        "    ax.legend(loc=\"upper center\")  \n",
        "    plt.legend(bbox_to_anchor = (1.08, 1), borderaxespad = 0)\n",
        "    for p in ax.patches:  \n",
        "        ax.annotate(format(p.get_height(), '.0f'),  \n",
        "                    (p.get_x() + p.get_width() / 2., p.get_height()),  \n",
        "                     ha = 'center',  \n",
        "                     va = 'center',  \n",
        "                     xytext = (0, 10),  \n",
        "                     textcoords = 'offset points')  \n",
        "      \n",
        "    sns.despine(right=True,top = True, left = True)  \n",
        "    ax.axes.yaxis.set_visible(False)  \n",
        "    plt.show()  "
      ],
      "metadata": {
        "colab": {
          "base_uri": "https://localhost:8080/",
          "height": 941
        },
        "id": "wraayIo88-tW",
        "outputId": "eec7bea3-f238-42d0-db1b-69f28e9f2a9d"
      },
      "execution_count": 11,
      "outputs": [
        {
          "output_type": "display_data",
          "data": {
            "image/png": "[encoded data removed]",
            "text/plain": [
              "<Figure size 432x288 with 1 Axes>"
            ]
          },
          "metadata": {
            "needs_background": "light"
          }
        },
        {
          "output_type": "display_data",
          "data": {
            "image/png": "[encoded data removed]",
            "text/plain": [
              "<Figure size 432x288 with 1 Axes>"
            ]
          },
          "metadata": {
            "needs_background": "light"
          }
        },
        {
          "output_type": "display_data",
          "data": {
            "image/png": "[encoded data removed]",
            "text/plain": [
              "<Figure size 432x288 with 1 Axes>"
            ]
          },
          "metadata": {
            "needs_background": "light"
          }
        }
      ]
    },
    {
      "cell_type": "markdown",
      "source": [
        "### Menamakan Cluster"
      ],
      "metadata": {
        "id": "ybGD4U6v-17m"
      }
    },
    {
      "cell_type": "code",
      "source": [
        "import pandas as pd\n",
        "import seaborn as sns\n",
        "import matplotlib.pyplot as plt\n",
        "from kmodes.kmodes import KModes  \n",
        "from kmodes.kprototypes import KPrototypes  \n",
        "df = pd.read_csv(\"https://storage.googleapis.com/dqlab-dataset/customer_segments.txt\", sep=\"\\t\") \n",
        "df_model = pd.read_csv('https://storage.googleapis.com/dqlab-dataset/df-customer-segmentation.csv')\n",
        "kproto = KPrototypes(n_clusters=5, random_state = 75)  \n",
        "kproto = kproto.fit(df_model, categorical=[0,1,2])  \n",
        "\n",
        "clusters =  kproto.predict(df_model, categorical=[0,1,2]) \n",
        "df_final = df.copy()    \n",
        "df_final['cluster'] = clusters \n",
        "\n",
        "# Mapping nama kolom  \n",
        "df_final['segmen'] = df_final['cluster'].map({  \n",
        "    0: 'Diamond Young Member',  \n",
        "    1: 'Diamond Senior Member',  \n",
        "    2: 'Silver Member',  \n",
        "    3: 'Gold Young Member',  \n",
        "    4: 'Gold Senior Member'  \n",
        "})  \n",
        "\n",
        "print(df_final.info())\n",
        "print(df_final.head())  "
      ],
      "metadata": {
        "colab": {
          "base_uri": "https://localhost:8080/"
        },
        "id": "hikGDpMs-3Xm",
        "outputId": "58a463be-1ed1-4508-dd14-d0526d7f703a"
      },
      "execution_count": 12,
      "outputs": [
        {
          "output_type": "stream",
          "name": "stdout",
          "text": [
            "<class 'pandas.core.frame.DataFrame'>\n",
            "RangeIndex: 50 entries, 0 to 49\n",
            "Data columns (total 9 columns):\n",
            " #   Column               Non-Null Count  Dtype \n",
            "---  ------               --------------  ----- \n",
            " 0   Customer_ID          50 non-null     object\n",
            " 1   Nama Pelanggan       50 non-null     object\n",
            " 2   Jenis Kelamin        50 non-null     object\n",
            " 3   Umur                 50 non-null     int64 \n",
            " 4   Profesi              50 non-null     object\n",
            " 5   Tipe Residen         50 non-null     object\n",
            " 6   NilaiBelanjaSetahun  50 non-null     int64 \n",
            " 7   cluster              50 non-null     uint16\n",
            " 8   segmen               50 non-null     object\n",
            "dtypes: int64(2), object(6), uint16(1)\n",
            "memory usage: 3.3+ KB\n",
            "None\n",
            "  Customer_ID       Nama Pelanggan  ... cluster                 segmen\n",
            "0    CUST-001         Budi Anggara  ...       1  Diamond Senior Member\n",
            "1    CUST-002     Shirley Ratuwati  ...       0   Diamond Young Member\n",
            "2    CUST-003         Agus Cahyono  ...       2          Silver Member\n",
            "3    CUST-004     Antonius Winarta  ...       2          Silver Member\n",
            "4    CUST-005  Ibu Sri Wahyuni, IR  ...       3      Gold Young Member\n",
            "\n",
            "[5 rows x 9 columns]\n"
          ]
        }
      ]
    },
    {
      "cell_type": "markdown",
      "source": [
        "# Mengoperasikan Model"
      ],
      "metadata": {
        "id": "Nk5EYyYA_LZ9"
      }
    },
    {
      "cell_type": "markdown",
      "source": [
        "### Mempersiapkan Data Baru"
      ],
      "metadata": {
        "id": "UlclSM54_iH_"
      }
    },
    {
      "cell_type": "code",
      "source": [
        "import pandas as pd\n",
        "# Data Baru  \n",
        "data = [{  \n",
        "    'Customer_ID': 'CUST-100' ,  \n",
        "    'Nama Pelanggan': 'Joko' ,  \n",
        "    'Jenis Kelamin': 'Pria',  \n",
        "    'Umur': 45,  \n",
        "    'Profesi': 'Wiraswasta',  \n",
        "    'Tipe Residen': 'Cluster' ,  \n",
        "    'NilaiBelanjaSetahun': 8230000  \n",
        "      \n",
        "}]  \n",
        "  \n",
        "# Membuat Data Frame  \n",
        "new_df = pd.DataFrame(data)  \n",
        "  \n",
        "# Melihat Data  \n",
        "print(new_df)  "
      ],
      "metadata": {
        "colab": {
          "base_uri": "https://localhost:8080/"
        },
        "id": "M7MCjnnV_kXd",
        "outputId": "ba4b63cf-3f93-4fd9-98f8-c5519a427620"
      },
      "execution_count": 13,
      "outputs": [
        {
          "output_type": "stream",
          "name": "stdout",
          "text": [
            "  Customer_ID Nama Pelanggan  ... Tipe Residen  NilaiBelanjaSetahun\n",
            "0    CUST-100           Joko  ...      Cluster              8230000\n",
            "\n",
            "[1 rows x 7 columns]\n"
          ]
        }
      ]
    },
    {
      "cell_type": "markdown",
      "source": [
        "### Membuat Fungsi Data Pemrosesan"
      ],
      "metadata": {
        "id": "t--msAdw_2kF"
      }
    },
    {
      "cell_type": "code",
      "source": [
        "import pandas as pd\n",
        "import seaborn as sns\n",
        "import matplotlib.pyplot as plt\n",
        "from kmodes.kmodes import KModes  \n",
        "from kmodes.kprototypes import KPrototypes  \n",
        "df = pd.read_csv(\"https://storage.googleapis.com/dqlab-dataset/customer_segments.txt\", sep=\"\\t\") \n",
        "df_model = pd.read_csv('https://storage.googleapis.com/dqlab-dataset/df-customer-segmentation.csv')\n",
        "kproto = KPrototypes(n_clusters=5, random_state = 75)  \n",
        "kproto = kproto.fit(df_model, categorical=[0,1,2])  \n",
        "\n",
        "clusters =  kproto.predict(df_model, categorical=[0,1,2]) \n",
        "df_final = df.copy()    \n",
        "df_final['cluster'] = clusters \n",
        "df_final['segmen'] = df_final['cluster'].map({  \n",
        "    0: 'Diamond Young Member',  \n",
        "    1: 'Diamond Senior Member',  \n",
        "    2: 'Silver Member',  \n",
        "    3: 'Gold Young Member',  \n",
        "    4: 'Gold Senior Member'  \n",
        "})  \n",
        "\n",
        "data = [{  \n",
        "    'Customer_ID': 'CUST-100' ,  \n",
        "    'Nama Pelanggan': 'Joko' ,  \n",
        "    'Jenis Kelamin': 'Pria',  \n",
        "    'Umur': 45,  \n",
        "    'Profesi': 'Wiraswasta',  \n",
        "    'Tipe Residen': 'Cluster' ,  \n",
        "    'NilaiBelanjaSetahun': 8230000  \n",
        "      \n",
        "}]\n",
        "new_df = pd.DataFrame(data) \n",
        "\n",
        "def data_preprocess(data):  \n",
        "    # Konversi Kategorikal data  \n",
        "    kolom_kategorikal = ['Jenis Kelamin', 'Profesi', 'Tipe Residen']  \n",
        "      \n",
        "    df_encode = data[kolom_kategorikal].copy()  \n",
        "  \n",
        "    ## Jenis Kelamin   \n",
        "    df_encode['Jenis Kelamin'] = df_encode['Jenis Kelamin'].map({  \n",
        "        'Pria': 0,  \n",
        "        'Wanita' : 1  \n",
        "    })  \n",
        "      \n",
        "    ## Profesi  \n",
        "    df_encode['Profesi'] = df_encode['Profesi'].map({  \n",
        "        'Ibu Rumah Tangga': 0,  \n",
        "        'Mahasiswa' : 1,  \n",
        "        'Pelajar': 2,  \n",
        "        'Professional': 3,  \n",
        "        'Wiraswasta': 4  \n",
        "    })  \n",
        "      \n",
        "    ## Tipe Residen  \n",
        "    df_encode['Tipe Residen'] = df_encode['Tipe Residen'].map({  \n",
        "        'Cluster': 0,  \n",
        "        'Sector' : 1  \n",
        "    })  \n",
        "      \n",
        "    # Standardisasi Numerical Data  \n",
        "    kolom_numerik = ['Umur','NilaiBelanjaSetahun']  \n",
        "    df_std = data[kolom_numerik].copy()  \n",
        "      \n",
        "    ## Standardisasi Kolom Umur  \n",
        "    df_std['Umur'] = (df_std['Umur'] - 37.5)/14.7  \n",
        "      \n",
        "    ## Standardisasi Kolom Nilai Belanja Setahun  \n",
        "    df_std['NilaiBelanjaSetahun'] = (df_std['NilaiBelanjaSetahun'] - 7069874.8)/2590619.0  \n",
        "      \n",
        "    # Menggabungkan Kategorikal dan numerikal data  \n",
        "    df_model = df_encode.merge(df_std, left_index = True,  \n",
        "                           right_index=True, how = 'left')  \n",
        "      \n",
        "    return df_model  \n",
        "  \n",
        "# Menjalankan fungsi  \n",
        "new_df_model = data_preprocess(new_df)  \n",
        "  \n",
        "print(new_df_model) "
      ],
      "metadata": {
        "colab": {
          "base_uri": "https://localhost:8080/"
        },
        "id": "c-bfy8CT_34d",
        "outputId": "7ebf238d-9025-4ab4-a1a1-82aeaba0ff14"
      },
      "execution_count": 14,
      "outputs": [
        {
          "output_type": "stream",
          "name": "stdout",
          "text": [
            "   Jenis Kelamin  Profesi  Tipe Residen      Umur  NilaiBelanjaSetahun\n",
            "0              0        4             0  0.510204             0.447818\n"
          ]
        }
      ]
    },
    {
      "cell_type": "markdown",
      "source": [
        "### Memanggil Model dan Melakukan Prediksi"
      ],
      "metadata": {
        "id": "sbsGMkVmBe73"
      }
    },
    {
      "cell_type": "code",
      "source": [
        "import pickle\n",
        "import pandas as pd\n",
        "data = [{  \n",
        "    'Customer_ID': 'CUST-100' ,  \n",
        "    'Nama Pelanggan': 'Joko' ,  \n",
        "    'Jenis Kelamin': 'Pria',  \n",
        "    'Umur': 45,  \n",
        "    'Profesi': 'Wiraswasta',  \n",
        "    'Tipe Residen': 'Cluster' ,  \n",
        "    'NilaiBelanjaSetahun': 8230000  \n",
        "      \n",
        "}]\n",
        "new_df = pd.DataFrame(data) \n",
        "\n",
        "def data_preprocess(data):\n",
        "    kolom_kategorikal = ['Jenis Kelamin','Profesi','Tipe Residen']\n",
        "    df_encode = data[kolom_kategorikal].copy()\n",
        "    df_encode['Jenis Kelamin'] = df_encode['Jenis Kelamin'].map({  \n",
        "        'Pria': 0,  \n",
        "        'Wanita' : 1  \n",
        "    })\n",
        "    df_encode['Profesi'] = df_encode['Profesi'].map({  \n",
        "        'Ibu Rumah Tangga': 0,  \n",
        "        'Mahasiswa' : 1,  \n",
        "        'Pelajar': 2,  \n",
        "        'Professional': 3,  \n",
        "        'Wiraswasta': 4  \n",
        "    }) \n",
        "    df_encode['Tipe Residen'] = df_encode['Tipe Residen'].map({  \n",
        "        'Cluster': 0,  \n",
        "        'Sector' : 1  \n",
        "    }) \n",
        "    kolom_numerik = ['Umur','NilaiBelanjaSetahun']  \n",
        "    df_std = data[kolom_numerik].copy()\n",
        "    df_std['Umur'] = (df_std['Umur'] - 37.5)/14.7 \n",
        "    df_std['NilaiBelanjaSetahun'] = (df_std['NilaiBelanjaSetahun'] - 7069874.8)/2590619.0\n",
        "    df_model = df_encode.merge(df_std, left_index = True,  \n",
        "                           right_index=True, how = 'left')  \n",
        "    return df_model  \n",
        "  \n",
        "new_df_model = data_preprocess(new_df)\n",
        "\n",
        "def modelling (data):  \n",
        "      \n",
        "    # Memanggil Model  \n",
        "    kpoto = pickle.load(open('cluster.pkl', 'rb'))  \n",
        "      \n",
        "    # Melakukan Prediksi  \n",
        "    clusters = kpoto.predict(data,categorical=[0,1,2])  \n",
        "      \n",
        "    return clusters  \n",
        "  \n",
        "# Menjalankan Fungsi  \n",
        "clusters = modelling(new_df_model)  \n",
        "  \n",
        "print(clusters)  "
      ],
      "metadata": {
        "colab": {
          "base_uri": "https://localhost:8080/"
        },
        "id": "I_-TuNLZBgD9",
        "outputId": "a8ef957c-796f-4748-a8b6-e36ac203814c"
      },
      "execution_count": 15,
      "outputs": [
        {
          "output_type": "stream",
          "name": "stdout",
          "text": [
            "[1]\n"
          ]
        }
      ]
    },
    {
      "cell_type": "markdown",
      "source": [
        "### Menamakan Segmen"
      ],
      "metadata": {
        "id": "3R-liWaXB1HN"
      }
    },
    {
      "cell_type": "code",
      "source": [
        "import pickle\n",
        "import pandas as pd\n",
        "data = [{  \n",
        "    'Customer_ID': 'CUST-100' ,  \n",
        "    'Nama Pelanggan': 'Joko' ,  \n",
        "    'Jenis Kelamin': 'Pria',  \n",
        "    'Umur': 45,  \n",
        "    'Profesi': 'Wiraswasta',  \n",
        "    'Tipe Residen': 'Cluster' ,  \n",
        "    'NilaiBelanjaSetahun': 8230000  \n",
        "      \n",
        "}]\n",
        "new_df = pd.DataFrame(data) \n",
        "\n",
        "def data_preprocess(data):\n",
        "    kolom_kategorikal = ['Jenis Kelamin','Profesi','Tipe Residen']\n",
        "    df_encode = data[kolom_kategorikal].copy()\n",
        "    df_encode['Jenis Kelamin'] = df_encode['Jenis Kelamin'].map({  \n",
        "        'Pria': 0,  \n",
        "        'Wanita' : 1  \n",
        "    })\n",
        "    df_encode['Profesi'] = df_encode['Profesi'].map({  \n",
        "        'Ibu Rumah Tangga': 0,  \n",
        "        'Mahasiswa' : 1,  \n",
        "        'Pelajar': 2,  \n",
        "        'Professional': 3,  \n",
        "        'Wiraswasta': 4  \n",
        "    }) \n",
        "    df_encode['Tipe Residen'] = df_encode['Tipe Residen'].map({  \n",
        "        'Cluster': 0,  \n",
        "        'Sector' : 1  \n",
        "    }) \n",
        "    kolom_numerik = ['Umur','NilaiBelanjaSetahun']  \n",
        "    df_std = data[kolom_numerik].copy()\n",
        "    df_std['Umur'] = (df_std['Umur'] - 37.5)/14.7 \n",
        "    df_std['NilaiBelanjaSetahun'] = (df_std['NilaiBelanjaSetahun'] - 7069874.8)/2590619.0\n",
        "    df_model = df_encode.merge(df_std, left_index = True,  \n",
        "                           right_index=True, how = 'left')  \n",
        "    return df_model  \n",
        "  \n",
        "new_df_model = data_preprocess(new_df)  \n",
        "\n",
        "def modelling (data): \n",
        "    kpoto = pickle.load(open('cluster.pkl', 'rb'))\n",
        "    clusters = kpoto.predict(data,categorical=[0,1,2])  \n",
        "    return clusters  \n",
        "    \n",
        "clusters = modelling(new_df_model)\n",
        "\n",
        "def menamakan_segmen (data_asli, clusters):  \n",
        "      \n",
        "    # Menggabungkan cluster dan data asli  \n",
        "    final_df = data_asli.copy()  \n",
        "    final_df['cluster'] = clusters\n",
        "      \n",
        "    # Menamakan segmen  \n",
        "    final_df['segmen'] = final_df['cluster'].map({  \n",
        "        0: 'Diamond Young Member',  \n",
        "        1: 'Diamond Senior Member',  \n",
        "        2: 'Silver Students',  \n",
        "        3: 'Gold Young Member',  \n",
        "        4: 'Gold Senior Member'  \n",
        "    })  \n",
        "      \n",
        "    return final_df\n",
        "  \n",
        "# Menjalankan Fungsi  \n",
        "new_final_df = menamakan_segmen(new_df,clusters)  \n",
        "  \n",
        "print(new_final_df)  "
      ],
      "metadata": {
        "colab": {
          "base_uri": "https://localhost:8080/"
        },
        "id": "QUYwkdcIB2GV",
        "outputId": "07459d61-1151-413f-ef94-d674178bf1e3"
      },
      "execution_count": 16,
      "outputs": [
        {
          "output_type": "stream",
          "name": "stdout",
          "text": [
            "  Customer_ID Nama Pelanggan  ... cluster                 segmen\n",
            "0    CUST-100           Joko  ...       1  Diamond Senior Member\n",
            "\n",
            "[1 rows x 9 columns]\n"
          ]
        }
      ]
    }
  ]
}