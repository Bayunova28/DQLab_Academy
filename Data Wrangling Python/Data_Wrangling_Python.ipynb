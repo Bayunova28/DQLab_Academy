{
  "nbformat": 4,
  "nbformat_minor": 0,
  "metadata": {
    "colab": {
      "name": "Data Wrangling Python.ipynb",
      "provenance": []
    },
    "kernelspec": {
      "name": "python3",
      "display_name": "Python 3"
    },
    "language_info": {
      "name": "python"
    }
  },
  "cells": [
    {
      "cell_type": "markdown",
      "source": [
        "# Cara Membaca Data Menggunakan Pandas"
      ],
      "metadata": {
        "id": "wZ_ryATxJe_B"
      }
    },
    {
      "cell_type": "markdown",
      "source": [
        "### Membaca file dengan menggunakan pandas"
      ],
      "metadata": {
        "id": "koVmFmSNJhAx"
      }
    },
    {
      "cell_type": "code",
      "execution_count": 1,
      "metadata": {
        "colab": {
          "base_uri": "https://localhost:8080/"
        },
        "id": "x1VWrpwcJXMl",
        "outputId": "5172bbc7-0256-4d5c-ec03-129926362f52"
      },
      "outputs": [
        {
          "output_type": "stream",
          "name": "stdout",
          "text": [
            "     CustomerID   Genre  Age  Annual Income (k$)  Spending Score (1-100)\n",
            "0             1    Male   19                  15                      39\n",
            "1             2    Male   21                  15                      81\n",
            "2             3  Female   20                  16                       6\n",
            "3             4  Female   23                  16                      77\n",
            "4             5  Female   31                  17                      40\n",
            "..          ...     ...  ...                 ...                     ...\n",
            "195         196  Female   35                 120                      79\n",
            "196         197  Female   45                 126                      28\n",
            "197         198    Male   32                 126                      74\n",
            "198         199    Male   32                 137                      18\n",
            "199         200    Male   30                 137                      83\n",
            "\n",
            "[200 rows x 5 columns]\n"
          ]
        }
      ],
      "source": [
        "import pandas as pd\n",
        "\n",
        "csv_data = pd.read_csv(\"https://storage.googleapis.com/dqlab-dataset/shopping_data.csv\")\n",
        "\n",
        "print(csv_data)"
      ]
    },
    {
      "cell_type": "markdown",
      "source": [
        "### Membaca file dengan menggunakan head()"
      ],
      "metadata": {
        "id": "TE0kDClgJs6K"
      }
    },
    {
      "cell_type": "code",
      "source": [
        "import pandas as pd\n",
        "\n",
        "csv_data = pd.read_csv(\"https://storage.googleapis.com/dqlab-dataset/shopping_data.csv\")\n",
        "\n",
        "print(csv_data.head())"
      ],
      "metadata": {
        "colab": {
          "base_uri": "https://localhost:8080/"
        },
        "id": "iKoCmWUlJuuz",
        "outputId": "f80a4932-0bd7-4ae3-cd68-045c12beae92"
      },
      "execution_count": 2,
      "outputs": [
        {
          "output_type": "stream",
          "name": "stdout",
          "text": [
            "   CustomerID   Genre  Age  Annual Income (k$)  Spending Score (1-100)\n",
            "0           1    Male   19                  15                      39\n",
            "1           2    Male   21                  15                      81\n",
            "2           3  Female   20                  16                       6\n",
            "3           4  Female   23                  16                      77\n",
            "4           5  Female   31                  17                      40\n"
          ]
        }
      ]
    },
    {
      "cell_type": "markdown",
      "source": [
        "### Melakukan akses data kolom"
      ],
      "metadata": {
        "id": "HRJr2zUnJy-6"
      }
    },
    {
      "cell_type": "code",
      "source": [
        "import pandas as pd\n",
        "\n",
        "csv_data = pd.read_csv(\"https://storage.googleapis.com/dqlab-dataset/shopping_data.csv\")\n",
        "\n",
        "print(csv_data['Age'])"
      ],
      "metadata": {
        "colab": {
          "base_uri": "https://localhost:8080/"
        },
        "id": "HWeJFZZ8J2zK",
        "outputId": "0847dbd4-e5d9-4fbe-faf9-eb6b04af6f2f"
      },
      "execution_count": 3,
      "outputs": [
        {
          "output_type": "stream",
          "name": "stdout",
          "text": [
            "0      19\n",
            "1      21\n",
            "2      20\n",
            "3      23\n",
            "4      31\n",
            "       ..\n",
            "195    35\n",
            "196    45\n",
            "197    32\n",
            "198    32\n",
            "199    30\n",
            "Name: Age, Length: 200, dtype: int64\n"
          ]
        }
      ]
    },
    {
      "cell_type": "markdown",
      "source": [
        "### Melakukan akses data melalui baris"
      ],
      "metadata": {
        "id": "T4mcOJ9TJ_rS"
      }
    },
    {
      "cell_type": "code",
      "source": [
        "import pandas as pd\n",
        "\n",
        "csv_data = pd.read_csv(\"https://storage.googleapis.com/dqlab-dataset/shopping_data.csv\")\n",
        "\n",
        "print(csv_data.iloc[5])\t\t\t"
      ],
      "metadata": {
        "colab": {
          "base_uri": "https://localhost:8080/"
        },
        "id": "XwbLdZAXKDVR",
        "outputId": "f596aa92-4d86-4426-fb26-73e2296f00da"
      },
      "execution_count": 4,
      "outputs": [
        {
          "output_type": "stream",
          "name": "stdout",
          "text": [
            "CustomerID                     6\n",
            "Genre                     Female\n",
            "Age                           22\n",
            "Annual Income (k$)            17\n",
            "Spending Score (1-100)        76\n",
            "Name: 5, dtype: object\n"
          ]
        }
      ]
    },
    {
      "cell_type": "markdown",
      "source": [
        "### Menampilkan suatu data dari baris dan kolom tertentu"
      ],
      "metadata": {
        "id": "StHBfzZLKGxD"
      }
    },
    {
      "cell_type": "code",
      "source": [
        "import pandas as pd\n",
        "\n",
        "csv_data = pd.read_csv(\"https://storage.googleapis.com/dqlab-dataset/shopping_data.csv\")\n",
        "\n",
        "print(csv_data['Age'].iloc[1])\n",
        "\n",
        "print(\"Cuplikan Dataset:\")\n",
        "\n",
        "print(csv_data.head())\t"
      ],
      "metadata": {
        "colab": {
          "base_uri": "https://localhost:8080/"
        },
        "id": "33zz5tEvKLy6",
        "outputId": "ff8dd313-e38f-4e52-c703-9623ed1c7cec"
      },
      "execution_count": 5,
      "outputs": [
        {
          "output_type": "stream",
          "name": "stdout",
          "text": [
            "21\n",
            "Cuplikan Dataset:\n",
            "   CustomerID   Genre  Age  Annual Income (k$)  Spending Score (1-100)\n",
            "0           1    Male   19                  15                      39\n",
            "1           2    Male   21                  15                      81\n",
            "2           3  Female   20                  16                       6\n",
            "3           4  Female   23                  16                      77\n",
            "4           5  Female   31                  17                      40\n"
          ]
        }
      ]
    },
    {
      "cell_type": "markdown",
      "source": [
        "### Menampilkan data dalam range tertentu"
      ],
      "metadata": {
        "id": "EK7rEplsKOGb"
      }
    },
    {
      "cell_type": "code",
      "source": [
        "import pandas as pd\n",
        "\n",
        "csv_data = pd.read_csv(\"https://storage.googleapis.com/dqlab-dataset/shopping_data.csv\")\n",
        "\n",
        "print(\"Menampilkan data ke 5 sampai kurang dari 10 dalam satu baris:\")\n",
        "\n",
        "print(csv_data.iloc[5:10])\t\t\t\t"
      ],
      "metadata": {
        "colab": {
          "base_uri": "https://localhost:8080/"
        },
        "id": "q0fvJQYZKRqy",
        "outputId": "c1c8b943-10d3-46f4-dc45-004b7cedcbdb"
      },
      "execution_count": 6,
      "outputs": [
        {
          "output_type": "stream",
          "name": "stdout",
          "text": [
            "Menampilkan data ke 5 sampai kurang dari 10 dalam satu baris:\n",
            "   CustomerID   Genre  Age  Annual Income (k$)  Spending Score (1-100)\n",
            "5           6  Female   22                  17                      76\n",
            "6           7  Female   35                  18                       6\n",
            "7           8  Female   23                  18                      94\n",
            "8           9    Male   64                  19                       3\n",
            "9          10  Female   30                  19                      72\n"
          ]
        }
      ]
    },
    {
      "cell_type": "markdown",
      "source": [
        "### Menampilkan informasi statistik dengan Numpy"
      ],
      "metadata": {
        "id": "e6S_fo0gKUcK"
      }
    },
    {
      "cell_type": "code",
      "source": [
        "import pandas as pd\n",
        "\n",
        "csv_data = pd.read_csv(\"https://storage.googleapis.com/dqlab-dataset/shopping_data.csv\")\n",
        "\n",
        "print(csv_data.describe(exclude=['O']))\t"
      ],
      "metadata": {
        "colab": {
          "base_uri": "https://localhost:8080/"
        },
        "id": "J8VR7-AOKXa7",
        "outputId": "d8e2de9b-73d6-4c02-ddac-b670c2a4a806"
      },
      "execution_count": 7,
      "outputs": [
        {
          "output_type": "stream",
          "name": "stdout",
          "text": [
            "       CustomerID         Age  Annual Income (k$)  Spending Score (1-100)\n",
            "count  200.000000  200.000000          200.000000              200.000000\n",
            "mean   100.500000   38.850000           60.560000               50.200000\n",
            "std     57.879185   13.969007           26.264721               25.823522\n",
            "min      1.000000   18.000000           15.000000                1.000000\n",
            "25%     50.750000   28.750000           41.500000               34.750000\n",
            "50%    100.500000   36.000000           61.500000               50.000000\n",
            "75%    150.250000   49.000000           78.000000               73.000000\n",
            "max    200.000000   70.000000          137.000000               99.000000\n"
          ]
        }
      ]
    },
    {
      "cell_type": "markdown",
      "source": [
        "# Data Missing Hingga Normalisasi Data"
      ],
      "metadata": {
        "id": "-mjELULZKcKj"
      }
    },
    {
      "cell_type": "markdown",
      "source": [
        "### Melakukan pengecekan untuk nilai NULL yang ada"
      ],
      "metadata": {
        "id": "s9VMJXsqKpaK"
      }
    },
    {
      "cell_type": "code",
      "source": [
        "import pandas as pd\n",
        "\n",
        "csv_data = pd.read_csv(\"https://storage.googleapis.com/dqlab-dataset/shopping_data_missingvalue.csv\")\n",
        "\n",
        "print(csv_data.isnull().values.any())"
      ],
      "metadata": {
        "colab": {
          "base_uri": "https://localhost:8080/"
        },
        "id": "OqN85_8gKsKA",
        "outputId": "2fa5fea4-0a50-469b-9462-36250c20e0db"
      },
      "execution_count": 8,
      "outputs": [
        {
          "output_type": "stream",
          "name": "stdout",
          "text": [
            "True\n"
          ]
        }
      ]
    },
    {
      "cell_type": "markdown",
      "source": [
        "### Mengisi dengan Mean"
      ],
      "metadata": {
        "id": "-aiDkqydKvFa"
      }
    },
    {
      "cell_type": "code",
      "source": [
        "import pandas as pd\n",
        "\n",
        "csv_data = pd.read_csv(\"https://storage.googleapis.com/dqlab-dataset/shopping_data_missingvalue.csv\")\n",
        "print(csv_data.mean())\n",
        "print(\"Dataset yang masih terdapat nilai kosong ! :\")\n",
        "print(csv_data.head(10))\n",
        "\n",
        "csv_data=csv_data.fillna(csv_data.mean())\n",
        "print(\"Dataset yang sudah diproses Handling Missing Values dengan Mean :\")\n",
        "print(csv_data.head(10))\t"
      ],
      "metadata": {
        "colab": {
          "base_uri": "https://localhost:8080/"
        },
        "id": "sLY6MuPvK2Iz",
        "outputId": "7f50ce75-4e6d-4bc7-b1a3-a8222708df35"
      },
      "execution_count": 9,
      "outputs": [
        {
          "output_type": "stream",
          "name": "stdout",
          "text": [
            "CustomerID                100.500000\n",
            "Age                        38.939698\n",
            "Annual Income (k$)         61.005051\n",
            "Spending Score (1-100)     50.489899\n",
            "dtype: float64\n",
            "Dataset yang masih terdapat nilai kosong ! :\n",
            "   CustomerID   Genre   Age  Annual Income (k$)  Spending Score (1-100)\n",
            "0           1    Male  19.0                15.0                    39.0\n",
            "1           2    Male   NaN                15.0                    81.0\n",
            "2           3  Female  20.0                 NaN                     6.0\n",
            "3           4  Female  23.0                16.0                    77.0\n",
            "4           5  Female  31.0                17.0                     NaN\n",
            "5           6  Female  22.0                 NaN                    76.0\n",
            "6           7  Female  35.0                18.0                     6.0\n",
            "7           8  Female  23.0                18.0                    94.0\n",
            "8           9    Male  64.0                19.0                     NaN\n",
            "9          10  Female  30.0                19.0                    72.0\n",
            "Dataset yang sudah diproses Handling Missing Values dengan Mean :\n",
            "   CustomerID   Genre        Age  Annual Income (k$)  Spending Score (1-100)\n",
            "0           1    Male  19.000000           15.000000               39.000000\n",
            "1           2    Male  38.939698           15.000000               81.000000\n",
            "2           3  Female  20.000000           61.005051                6.000000\n",
            "3           4  Female  23.000000           16.000000               77.000000\n",
            "4           5  Female  31.000000           17.000000               50.489899\n",
            "5           6  Female  22.000000           61.005051               76.000000\n",
            "6           7  Female  35.000000           18.000000                6.000000\n",
            "7           8  Female  23.000000           18.000000               94.000000\n",
            "8           9    Male  64.000000           19.000000               50.489899\n",
            "9          10  Female  30.000000           19.000000               72.000000\n"
          ]
        }
      ]
    },
    {
      "cell_type": "markdown",
      "source": [
        "### Mengisi dengan Median"
      ],
      "metadata": {
        "id": "pp2_rEwwK8TZ"
      }
    },
    {
      "cell_type": "code",
      "source": [
        "import pandas as pd\n",
        "\n",
        "csv_data = pd.read_csv(\"https://storage.googleapis.com/dqlab-dataset/shopping_data_missingvalue.csv\")\n",
        "print(\"Dataset yang masih terdapat nilai kosong ! :\")\n",
        "print(csv_data.head(10))\n",
        "\n",
        "csv_data=csv_data.fillna(csv_data.median())\n",
        "print(\"Dataset yang sudah diproses Handling Missing Values dengan Median :\")\n",
        "print(csv_data.head(10))\t"
      ],
      "metadata": {
        "colab": {
          "base_uri": "https://localhost:8080/"
        },
        "id": "kJvr4v3ZK_dt",
        "outputId": "73b69aef-7b25-4d93-859b-2824bc7f46bd"
      },
      "execution_count": 10,
      "outputs": [
        {
          "output_type": "stream",
          "name": "stdout",
          "text": [
            "Dataset yang masih terdapat nilai kosong ! :\n",
            "   CustomerID   Genre   Age  Annual Income (k$)  Spending Score (1-100)\n",
            "0           1    Male  19.0                15.0                    39.0\n",
            "1           2    Male   NaN                15.0                    81.0\n",
            "2           3  Female  20.0                 NaN                     6.0\n",
            "3           4  Female  23.0                16.0                    77.0\n",
            "4           5  Female  31.0                17.0                     NaN\n",
            "5           6  Female  22.0                 NaN                    76.0\n",
            "6           7  Female  35.0                18.0                     6.0\n",
            "7           8  Female  23.0                18.0                    94.0\n",
            "8           9    Male  64.0                19.0                     NaN\n",
            "9          10  Female  30.0                19.0                    72.0\n",
            "Dataset yang sudah diproses Handling Missing Values dengan Median :\n",
            "   CustomerID   Genre   Age  Annual Income (k$)  Spending Score (1-100)\n",
            "0           1    Male  19.0                15.0                    39.0\n",
            "1           2    Male  36.0                15.0                    81.0\n",
            "2           3  Female  20.0                62.0                     6.0\n",
            "3           4  Female  23.0                16.0                    77.0\n",
            "4           5  Female  31.0                17.0                    50.0\n",
            "5           6  Female  22.0                62.0                    76.0\n",
            "6           7  Female  35.0                18.0                     6.0\n",
            "7           8  Female  23.0                18.0                    94.0\n",
            "8           9    Male  64.0                19.0                    50.0\n",
            "9          10  Female  30.0                19.0                    72.0\n"
          ]
        }
      ]
    },
    {
      "cell_type": "markdown",
      "source": [
        "### Praktek Normalisasi menggunakan Scikit Learn pada Python"
      ],
      "metadata": {
        "id": "cLabUxWjLCGC"
      }
    },
    {
      "cell_type": "code",
      "source": [
        "import pandas as pd\n",
        "import numpy as np\n",
        "from sklearn import preprocessing\n",
        "\n",
        "csv_data = pd.read_csv(\"https://storage.googleapis.com/dqlab-dataset/shopping_data.csv\")\n",
        "array = csv_data.values\n",
        "X = array[:,2:5] #memisahkan fitur dari dataset\n",
        "Y = array[:,0:1] #memisahkan class dari dataset\n",
        "dataset=pd.DataFrame({'Customer ID':array[:,0],'Gender':array[:,1],'Age':array[:,2],'Income':array[:,3],'Spending Score':array[:,4]})\n",
        "print(\"dataset sebelum dinormalisasi :\")\n",
        "print(dataset.head(10))\n",
        "min_max_scaler = preprocessing.MinMaxScaler(feature_range=(0,1)) #inisialisasi normalisasi MinMax\n",
        "data = min_max_scaler.fit_transform(X) #transformasi MinMax untuk fitur\n",
        "dataset = pd.DataFrame({'Age':data[:,0],'Income':data[:,1],'Spending Score':data[:,2],'Customer ID':array[:,0],'Gender':array[:,1]})\n",
        "print(\"dataset setelah dinormalisasi :\")\n",
        "print(dataset.head(10))"
      ],
      "metadata": {
        "colab": {
          "base_uri": "https://localhost:8080/"
        },
        "id": "tsZa-9MbLJQE",
        "outputId": "2b15d9cf-6912-4d9f-b5a5-ac26303274bc"
      },
      "execution_count": 11,
      "outputs": [
        {
          "output_type": "stream",
          "name": "stdout",
          "text": [
            "dataset sebelum dinormalisasi :\n",
            "  Customer ID  Gender Age Income Spending Score\n",
            "0           1    Male  19     15             39\n",
            "1           2    Male  21     15             81\n",
            "2           3  Female  20     16              6\n",
            "3           4  Female  23     16             77\n",
            "4           5  Female  31     17             40\n",
            "5           6  Female  22     17             76\n",
            "6           7  Female  35     18              6\n",
            "7           8  Female  23     18             94\n",
            "8           9    Male  64     19              3\n",
            "9          10  Female  30     19             72\n",
            "dataset setelah dinormalisasi :\n",
            "        Age    Income  Spending Score Customer ID  Gender\n",
            "0  0.019231  0.000000        0.387755           1    Male\n",
            "1  0.057692  0.000000        0.816327           2    Male\n",
            "2  0.038462  0.008197        0.051020           3  Female\n",
            "3  0.096154  0.008197        0.775510           4  Female\n",
            "4  0.250000  0.016393        0.397959           5  Female\n",
            "5  0.076923  0.016393        0.765306           6  Female\n",
            "6  0.326923  0.024590        0.051020           7  Female\n",
            "7  0.096154  0.024590        0.948980           8  Female\n",
            "8  0.884615  0.032787        0.020408           9    Male\n",
            "9  0.230769  0.032787        0.724490          10  Female\n"
          ]
        }
      ]
    }
  ]
}