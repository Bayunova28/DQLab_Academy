{
  "nbformat": 4,
  "nbformat_minor": 0,
  "metadata": {
    "colab": {
      "name": "Statistic using Python for Data Science - Part 1.ipynb",
      "provenance": []
    },
    "kernelspec": {
      "name": "python3",
      "display_name": "Python 3"
    },
    "language_info": {
      "name": "python"
    }
  },
  "cells": [
    {
      "cell_type": "markdown",
      "source": [
        "# Pengenalan Numpy dan Pandas"
      ],
      "metadata": {
        "id": "QLu1y6QAoK7G"
      }
    },
    {
      "cell_type": "markdown",
      "source": [
        "### Load Dataset"
      ],
      "metadata": {
        "id": "BmLlV_tioKvu"
      }
    },
    {
      "cell_type": "code",
      "execution_count": 1,
      "metadata": {
        "id": "fgmZ78cdoHCA"
      },
      "outputs": [],
      "source": [
        "import pandas as pd\n",
        "\n",
        "# memuat data bernama 'dataset_statistics.csv' dan memasukkan hasilnya ke dalam 'raw_data'\n",
        "raw_data = pd.read_csv(\"https://storage.googleapis.com/dqlab-dataset/dataset_statistic.csv\", sep=';')"
      ]
    },
    {
      "cell_type": "markdown",
      "source": [
        "### Inspeksi Data"
      ],
      "metadata": {
        "id": "EYGOebs7oYiP"
      }
    },
    {
      "cell_type": "code",
      "source": [
        "import pandas as pd\n",
        "raw_data = pd.read_csv(\"https://storage.googleapis.com/dqlab-dataset/dataset_statistic.csv\", sep=';')\n",
        "\n",
        "print (raw_data)\n",
        "# melihat 10 data pada baris pertama\n",
        "print (raw_data.head(10))\n",
        "\n",
        "# melihat 5 data pada baris terakhir\n",
        "print (raw_data.tail())"
      ],
      "metadata": {
        "colab": {
          "base_uri": "https://localhost:8080/"
        },
        "id": "g0Gx_CB0oazH",
        "outputId": "22369670-6284-441c-ef72-ab5ec13aa874"
      },
      "execution_count": 2,
      "outputs": [
        {
          "output_type": "stream",
          "name": "stdout",
          "text": [
            "    ID Pelanggan     Nama  Jenis Kelamin  ...  Jumlah     Total  Tingkat Kepuasan\n",
            "0              1     Arif              1  ...        4   400000                 2\n",
            "1              2     Dian              2  ...        4  1000000                 2\n",
            "2              3    Dinda              2  ...        3   750000                 3\n",
            "3              4    Fajar              1  ...        2   200000                 3\n",
            "4              5      Ika              2  ...        4  1000000                 2\n",
            "5              6    Ilham              1  ...        4   600000                 3\n",
            "6              7    Indra              1  ...        5   750000                 1\n",
            "7              8  Kartika              2  ...        3   900000                 3\n",
            "8              9  Lestari              2  ...        2   600000                 1\n",
            "9             10      Lia              2  ...        5  1500000                 1\n",
            "10            11    Maria              2  ...        4   400000                 3\n",
            "11            12     Maya              2  ...        5   750000                 3\n",
            "12            13     Mila              2  ...        1   200000                 2\n",
            "13            14    Nurul              2  ...        5  1250000                 1\n",
            "14            15    Retno              2  ...        4   800000                 2\n",
            "15            16     Rini              2  ...        4   600000                 1\n",
            "16            17    Rizki              1  ...        5  1000000                 3\n",
            "17            18     Sari              2  ...        2   500000                 1\n",
            "18            19     Tyas              2  ...        4   400000                 3\n",
            "19            20    Wahyu              1  ...        3   600000                 1\n",
            "\n",
            "[20 rows x 9 columns]\n",
            "   ID Pelanggan     Nama  Jenis Kelamin  ...  Jumlah     Total  Tingkat Kepuasan\n",
            "0             1     Arif              1  ...        4   400000                 2\n",
            "1             2     Dian              2  ...        4  1000000                 2\n",
            "2             3    Dinda              2  ...        3   750000                 3\n",
            "3             4    Fajar              1  ...        2   200000                 3\n",
            "4             5      Ika              2  ...        4  1000000                 2\n",
            "5             6    Ilham              1  ...        4   600000                 3\n",
            "6             7    Indra              1  ...        5   750000                 1\n",
            "7             8  Kartika              2  ...        3   900000                 3\n",
            "8             9  Lestari              2  ...        2   600000                 1\n",
            "9            10      Lia              2  ...        5  1500000                 1\n",
            "\n",
            "[10 rows x 9 columns]\n",
            "    ID Pelanggan   Nama  Jenis Kelamin  ...  Jumlah     Total  Tingkat Kepuasan\n",
            "15            16   Rini              2  ...        4   600000                 1\n",
            "16            17  Rizki              1  ...        5  1000000                 3\n",
            "17            18   Sari              2  ...        2   500000                 1\n",
            "18            19   Tyas              2  ...        4   400000                 3\n",
            "19            20  Wahyu              1  ...        3   600000                 1\n",
            "\n",
            "[5 rows x 9 columns]\n"
          ]
        }
      ]
    },
    {
      "cell_type": "markdown",
      "source": [
        "### Metode Shape"
      ],
      "metadata": {
        "id": "KMO8hu7bodr3"
      }
    },
    {
      "cell_type": "code",
      "source": [
        "import pandas as pd\n",
        "raw_data = pd.read_csv(\"https://storage.googleapis.com/dqlab-dataset/dataset_statistic.csv\", sep=';')\n",
        "\n",
        "# melihat dimensi dari raw_data\n",
        "print (raw_data.shape)\n",
        "\n",
        "# mengambil jumlah data\n",
        "print (raw_data.shape[0])"
      ],
      "metadata": {
        "colab": {
          "base_uri": "https://localhost:8080/"
        },
        "id": "tWDLSKHTog7O",
        "outputId": "73f1b3bd-0fbf-4a49-af4d-3646e28c2de6"
      },
      "execution_count": 3,
      "outputs": [
        {
          "output_type": "stream",
          "name": "stdout",
          "text": [
            "(20, 9)\n",
            "20\n"
          ]
        }
      ]
    },
    {
      "cell_type": "markdown",
      "source": [
        "### Melihat Kolom Dalam Dataset"
      ],
      "metadata": {
        "id": "ID5JNB5Koi8e"
      }
    },
    {
      "cell_type": "code",
      "source": [
        "import pandas as pd\n",
        "raw_data = pd.read_csv(\"https://storage.googleapis.com/dqlab-dataset/dataset_statistic.csv\", sep=';')\n",
        "\n",
        "print(raw_data)\n",
        "print(raw_data.columns)"
      ],
      "metadata": {
        "colab": {
          "base_uri": "https://localhost:8080/"
        },
        "id": "QcG2YLptomlH",
        "outputId": "6ba680c6-7c4b-4885-d3ca-a5d08c7a5123"
      },
      "execution_count": 4,
      "outputs": [
        {
          "output_type": "stream",
          "name": "stdout",
          "text": [
            "    ID Pelanggan     Nama  Jenis Kelamin  ...  Jumlah     Total  Tingkat Kepuasan\n",
            "0              1     Arif              1  ...        4   400000                 2\n",
            "1              2     Dian              2  ...        4  1000000                 2\n",
            "2              3    Dinda              2  ...        3   750000                 3\n",
            "3              4    Fajar              1  ...        2   200000                 3\n",
            "4              5      Ika              2  ...        4  1000000                 2\n",
            "5              6    Ilham              1  ...        4   600000                 3\n",
            "6              7    Indra              1  ...        5   750000                 1\n",
            "7              8  Kartika              2  ...        3   900000                 3\n",
            "8              9  Lestari              2  ...        2   600000                 1\n",
            "9             10      Lia              2  ...        5  1500000                 1\n",
            "10            11    Maria              2  ...        4   400000                 3\n",
            "11            12     Maya              2  ...        5   750000                 3\n",
            "12            13     Mila              2  ...        1   200000                 2\n",
            "13            14    Nurul              2  ...        5  1250000                 1\n",
            "14            15    Retno              2  ...        4   800000                 2\n",
            "15            16     Rini              2  ...        4   600000                 1\n",
            "16            17    Rizki              1  ...        5  1000000                 3\n",
            "17            18     Sari              2  ...        2   500000                 1\n",
            "18            19     Tyas              2  ...        4   400000                 3\n",
            "19            20    Wahyu              1  ...        3   600000                 1\n",
            "\n",
            "[20 rows x 9 columns]\n",
            "Index(['ID Pelanggan', 'Nama', 'Jenis Kelamin', 'Pendapatan', 'Produk',\n",
            "       'Harga', 'Jumlah ', 'Total', 'Tingkat Kepuasan'],\n",
            "      dtype='object')\n"
          ]
        }
      ]
    },
    {
      "cell_type": "markdown",
      "source": [
        "### Metode Isna"
      ],
      "metadata": {
        "id": "iATTFtg8oocj"
      }
    },
    {
      "cell_type": "code",
      "source": [
        "import pandas as pd\n",
        "raw_data = pd.read_csv(\"https://storage.googleapis.com/dqlab-dataset/dataset_statistic.csv\", sep=';')\n",
        "\n",
        "print (raw_data.isna())\n",
        "print (raw_data.isna().sum())"
      ],
      "metadata": {
        "colab": {
          "base_uri": "https://localhost:8080/"
        },
        "id": "RFaIx-QOor83",
        "outputId": "519b4864-fbb2-4854-acc5-d07b80500984"
      },
      "execution_count": 5,
      "outputs": [
        {
          "output_type": "stream",
          "name": "stdout",
          "text": [
            "    ID Pelanggan   Nama  Jenis Kelamin  ...  Jumlah   Total  Tingkat Kepuasan\n",
            "0          False  False          False  ...    False  False             False\n",
            "1          False  False          False  ...    False  False             False\n",
            "2          False  False          False  ...    False  False             False\n",
            "3          False  False          False  ...    False  False             False\n",
            "4          False  False          False  ...    False  False             False\n",
            "5          False  False          False  ...    False  False             False\n",
            "6          False  False          False  ...    False  False             False\n",
            "7          False  False          False  ...    False  False             False\n",
            "8          False  False          False  ...    False  False             False\n",
            "9          False  False          False  ...    False  False             False\n",
            "10         False  False          False  ...    False  False             False\n",
            "11         False  False          False  ...    False  False             False\n",
            "12         False  False          False  ...    False  False             False\n",
            "13         False  False          False  ...    False  False             False\n",
            "14         False  False          False  ...    False  False             False\n",
            "15         False  False          False  ...    False  False             False\n",
            "16         False  False          False  ...    False  False             False\n",
            "17         False  False          False  ...    False  False             False\n",
            "18         False  False          False  ...    False  False             False\n",
            "19         False  False          False  ...    False  False             False\n",
            "\n",
            "[20 rows x 9 columns]\n",
            "ID Pelanggan        0\n",
            "Nama                0\n",
            "Jenis Kelamin       0\n",
            "Pendapatan          0\n",
            "Produk              0\n",
            "Harga               0\n",
            "Jumlah              0\n",
            "Total               0\n",
            "Tingkat Kepuasan    0\n",
            "dtype: int64\n"
          ]
        }
      ]
    },
    {
      "cell_type": "markdown",
      "source": [
        "### Metode Describe"
      ],
      "metadata": {
        "id": "ghEYdoFVoxu2"
      }
    },
    {
      "cell_type": "code",
      "source": [
        "import pandas as pd\n",
        "raw_data = pd.read_csv(\"https://storage.googleapis.com/dqlab-dataset/dataset_statistic.csv\", sep=';')\n",
        "\n",
        "print (raw_data.describe())\n",
        "\n",
        "# Mencari nilai maksimum dari tiap kolom\n",
        "raw_data.max()\n",
        " \n",
        "# Mencari nilai maksimum dari kolom 'Harga'\n",
        "raw_data['Harga'].max()\n",
        " \n",
        "# Mencari nilai minimum dari kolom 'Harga'\n",
        "raw_data['Harga'].min()"
      ],
      "metadata": {
        "colab": {
          "base_uri": "https://localhost:8080/"
        },
        "id": "r0lfZGD9o2Nv",
        "outputId": "bfefbf3f-153a-4280-9614-267b1ffd76dd"
      },
      "execution_count": 6,
      "outputs": [
        {
          "output_type": "stream",
          "name": "stdout",
          "text": [
            "       ID Pelanggan  Jenis Kelamin  ...         Total  Tingkat Kepuasan\n",
            "count      20.00000      20.000000  ...  2.000000e+01         20.000000\n",
            "mean       10.50000       1.700000  ...  7.100000e+05          2.050000\n",
            "std         5.91608       0.470162  ...  3.338768e+05          0.887041\n",
            "min         1.00000       1.000000  ...  2.000000e+05          1.000000\n",
            "25%         5.75000       1.000000  ...  4.750000e+05          1.000000\n",
            "50%        10.50000       2.000000  ...  6.750000e+05          2.000000\n",
            "75%        15.25000       2.000000  ...  9.250000e+05          3.000000\n",
            "max        20.00000       2.000000  ...  1.500000e+06          3.000000\n",
            "\n",
            "[8 rows x 7 columns]\n"
          ]
        },
        {
          "output_type": "execute_result",
          "data": {
            "text/plain": [
              "100000"
            ]
          },
          "metadata": {},
          "execution_count": 6
        }
      ]
    },
    {
      "cell_type": "markdown",
      "source": [
        "### Metode Sum"
      ],
      "metadata": {
        "id": "jROo3Y7ho8l2"
      }
    },
    {
      "cell_type": "code",
      "source": [
        "import pandas as pd\n",
        "raw_data = pd.read_csv(\"https://storage.googleapis.com/dqlab-dataset/dataset_statistic.csv\", sep=';')\n",
        "\n",
        "# menghitung jumlah dari semua kolom\n",
        "print (raw_data.sum())\n",
        " \n",
        "# menghitung jumlah dari semua kolom bertipe data numerik saja\n",
        "raw_data.sum(numeric_only=True)\n",
        " \n",
        "# menghitung jumlah dari kolom 'Harga' dan 'Pendapatan'\n",
        "raw_data[['Harga', 'Pendapatan']].sum()"
      ],
      "metadata": {
        "colab": {
          "base_uri": "https://localhost:8080/"
        },
        "id": "7vtHvxfso9sI",
        "outputId": "4d62c16c-b710-49c1-c7a1-99cf4aa68660"
      },
      "execution_count": 7,
      "outputs": [
        {
          "output_type": "stream",
          "name": "stdout",
          "text": [
            "ID Pelanggan                                                      210\n",
            "Nama                ArifDianDindaFajarIkaIlhamIndraKartikaLestariL...\n",
            "Jenis Kelamin                                                      34\n",
            "Pendapatan                                                   23200000\n",
            "Produk                                           ADDADBBEEEABCDCBCDAC\n",
            "Harga                                                         3950000\n",
            "Jumlah                                                             73\n",
            "Total                                                        14200000\n",
            "Tingkat Kepuasan                                                   41\n",
            "dtype: object\n"
          ]
        },
        {
          "output_type": "execute_result",
          "data": {
            "text/plain": [
              "Harga          3950000\n",
              "Pendapatan    23200000\n",
              "dtype: int64"
            ]
          },
          "metadata": {},
          "execution_count": 7
        }
      ]
    },
    {
      "cell_type": "markdown",
      "source": [
        "### Manipulasi Dataframe - Memilih Kolom dan Baris"
      ],
      "metadata": {
        "id": "Dr2SAz_ppAOm"
      }
    },
    {
      "cell_type": "code",
      "source": [
        "import pandas as pd\n",
        "raw_data = pd.read_csv(\"https://storage.googleapis.com/dqlab-dataset/dataset_statistic.csv\", sep=';')\n",
        "\n",
        "# Memilih kolom 'Pendapatan' saja\n",
        "print (raw_data['Pendapatan'])\n",
        "\n",
        "# Memilih kolom 'Jenis Kelamin' dan 'Pendapatan'\n",
        "print (raw_data[['Jenis Kelamin', 'Pendapatan']])"
      ],
      "metadata": {
        "colab": {
          "base_uri": "https://localhost:8080/"
        },
        "id": "GIzsdGvYpDEG",
        "outputId": "70668223-8c77-4806-e6b2-3bcf67f57d9b"
      },
      "execution_count": 8,
      "outputs": [
        {
          "output_type": "stream",
          "name": "stdout",
          "text": [
            "0      600000\n",
            "1     1200000\n",
            "2      950000\n",
            "3      400000\n",
            "4     1200000\n",
            "5      800000\n",
            "6      950000\n",
            "7     1100000\n",
            "8      800000\n",
            "9     1700000\n",
            "10     600000\n",
            "11     950000\n",
            "12     400000\n",
            "13    6450000\n",
            "14    1000000\n",
            "15     800000\n",
            "16    1200000\n",
            "17     700000\n",
            "18     600000\n",
            "19     800000\n",
            "Name: Pendapatan, dtype: int64\n",
            "    Jenis Kelamin  Pendapatan\n",
            "0               1      600000\n",
            "1               2     1200000\n",
            "2               2      950000\n",
            "3               1      400000\n",
            "4               2     1200000\n",
            "5               1      800000\n",
            "6               1      950000\n",
            "7               2     1100000\n",
            "8               2      800000\n",
            "9               2     1700000\n",
            "10              2      600000\n",
            "11              2      950000\n",
            "12              2      400000\n",
            "13              2     6450000\n",
            "14              2     1000000\n",
            "15              2      800000\n",
            "16              1     1200000\n",
            "17              2      700000\n",
            "18              2      600000\n",
            "19              1      800000\n"
          ]
        }
      ]
    },
    {
      "cell_type": "markdown",
      "source": [
        "### Metode Loc"
      ],
      "metadata": {
        "id": "q71oNSwrpGKW"
      }
    },
    {
      "cell_type": "code",
      "source": [
        "import pandas as pd\n",
        "raw_data = pd.read_csv(\"https://storage.googleapis.com/dqlab-dataset/dataset_statistic.csv\", sep=';')\n",
        "\n",
        "# mengambil data dari baris ke-0 sampai baris ke-(10-1) atau baris ke-9\n",
        "print(raw_data[:10])\n",
        " \n",
        "# mengambil data dari baris ke-3 sampai baris ke-(5-1) atau baris ke-4\n",
        "print(raw_data[3:5])\n",
        " \n",
        "# mengambil data pada baris ke-1, ke-3 dan ke-10\n",
        "print(raw_data.loc[[1,3,10]])\n",
        "\n",
        "# Mengambil kolom 'Jenis Kelamin' dan 'Pendapatan' dan ambil baris ke-1 sampai ke-9\n",
        "print(raw_data[['Jenis Kelamin', 'Pendapatan']][1:10])\n",
        " \n",
        "# Mengambil kolom 'Harga' dan 'Tingkat Kepuasan' dan ambil baris ke-1, ke-10 dan ke-15\n",
        "print(raw_data[['Harga', 'Tingkat Kepuasan']].loc[[1,10,15]])"
      ],
      "metadata": {
        "colab": {
          "base_uri": "https://localhost:8080/"
        },
        "id": "E7q0q2YxpJN-",
        "outputId": "8bc343bc-92bf-4786-dc7c-7af4bb5cdd1f"
      },
      "execution_count": 9,
      "outputs": [
        {
          "output_type": "stream",
          "name": "stdout",
          "text": [
            "   ID Pelanggan     Nama  Jenis Kelamin  ...  Jumlah     Total  Tingkat Kepuasan\n",
            "0             1     Arif              1  ...        4   400000                 2\n",
            "1             2     Dian              2  ...        4  1000000                 2\n",
            "2             3    Dinda              2  ...        3   750000                 3\n",
            "3             4    Fajar              1  ...        2   200000                 3\n",
            "4             5      Ika              2  ...        4  1000000                 2\n",
            "5             6    Ilham              1  ...        4   600000                 3\n",
            "6             7    Indra              1  ...        5   750000                 1\n",
            "7             8  Kartika              2  ...        3   900000                 3\n",
            "8             9  Lestari              2  ...        2   600000                 1\n",
            "9            10      Lia              2  ...        5  1500000                 1\n",
            "\n",
            "[10 rows x 9 columns]\n",
            "   ID Pelanggan   Nama  Jenis Kelamin  ...  Jumlah     Total  Tingkat Kepuasan\n",
            "3             4  Fajar              1  ...        2   200000                 3\n",
            "4             5    Ika              2  ...        4  1000000                 2\n",
            "\n",
            "[2 rows x 9 columns]\n",
            "    ID Pelanggan   Nama  Jenis Kelamin  ...  Jumlah     Total  Tingkat Kepuasan\n",
            "1              2   Dian              2  ...        4  1000000                 2\n",
            "3              4  Fajar              1  ...        2   200000                 3\n",
            "10            11  Maria              2  ...        4   400000                 3\n",
            "\n",
            "[3 rows x 9 columns]\n",
            "   Jenis Kelamin  Pendapatan\n",
            "1              2     1200000\n",
            "2              2      950000\n",
            "3              1      400000\n",
            "4              2     1200000\n",
            "5              1      800000\n",
            "6              1      950000\n",
            "7              2     1100000\n",
            "8              2      800000\n",
            "9              2     1700000\n",
            "     Harga  Tingkat Kepuasan\n",
            "1   250000                 2\n",
            "10  100000                 3\n",
            "15  150000                 1\n"
          ]
        }
      ]
    },
    {
      "cell_type": "markdown",
      "source": [
        "# Ukuran Pusat"
      ],
      "metadata": {
        "id": "SkFH1Zs0pdO4"
      }
    },
    {
      "cell_type": "markdown",
      "source": [
        "### Rata-rata (Mean)"
      ],
      "metadata": {
        "id": "4Sv7RJNSpL9G"
      }
    },
    {
      "cell_type": "code",
      "source": [
        "import numpy as np\n",
        "import pandas as pd\n",
        "raw_data = pd.read_csv(\"https://storage.googleapis.com/dqlab-dataset/dataset_statistic.csv\", sep=';')\n",
        "\n",
        "# mengambil hanya data untuk produk 'A'\n",
        "produk_A = raw_data[raw_data['Produk'] == 'A']\n",
        " \n",
        "# menghitung rerata pendapatan menggunakan method .mean pada objek pandas DataFrame\n",
        "print (produk_A['Pendapatan'].mean())\n",
        " \n",
        "# menghitung rerata pendapatan menggunakan method .mean pada objek pandas DataFrame dengan numpy\n",
        "print (np.mean(produk_A['Pendapatan']))"
      ],
      "metadata": {
        "colab": {
          "base_uri": "https://localhost:8080/"
        },
        "id": "kAUV7Y-npWTY",
        "outputId": "b05e459e-b8fd-447c-d870-c9e7bf0fe75a"
      },
      "execution_count": 10,
      "outputs": [
        {
          "output_type": "stream",
          "name": "stdout",
          "text": [
            "550000.0\n",
            "550000.0\n"
          ]
        }
      ]
    },
    {
      "cell_type": "markdown",
      "source": [
        "### Median"
      ],
      "metadata": {
        "id": "eizZvTuYpje3"
      }
    },
    {
      "cell_type": "code",
      "source": [
        "import numpy as np\n",
        "import pandas as pd\n",
        "raw_data = pd.read_csv(\"https://storage.googleapis.com/dqlab-dataset/dataset_statistic.csv\", sep=';')\n",
        "produk_A = raw_data[raw_data['Produk'] == 'A']\n",
        "\n",
        "print (raw_data)\n",
        "# Hitung median dari pendapatan menggunakan pandas\n",
        "print (produk_A['Pendapatan'].median())\n",
        "\n",
        "# Hitung median dari pendapatan menggunakan numpy\n",
        "print (np.median(produk_A['Pendapatan']))"
      ],
      "metadata": {
        "colab": {
          "base_uri": "https://localhost:8080/"
        },
        "id": "eEcBgx8vpn1Z",
        "outputId": "4a52d7c4-7616-4605-cf3a-682db64d67e0"
      },
      "execution_count": 11,
      "outputs": [
        {
          "output_type": "stream",
          "name": "stdout",
          "text": [
            "    ID Pelanggan     Nama  Jenis Kelamin  ...  Jumlah     Total  Tingkat Kepuasan\n",
            "0              1     Arif              1  ...        4   400000                 2\n",
            "1              2     Dian              2  ...        4  1000000                 2\n",
            "2              3    Dinda              2  ...        3   750000                 3\n",
            "3              4    Fajar              1  ...        2   200000                 3\n",
            "4              5      Ika              2  ...        4  1000000                 2\n",
            "5              6    Ilham              1  ...        4   600000                 3\n",
            "6              7    Indra              1  ...        5   750000                 1\n",
            "7              8  Kartika              2  ...        3   900000                 3\n",
            "8              9  Lestari              2  ...        2   600000                 1\n",
            "9             10      Lia              2  ...        5  1500000                 1\n",
            "10            11    Maria              2  ...        4   400000                 3\n",
            "11            12     Maya              2  ...        5   750000                 3\n",
            "12            13     Mila              2  ...        1   200000                 2\n",
            "13            14    Nurul              2  ...        5  1250000                 1\n",
            "14            15    Retno              2  ...        4   800000                 2\n",
            "15            16     Rini              2  ...        4   600000                 1\n",
            "16            17    Rizki              1  ...        5  1000000                 3\n",
            "17            18     Sari              2  ...        2   500000                 1\n",
            "18            19     Tyas              2  ...        4   400000                 3\n",
            "19            20    Wahyu              1  ...        3   600000                 1\n",
            "\n",
            "[20 rows x 9 columns]\n",
            "600000.0\n",
            "600000.0\n"
          ]
        }
      ]
    },
    {
      "cell_type": "markdown",
      "source": [
        "### Modus"
      ],
      "metadata": {
        "id": "Vims74HfpqSH"
      }
    },
    {
      "cell_type": "code",
      "source": [
        "import pandas as pd\n",
        "raw_data = pd.read_csv(\"https://storage.googleapis.com/dqlab-dataset/dataset_statistic.csv\", sep=';')\n",
        "\n",
        "# Melihat jumlah dari masing-masing produk\n",
        "print (raw_data['Produk'].value_counts())"
      ],
      "metadata": {
        "colab": {
          "base_uri": "https://localhost:8080/"
        },
        "id": "nFqXF3HnpvoG",
        "outputId": "2608acb3-23ca-4891-eea1-770ee9567826"
      },
      "execution_count": 12,
      "outputs": [
        {
          "output_type": "stream",
          "name": "stdout",
          "text": [
            "D    5\n",
            "C    4\n",
            "A    4\n",
            "B    4\n",
            "E    3\n",
            "Name: Produk, dtype: int64\n"
          ]
        }
      ]
    },
    {
      "cell_type": "markdown",
      "source": [
        "### Kuantil"
      ],
      "metadata": {
        "id": "oSzyQ5R5p0f_"
      }
    },
    {
      "cell_type": "code",
      "source": [
        "import numpy as np\n",
        "import pandas as pd\n",
        "raw_data = pd.read_csv(\"https://storage.googleapis.com/dqlab-dataset/dataset_statistic.csv\", sep=';')\n",
        "\n",
        "# mencari median atau 50% dari data menggunakan pandas\n",
        "print(raw_data['Pendapatan'].quantile(q = 0.5))\n",
        " \n",
        "# mencari median atau 50% dari data menggunakan pandas\n",
        "print(np.quantile(raw_data['Pendapatan'], q = 0.5))"
      ],
      "metadata": {
        "colab": {
          "base_uri": "https://localhost:8080/"
        },
        "id": "0fqzzPcKp14_",
        "outputId": "d74c034c-bfde-4298-af2d-3fa6e33f65e2"
      },
      "execution_count": 13,
      "outputs": [
        {
          "output_type": "stream",
          "name": "stdout",
          "text": [
            "875000.0\n",
            "875000.0\n"
          ]
        }
      ]
    },
    {
      "cell_type": "markdown",
      "source": [
        "### Agregasi Data dengan method .agg()"
      ],
      "metadata": {
        "id": "YFz8FQYRp9D3"
      }
    },
    {
      "cell_type": "code",
      "source": [
        "import numpy as np\n",
        "import pandas as pd\n",
        "raw_data = pd.read_csv(\"https://storage.googleapis.com/dqlab-dataset/dataset_statistic.csv\", sep=';')\n",
        "\n",
        "# menghitung rerata dan median usia (age) dan insulin (insu)\n",
        "print (raw_data[['Pendapatan', 'Harga']].agg([np.mean, np.median]))\n",
        "\n",
        "# menghitung rerata dan median Pendapatan dan Harga dari tiap produk\n",
        "print (raw_data[['Pendapatan', 'Harga', 'Produk']].groupby('Produk').agg([np.mean, np.median]))"
      ],
      "metadata": {
        "colab": {
          "base_uri": "https://localhost:8080/"
        },
        "id": "VRx_wY6zp-TH",
        "outputId": "e8c970d2-41b2-4cf1-8427-f5b79bd73a79"
      },
      "execution_count": 14,
      "outputs": [
        {
          "output_type": "stream",
          "name": "stdout",
          "text": [
            "        Pendapatan     Harga\n",
            "mean     1160000.0  197500.0\n",
            "median    875000.0  200000.0\n",
            "       Pendapatan            Harga        \n",
            "             mean   median    mean  median\n",
            "Produk                                    \n",
            "A          550000   600000  100000  100000\n",
            "B          875000   875000  150000  150000\n",
            "C          850000   900000  200000  200000\n",
            "D         2100000  1200000  250000  250000\n",
            "E         1200000  1100000  300000  300000\n"
          ]
        }
      ]
    },
    {
      "cell_type": "markdown",
      "source": [
        "# Ukuran Sebaran"
      ],
      "metadata": {
        "id": "T-vkMeylqHpv"
      }
    },
    {
      "cell_type": "markdown",
      "source": [
        "### Proporsi Kategori"
      ],
      "metadata": {
        "id": "3N6YrstyqLbf"
      }
    },
    {
      "cell_type": "code",
      "source": [
        "import pandas as pd\n",
        "raw_data = pd.read_csv(\"https://storage.googleapis.com/dqlab-dataset/dataset_statistic.csv\", sep=';')\n",
        "\n",
        "# cari proporsi tiap Produk\n",
        "print(raw_data['Produk'].value_counts()/raw_data.shape[0])"
      ],
      "metadata": {
        "colab": {
          "base_uri": "https://localhost:8080/"
        },
        "id": "tnZlNaQxqNlX",
        "outputId": "22be64d6-fe75-4672-c793-290759589bfc"
      },
      "execution_count": 15,
      "outputs": [
        {
          "output_type": "stream",
          "name": "stdout",
          "text": [
            "D    0.25\n",
            "C    0.20\n",
            "A    0.20\n",
            "B    0.20\n",
            "E    0.15\n",
            "Name: Produk, dtype: float64\n"
          ]
        }
      ]
    },
    {
      "cell_type": "markdown",
      "source": [
        "### Ukuran Sebaran pada Data Interval dan Rasio"
      ],
      "metadata": {
        "id": "VHnBD9cHqR7O"
      }
    },
    {
      "cell_type": "code",
      "source": [
        "import pandas as pd\n",
        "raw_data = pd.read_csv(\"https://storage.googleapis.com/dqlab-dataset/dataset_statistic.csv\", sep=';')\n",
        "\n",
        "# Cari nilai rentang dari kolom 'Pendapatan'\n",
        "print (raw_data['Pendapatan'].max() - raw_data['Pendapatan'].min())"
      ],
      "metadata": {
        "colab": {
          "base_uri": "https://localhost:8080/"
        },
        "id": "vUdqFIRGqTBA",
        "outputId": "d2f5cad0-3dc1-43b7-c060-83a87ccc42b7"
      },
      "execution_count": 16,
      "outputs": [
        {
          "output_type": "stream",
          "name": "stdout",
          "text": [
            "6050000\n"
          ]
        }
      ]
    },
    {
      "cell_type": "markdown",
      "source": [
        "### Variansi"
      ],
      "metadata": {
        "id": "h9daHoemqW1H"
      }
    },
    {
      "cell_type": "code",
      "source": [
        "import numpy as np\n",
        "import pandas as pd\n",
        "raw_data = pd.read_csv(\"https://storage.googleapis.com/dqlab-dataset/dataset_statistic.csv\", sep=';')\n",
        "\n",
        "# menghitung variansi umur menggunakan method .var() dari pandas\n",
        "print (raw_data['Pendapatan'].var())\n",
        " \n",
        "# menghitung variansi umur menggunakan method .var() dari numpy\n",
        "print (np.var(raw_data['Pendapatan']))\n",
        "\n",
        "# mengatur variansi populasi dengan method `.var()` dari pandas\n",
        "print (raw_data['Pendapatan'].var(ddof=0))"
      ],
      "metadata": {
        "colab": {
          "base_uri": "https://localhost:8080/"
        },
        "id": "nmCannd9qZO_",
        "outputId": "d43d9050-aa4b-4db7-a92b-6612f051f3e6"
      },
      "execution_count": 17,
      "outputs": [
        {
          "output_type": "stream",
          "name": "stdout",
          "text": [
            "1645684210526.3157\n",
            "1563400000000.0\n",
            "1563400000000.0\n"
          ]
        }
      ]
    },
    {
      "cell_type": "markdown",
      "source": [
        "### Deviasi Baku (Standard Deviation)"
      ],
      "metadata": {
        "id": "EOTzmuSvqdoo"
      }
    },
    {
      "cell_type": "code",
      "source": [
        "import numpy as np\n",
        "import pandas as pd\n",
        "raw_data = pd.read_csv(\"https://storage.googleapis.com/dqlab-dataset/dataset_statistic.csv\", sep=';')\n",
        "\n",
        "# menghitung deviasi baku sampel pendapatan menggunakan method std() dari pandas\n",
        "print (raw_data['Pendapatan'].std())\n",
        " \n",
        "# menghitung deviasi baku sampel pendapatan menggunakan method std() dari numpy\n",
        "print (np.std(raw_data['Pendapatan'], ddof = 1))"
      ],
      "metadata": {
        "colab": {
          "base_uri": "https://localhost:8080/"
        },
        "id": "5Q3rbi6Aqefw",
        "outputId": "91490b55-588c-45b6-fcf7-b986c17f951e"
      },
      "execution_count": 18,
      "outputs": [
        {
          "output_type": "stream",
          "name": "stdout",
          "text": [
            "1282842.2391417876\n",
            "1282842.2391417876\n"
          ]
        }
      ]
    },
    {
      "cell_type": "markdown",
      "source": [
        "# Korelasi"
      ],
      "metadata": {
        "id": "pYfyUEh8qmtg"
      }
    },
    {
      "cell_type": "markdown",
      "source": [
        "### Menghitung Korelasi"
      ],
      "metadata": {
        "id": "MxUSpn4MqqbU"
      }
    },
    {
      "cell_type": "code",
      "source": [
        "import pandas as pd\n",
        "raw_data = pd.read_csv(\"https://storage.googleapis.com/dqlab-dataset/dataset_statistic.csv\", sep=';')\n",
        "\n",
        "# menghitung korelasi dari setiap pasang variabel pada raw_data\n",
        "print (raw_data.corr())\n",
        "\n",
        "# mencari korelasi 'kendall' untuk tiap pasang variabel\n",
        "print (raw_data.corr(method='kendall'))\n",
        " \n",
        "# mencari korelasi 'spearman' untuk tiap pasang variabel\n",
        "print (raw_data.corr(method='spearman'))"
      ],
      "metadata": {
        "colab": {
          "base_uri": "https://localhost:8080/"
        },
        "id": "oBfcz57RqwUH",
        "outputId": "1ea02be6-8e02-4560-f509-8516d502de50"
      },
      "execution_count": 19,
      "outputs": [
        {
          "output_type": "stream",
          "name": "stdout",
          "text": [
            "                  ID Pelanggan  Jenis Kelamin  ...     Total  Tingkat Kepuasan\n",
            "ID Pelanggan          1.000000       0.151375  ... -0.039968         -0.245717\n",
            "Jenis Kelamin         0.151375       1.000000  ...  0.238051         -0.088339\n",
            "Pendapatan            0.110958       0.192849  ...  0.592044         -0.312663\n",
            "Harga                -0.028707       0.457555  ...  0.645455         -0.380798\n",
            "Jumlah                0.011289      -0.104168  ...  0.636097          0.017568\n",
            "Total                -0.039968       0.238051  ...  1.000000         -0.268345\n",
            "Tingkat Kepuasan     -0.245717      -0.088339  ... -0.268345          1.000000\n",
            "\n",
            "[7 rows x 7 columns]\n",
            "                  ID Pelanggan  Jenis Kelamin  ...     Total  Tingkat Kepuasan\n",
            "ID Pelanggan          1.000000       0.126650  ... -0.065998         -0.183817\n",
            "Jenis Kelamin         0.126650       1.000000  ...  0.190245         -0.085796\n",
            "Pendapatan           -0.054998       0.190245  ...  0.988506         -0.165588\n",
            "Harga                -0.005753       0.415339  ...  0.535078         -0.325659\n",
            "Jumlah                0.024016      -0.090299  ...  0.501925         -0.028923\n",
            "Total                -0.065998       0.190245  ...  1.000000         -0.165588\n",
            "Tingkat Kepuasan     -0.183817      -0.085796  ... -0.165588          1.000000\n",
            "\n",
            "[7 rows x 7 columns]\n",
            "                  ID Pelanggan  Jenis Kelamin  ...     Total  Tingkat Kepuasan\n",
            "ID Pelanggan          1.000000       0.151375  ... -0.069779         -0.238890\n",
            "Jenis Kelamin         0.151375       1.000000  ...  0.219508         -0.090784\n",
            "Pendapatan           -0.063711       0.219508  ...  0.998470         -0.192463\n",
            "Harga                -0.039149       0.463635  ...  0.646194         -0.378933\n",
            "Jumlah                0.046356      -0.098864  ...  0.607110         -0.023874\n",
            "Total                -0.069779       0.219508  ...  1.000000         -0.192463\n",
            "Tingkat Kepuasan     -0.238890      -0.090784  ... -0.192463          1.000000\n",
            "\n",
            "[7 rows x 7 columns]\n"
          ]
        }
      ]
    }
  ]
}