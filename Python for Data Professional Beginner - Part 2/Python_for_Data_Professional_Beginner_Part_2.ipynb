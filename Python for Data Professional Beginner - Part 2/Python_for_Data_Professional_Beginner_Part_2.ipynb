{
  "nbformat": 4,
  "nbformat_minor": 0,
  "metadata": {
    "colab": {
      "name": "Python for Data Professional Beginner - Part 2.ipynb",
      "provenance": []
    },
    "kernelspec": {
      "name": "python3",
      "display_name": "Python 3"
    },
    "language_info": {
      "name": "python"
    }
  },
  "cells": [
    {
      "cell_type": "markdown",
      "source": [
        "# Collection Manipulation dengan Python"
      ],
      "metadata": {
        "id": "jPLSZZ70X5xY"
      }
    },
    {
      "cell_type": "markdown",
      "source": [
        "### Mengakses List dan Tuple – Part 1"
      ],
      "metadata": {
        "id": "XegXeXfcX_lv"
      }
    },
    {
      "cell_type": "code",
      "execution_count": 1,
      "metadata": {
        "colab": {
          "base_uri": "https://localhost:8080/"
        },
        "id": "tFPy1lBGXt6M",
        "outputId": "eb10b50d-5b27-4f7a-bc1d-359160087323"
      },
      "outputs": [
        {
          "output_type": "stream",
          "name": "stdout",
          "text": [
            "Januari\n",
            "Juni\n",
            "Desember\n",
            "November\n"
          ]
        }
      ],
      "source": [
        "bulan_pembelian = ('Januari', 'Februari', 'Maret', 'April', 'Mei', 'Juni', 'Juli', 'Agustus', 'September', 'Oktober', 'November', 'Desember')\n",
        "print(bulan_pembelian[0])\n",
        "print(bulan_pembelian[5])\n",
        "print(bulan_pembelian[-1])\n",
        "print(bulan_pembelian[-2])"
      ]
    },
    {
      "cell_type": "markdown",
      "source": [
        "### Mengakses List dan Tuple – Part 2"
      ],
      "metadata": {
        "id": "LK6ga2EVYIvo"
      }
    },
    {
      "cell_type": "code",
      "source": [
        "bulan_pembelian = ('Januari', 'Februari', 'Maret', 'April', 'Mei', 'Juni', 'Juli', 'Agustus', 'September', 'Oktober', 'November', 'Desember')\n",
        "pertengahan_tahun = bulan_pembelian[4:8]\n",
        "print(pertengahan_tahun)\n",
        "\n",
        "awal_tahun = bulan_pembelian[:5]\n",
        "print(awal_tahun)\n",
        "\n",
        "akhir_tahun = bulan_pembelian[8:]\n",
        "print(akhir_tahun)\n",
        "print(bulan_pembelian[-4:-1])"
      ],
      "metadata": {
        "colab": {
          "base_uri": "https://localhost:8080/"
        },
        "id": "mHKB2BuLYKVZ",
        "outputId": "1a2815bc-b31b-49ee-8bea-7eb4c80a452a"
      },
      "execution_count": 2,
      "outputs": [
        {
          "output_type": "stream",
          "name": "stdout",
          "text": [
            "('Mei', 'Juni', 'Juli', 'Agustus')\n",
            "('Januari', 'Februari', 'Maret', 'April', 'Mei')\n",
            "('September', 'Oktober', 'November', 'Desember')\n",
            "('September', 'Oktober', 'November')\n"
          ]
        }
      ]
    },
    {
      "cell_type": "markdown",
      "source": [
        "### Penggabungan Dua atau Lebih List atau Tuple"
      ],
      "metadata": {
        "id": "IavJmbQnYPJg"
      }
    },
    {
      "cell_type": "code",
      "source": [
        "list_makanan = ['Gado-gado', 'Ayam Goreng', 'Rendang']\n",
        "list_minuman = ['Es Teh', 'Es Jeruk', 'Es Campur']\n",
        "list_menu = list_makanan + list_minuman\n",
        "print(list_menu)"
      ],
      "metadata": {
        "colab": {
          "base_uri": "https://localhost:8080/"
        },
        "id": "FZe8xNbtYVHg",
        "outputId": "dbc94751-07fc-4178-eb26-bdb5a03c7765"
      },
      "execution_count": 3,
      "outputs": [
        {
          "output_type": "stream",
          "name": "stdout",
          "text": [
            "['Gado-gado', 'Ayam Goreng', 'Rendang', 'Es Teh', 'Es Jeruk', 'Es Campur']\n"
          ]
        }
      ]
    },
    {
      "cell_type": "markdown",
      "source": [
        "### List Manipulation – Part 1"
      ],
      "metadata": {
        "id": "sjTJs-0yYXsI"
      }
    },
    {
      "cell_type": "code",
      "source": [
        "# Fitur .append()\n",
        "print(\">>> Fitur .append()\")\n",
        "list_makanan = ['Gado-gado', 'Ayam Goreng', 'Rendang']\n",
        "list_makanan.append('Ketoprak')\n",
        "print(list_makanan)\n",
        "\n",
        "# Fitur .clear()\n",
        "print(\">>> Fitur .clear()\")\n",
        "list_makanan = ['Gado-gado', 'Ayam Goreng', 'Rendang']\n",
        "list_makanan.clear()\n",
        "print(list_makanan)\n",
        "\n",
        "# Fitur .copy()\n",
        "print(\">>> Fitur .copy()\")\n",
        "list_makanan1 = ['Gado-gado', 'Ayam Goreng', 'Rendang']\n",
        "list_makanan2 = list_makanan1.copy()\n",
        "list_makanan3 = list_makanan1\n",
        "list_makanan2.append('Opor')\n",
        "list_makanan3.append('Ketoprak')\n",
        "print(list_makanan1)\n",
        "print(list_makanan2)\n",
        "\n",
        "# Fitur .count()\n",
        "print(\">>> Fitur .count()\")\n",
        "list_score = ['Budi', 'Sud', 'Budi', 'Budi', 'Budi', 'Sud', 'Sud']\n",
        "score_budi = list_score.count('Budi')\n",
        "score_sud = list_score.count('Sud')\n",
        "print(score_budi) # akan menampilkan output 4\n",
        "print(score_sud) # akan menampilkan output 3\n",
        "\n",
        "# Fitur .extend()\n",
        "print(\">>> Fitur .extend()\")\n",
        "list_menu = ['Gado-gado', 'Ayam Goreng', 'Rendang']\n",
        "list_minuman = ['Es Teh', 'Es Jeruk', 'Es Campur']\n",
        "list_menu.extend(list_minuman)\n",
        "print(list_menu)"
      ],
      "metadata": {
        "colab": {
          "base_uri": "https://localhost:8080/"
        },
        "id": "HTs_JwLhYeFZ",
        "outputId": "25808dde-2cdf-48cd-dd7f-82d6b13b19e4"
      },
      "execution_count": 4,
      "outputs": [
        {
          "output_type": "stream",
          "name": "stdout",
          "text": [
            ">>> Fitur .append()\n",
            "['Gado-gado', 'Ayam Goreng', 'Rendang', 'Ketoprak']\n",
            ">>> Fitur .clear()\n",
            "[]\n",
            ">>> Fitur .copy()\n",
            "['Gado-gado', 'Ayam Goreng', 'Rendang', 'Ketoprak']\n",
            "['Gado-gado', 'Ayam Goreng', 'Rendang', 'Opor']\n",
            ">>> Fitur .count()\n",
            "4\n",
            "3\n",
            ">>> Fitur .extend()\n",
            "['Gado-gado', 'Ayam Goreng', 'Rendang', 'Es Teh', 'Es Jeruk', 'Es Campur']\n"
          ]
        }
      ]
    },
    {
      "cell_type": "markdown",
      "source": [
        "### List Manipulation – Part 2"
      ],
      "metadata": {
        "id": "PZNoBreLYl1I"
      }
    },
    {
      "cell_type": "code",
      "source": [
        "# Fitur .index()\n",
        "print(\">>> Fitur .index()\")\n",
        "list_score = ['Budi','Sud','Budi','Budi','Budi','Sud','Sud']\n",
        "score_pertama_sud = list_score.index('Sud') + 1\n",
        "print(score_pertama_sud) # akan menampilkan output 2\n",
        "\n",
        "# Fitur .insert()\n",
        "print(\">>> Fitur .insert()\")\n",
        "list_score = ['Budi','Sud','Budi','Budi','Sud']\n",
        "list_score.insert(3, 'Sud')\n",
        "print(list_score)\n",
        "\n",
        "# Fitur .pop()\n",
        "print(\">>> Fitur .pop()\")\n",
        "list_menu = ['Gado-gado', 'Ayam Goreng', 'Rendang']\n",
        "list_menu.pop(1)\n",
        "print(list_menu)\n",
        "\n",
        "# Fitur .remove()\n",
        "print(\">>> Fitur .remove()\")\n",
        "list_menu = ['Gado-gado', 'Ayam Goreng', 'Rendang', 'Ketoprak']\n",
        "list_menu.remove('Rendang')\n",
        "print(list_menu)\n",
        "\n",
        "# Fitur .reverse()\n",
        "print(\">>> Fitur .reverse()\")\n",
        "list_menu = ['Gado-gado', 'Ayam Goreng', 'Rendang', 'Ketoprak']\n",
        "list_menu.reverse()\n",
        "print(list_menu)\n",
        "\n",
        "# Fitur .sort()\n",
        "print(\">>> Fitur .sort()\")\n",
        "list_menu = ['Gado-gado', 'Ayam Goreng', 'Rendang', 'Ketoprak']\n",
        "list_menu.sort() # Default: Ascending\n",
        "print(list_menu) \n",
        "list_menu.sort(reverse = True)# Descending\n",
        "print(list_menu) "
      ],
      "metadata": {
        "colab": {
          "base_uri": "https://localhost:8080/"
        },
        "id": "WLRkID9hYsDo",
        "outputId": "145c7532-08b8-4d2f-96aa-501f573553ab"
      },
      "execution_count": 5,
      "outputs": [
        {
          "output_type": "stream",
          "name": "stdout",
          "text": [
            ">>> Fitur .index()\n",
            "2\n",
            ">>> Fitur .insert()\n",
            "['Budi', 'Sud', 'Budi', 'Sud', 'Budi', 'Sud']\n",
            ">>> Fitur .pop()\n",
            "['Gado-gado', 'Rendang']\n",
            ">>> Fitur .remove()\n",
            "['Gado-gado', 'Ayam Goreng', 'Ketoprak']\n",
            ">>> Fitur .reverse()\n",
            "['Ketoprak', 'Rendang', 'Ayam Goreng', 'Gado-gado']\n",
            ">>> Fitur .sort()\n",
            "['Ayam Goreng', 'Gado-gado', 'Ketoprak', 'Rendang']\n",
            "['Rendang', 'Ketoprak', 'Gado-gado', 'Ayam Goreng']\n"
          ]
        }
      ]
    },
    {
      "cell_type": "markdown",
      "source": [
        "### Tuple Manipulation"
      ],
      "metadata": {
        "id": "U12mFRj2Y0pX"
      }
    },
    {
      "cell_type": "code",
      "source": [
        "# Fitur .count()\n",
        "print(\">>> Fitur .count()\")\n",
        "tuple_score = ('Budi', 'Sud', 'Budi', 'Budi', 'Budi', 'Sud', 'Sud')\n",
        "score_budi = tuple_score.count('Budi')\n",
        "score_sud = tuple_score.count('Sud')\n",
        "print(score_budi) # akan menampilkan output 4\n",
        "print(score_sud) # akan menampilkan output 3\n",
        "\n",
        "# Fitur .index()\n",
        "print(\">>> Fitur .index()\")\n",
        "tuple_score = ('Budi','Sud','Budi','Budi','Budi','Sud','Sud')\n",
        "score_pertama_sud = tuple_score.index('Sud')+1\n",
        "print(score_pertama_sud) # akan menampilkan output 2"
      ],
      "metadata": {
        "colab": {
          "base_uri": "https://localhost:8080/"
        },
        "id": "N5peTjS6Y3Ln",
        "outputId": "04a6663e-3a8b-4618-b87d-196fca1fbccd"
      },
      "execution_count": 6,
      "outputs": [
        {
          "output_type": "stream",
          "name": "stdout",
          "text": [
            ">>> Fitur .count()\n",
            "4\n",
            "3\n",
            ">>> Fitur .index()\n",
            "2\n"
          ]
        }
      ]
    },
    {
      "cell_type": "markdown",
      "source": [
        "### Set Manipulation – Part 1"
      ],
      "metadata": {
        "id": "f6c8CcoBY6hw"
      }
    },
    {
      "cell_type": "code",
      "source": [
        "# Fitur .add()\n",
        "print(\">>> Fitur .add()\")\n",
        "set_buah = {'Jeruk','Apel','Anggur'}\n",
        "set_buah.add('Melon')\n",
        "print(set_buah)\n",
        "\n",
        "# Fitur .clear()\n",
        "print(\">>> Fitur .clear()\")\n",
        "set_buah = {'Jeruk','Apel','Anggur'}\n",
        "set_buah.clear()\n",
        "print(set_buah)\n",
        "\n",
        "# Fitur .copy()\n",
        "print(\">>> Fitur .copy()\")\n",
        "set_buah1 = {'Jeruk','Apel','Anggur'}\n",
        "set_buah2 = set_buah1\n",
        "set_buah3 = set_buah1.copy()\n",
        "set_buah2.add('Melon')\n",
        "set_buah3.add('Kiwi')\n",
        "print(set_buah1)\n",
        "print(set_buah2)\n",
        "\n",
        "# Fitur .update()\n",
        "print(\">>> Fitur .update()\")\n",
        "parcel1 = {'Anggur','Apel','Jeruk'}\n",
        "parcel2 = {'Apel','Kiwi','Melon'}\n",
        "parcel1.update(parcel2)\n",
        "print(parcel1)\n",
        "\n",
        "# Fitur .pop()\n",
        "print(\">>> Fitur .pop()\")\n",
        "parcel = {'Anggur','Apel','Jeruk'}\n",
        "buah = parcel.pop()\n",
        "print(buah)\n",
        "print(parcel)\n",
        "\n",
        "# Fitur .remove()\n",
        "print(\">>> Fitur .remove()\")\n",
        "parcel = {'Anggur','Apel','Jeruk'}\n",
        "parcel.remove('Apel')\n",
        "print(parcel)"
      ],
      "metadata": {
        "colab": {
          "base_uri": "https://localhost:8080/"
        },
        "id": "ZY2GmBXsY_Xn",
        "outputId": "173ae3b2-a8a6-4071-b1b5-dfc4cbd72389"
      },
      "execution_count": 7,
      "outputs": [
        {
          "output_type": "stream",
          "name": "stdout",
          "text": [
            ">>> Fitur .add()\n",
            "{'Apel', 'Anggur', 'Jeruk', 'Melon'}\n",
            ">>> Fitur .clear()\n",
            "set()\n",
            ">>> Fitur .copy()\n",
            "{'Apel', 'Anggur', 'Jeruk', 'Melon'}\n",
            "{'Apel', 'Anggur', 'Jeruk', 'Melon'}\n",
            ">>> Fitur .update()\n",
            "{'Anggur', 'Jeruk', 'Apel', 'Kiwi', 'Melon'}\n",
            ">>> Fitur .pop()\n",
            "Apel\n",
            "{'Anggur', 'Jeruk'}\n",
            ">>> Fitur .remove()\n",
            "{'Anggur', 'Jeruk'}\n"
          ]
        }
      ]
    },
    {
      "cell_type": "markdown",
      "source": [
        "### Set Manipulation – Part 2"
      ],
      "metadata": {
        "id": "YOSZzdeBZErY"
      }
    },
    {
      "cell_type": "code",
      "source": [
        "# Fitur .union()\n",
        "print(\">>> Fitur .union()\")\n",
        "parcel1 = {'Anggur','Apel','Jeruk'}\n",
        "parcel2 = {'Apel','Kiwi','Melon'}\n",
        "parcel3 = parcel1.union(parcel2)\n",
        "print(parcel1)\n",
        "print(parcel3)\n",
        "\n",
        "# Fitur .isdisjoint()\n",
        "print(\">>> Fitur .isdisjoint()\")\n",
        "parcel1 = {'Anggur','Apel','Jeruk'}\n",
        "parcel2 = {'Kiwi','Melon','Pisang'}\n",
        "parcel3 = {'Apel','Srikaya','Semangka'}\n",
        "parcel1_parcel2_disjoint = parcel1.isdisjoint(parcel2)\n",
        "print(parcel1_parcel2_disjoint)\n",
        "parcel1_parcel3_disjoint = parcel1.isdisjoint(parcel3)\n",
        "print(parcel1_parcel3_disjoint)\n",
        "\n",
        "# Fitur .issubset()\n",
        "print(\">>> Fitur .issubset()\")\n",
        "parcel_A = {'Anggur', 'Apel'}\n",
        "parcel_B = {'Durian','Semangka','Apel'}\n",
        "parcel_C = {'Anggur', 'Kiwi', 'Apel', 'Jeruk', 'Melon'}\n",
        "parcel_A_dalam_C = parcel_A.issubset(parcel_C)\n",
        "parcel_B_dalam_C = parcel_B.issubset(parcel_C)\n",
        "print(parcel_A_dalam_C)\n",
        "print(parcel_B_dalam_C)\n",
        "\n",
        "# Fitur .issuperset()\n",
        "print(\">>> Fitur .issuperset()\")\n",
        "parcel_C_mengandung_A = parcel_C.issuperset(parcel_A)\n",
        "parcel_C_mengandung_B = parcel_C.issuperset(parcel_B)\n",
        "print(parcel_C_mengandung_A)\n",
        "print(parcel_C_mengandung_B)\n",
        "\n",
        "# Fitur .intersection()\n",
        "print(\">>> Fitur .intersection()\")\n",
        "parcel_A = {'Anggur', 'Kiwi', 'Apel', 'Jeruk', 'Melon'}\n",
        "parcel_B = {'Apel', 'Jeruk', 'Semangka', 'Durian', 'Tomat'}\n",
        "parcel_C = parcel_A.intersection(parcel_B)\n",
        "print(parcel_C)\n",
        "\n",
        "# Fitur .difference()\n",
        "print(\">>> Fitur .difference()\")\n",
        "parcel_C = parcel_A.difference(parcel_B)\n",
        "print(parcel_C)\n",
        "\n",
        "# Fitur .symmetric_difference()\n",
        "print(\">>> Fitur .symmetric_difference()\")\n",
        "parcel_A = {'Anggur', 'Apel', 'Jeruk', 'Melon'}\n",
        "parcel_B = {'Apel','Jeruk','Semangka','Leci'}\n",
        "parcel_C = parcel_A.symmetric_difference(parcel_B)\n",
        "print(parcel_C)"
      ],
      "metadata": {
        "colab": {
          "base_uri": "https://localhost:8080/"
        },
        "id": "RakNWHQVZH-_",
        "outputId": "00bc45b2-7248-41f7-eb55-1968509db3ca"
      },
      "execution_count": 8,
      "outputs": [
        {
          "output_type": "stream",
          "name": "stdout",
          "text": [
            ">>> Fitur .union()\n",
            "{'Apel', 'Anggur', 'Jeruk'}\n",
            "{'Anggur', 'Jeruk', 'Apel', 'Kiwi', 'Melon'}\n",
            ">>> Fitur .isdisjoint()\n",
            "True\n",
            "False\n",
            ">>> Fitur .issubset()\n",
            "True\n",
            "False\n",
            ">>> Fitur .issuperset()\n",
            "True\n",
            "False\n",
            ">>> Fitur .intersection()\n",
            "{'Apel', 'Jeruk'}\n",
            ">>> Fitur .difference()\n",
            "{'Anggur', 'Kiwi', 'Melon'}\n",
            ">>> Fitur .symmetric_difference()\n",
            "{'Anggur', 'Leci', 'Melon', 'Semangka'}\n"
          ]
        }
      ]
    },
    {
      "cell_type": "markdown",
      "source": [
        "### Dictionary Manipulation"
      ],
      "metadata": {
        "id": "h4NrbavyZP4Q"
      }
    },
    {
      "cell_type": "code",
      "source": [
        "# Fitur .clear()\n",
        "print(\">>> Fitur .clear()\")\n",
        "info_karyawan = {'nama' : 'Aksara',\n",
        "                 'nik' : '1211011',\n",
        "                 'pekerjaan' : 'Data Analyst'}\n",
        "info_karyawan.clear()\n",
        "print(info_karyawan)\n",
        "\n",
        "# Fitur .copy()\n",
        "print(\">>> Fitur .copy()\")\n",
        "info_karyawan1 = {'nama' : 'Aksara',\n",
        "                  'nik' : '1211011',\n",
        "                  'pekerjaan' : 'Data Analyst'}\n",
        "info_karyawan2 = info_karyawan1.copy()\n",
        "info_karyawan2['nama'] = 'Senja'\n",
        "info_karyawan2['nik'] = '1211056'\n",
        "print(info_karyawan1)\n",
        "print(info_karyawan2)\n",
        "\n",
        "# Fitur .keys()\n",
        "print(\">>> Fitur .keys()\")\n",
        "info_karyawan = {'nama' : 'Aksara',\n",
        "                 'nik' : '1211011',\n",
        "                 'pekerjaan' : 'Data Analyst'}\n",
        "kunci_akses = list(info_karyawan.keys())\n",
        "print(kunci_akses)\n",
        "\n",
        "# Fitur .values()\n",
        "print(\">>> Fitur .values()\")\n",
        "value_dict = list(info_karyawan.values())\n",
        "print(value_dict)\n",
        "\n",
        "# Fitur .update()\n",
        "print(\">>> Fitur .update()\")\n",
        "info_karyawan.update({'skillset':['Python', 'R']})\n",
        "print(info_karyawan)"
      ],
      "metadata": {
        "colab": {
          "base_uri": "https://localhost:8080/"
        },
        "id": "ax2iIBzQZUV4",
        "outputId": "319c3ddb-e8e5-4bd9-9f41-ec32ee3cd046"
      },
      "execution_count": 9,
      "outputs": [
        {
          "output_type": "stream",
          "name": "stdout",
          "text": [
            ">>> Fitur .clear()\n",
            "{}\n",
            ">>> Fitur .copy()\n",
            "{'nama': 'Aksara', 'nik': '1211011', 'pekerjaan': 'Data Analyst'}\n",
            "{'nama': 'Senja', 'nik': '1211056', 'pekerjaan': 'Data Analyst'}\n",
            ">>> Fitur .keys()\n",
            "['nama', 'nik', 'pekerjaan']\n",
            ">>> Fitur .values()\n",
            "['Aksara', '1211011', 'Data Analyst']\n",
            ">>> Fitur .update()\n",
            "{'nama': 'Aksara', 'nik': '1211011', 'pekerjaan': 'Data Analyst', 'skillset': ['Python', 'R']}\n"
          ]
        }
      ]
    },
    {
      "cell_type": "markdown",
      "source": [
        "### Useful Tips and Tricks"
      ],
      "metadata": {
        "id": "os6d3i1vZZdo"
      }
    },
    {
      "cell_type": "code",
      "source": [
        "# Tuple\n",
        "print(\">>> Tuple\")\n",
        "tuple_menu = ('Gado-gado','Ayam Goreng','Rendang','Ketoprak')\n",
        "jumlah_menu = len(tuple_menu)\n",
        "print(jumlah_menu)\n",
        "\n",
        "# List\n",
        "print(\">>> List\")\n",
        "list_menu = ['Gado-gado','Ayam Goreng','Rendang','Ketoprak']\n",
        "jumlah_menu = len(list_menu)\n",
        "print(jumlah_menu)\n",
        "\n",
        "# Konversi tipe data\n",
        "print(\">>> Konversi tipe data\")\n",
        "list_buah = ['Apel', 'Apel', 'Jeruk', 'Markisa', 'Jeruk', 'Markisa', 'Apel']\n",
        "set_buah = set(list_buah)\n",
        "print(set_buah)\n",
        "list_buah = list(set_buah)\n",
        "list_buah.sort()\n",
        "print(list_buah)"
      ],
      "metadata": {
        "colab": {
          "base_uri": "https://localhost:8080/"
        },
        "id": "HODOecFhZcjo",
        "outputId": "9f3d582d-9fe1-4b6a-e9f0-ab09c210f78a"
      },
      "execution_count": 10,
      "outputs": [
        {
          "output_type": "stream",
          "name": "stdout",
          "text": [
            ">>> Tuple\n",
            "4\n",
            ">>> List\n",
            "4\n",
            ">>> Konversi tipe data\n",
            "{'Apel', 'Markisa', 'Jeruk'}\n",
            "['Apel', 'Jeruk', 'Markisa']\n"
          ]
        }
      ]
    },
    {
      "cell_type": "markdown",
      "source": [
        "### Tugas Praktek"
      ],
      "metadata": {
        "id": "-iTKiuslZh9w"
      }
    },
    {
      "cell_type": "code",
      "source": [
        "# Data keuangan\n",
        "keuangan = {\n",
        "'pengeluaran': [2, 2.5, 2.25, 2.5, 3.2, 2.5, 3.5, 4, 3],\n",
        "'pemasukan': [7.8, 7.5, 9, 7.6, 7.2, 7.5, 7, 10, 7.5]\n",
        "}\n",
        "\n",
        "# Perhitungan rata-rata pemasukan dan rata-rata pengeluaran\n",
        "total_pengeluaran = 0\n",
        "total_pemasukan = 0\n",
        "\n",
        "for biaya in keuangan['pengeluaran']: \n",
        "    total_pengeluaran += biaya\n",
        "for biaya in keuangan['pemasukan']: \n",
        "    total_pemasukan += biaya\n",
        "    \n",
        "rata_rata_pengeluaran = total_pengeluaran/len(keuangan['pengeluaran']) \n",
        "rata_rata_pemasukan = total_pemasukan/len(keuangan['pemasukan'])\n",
        "print(rata_rata_pengeluaran) \n",
        "print(rata_rata_pemasukan)"
      ],
      "metadata": {
        "colab": {
          "base_uri": "https://localhost:8080/"
        },
        "id": "s6gdG-9bZpDQ",
        "outputId": "1de1c9ce-f12b-4b56-ea02-e8d556cbb0a4"
      },
      "execution_count": 11,
      "outputs": [
        {
          "output_type": "stream",
          "name": "stdout",
          "text": [
            "2.8277777777777775\n",
            "7.8999999999999995\n"
          ]
        }
      ]
    },
    {
      "cell_type": "markdown",
      "source": [
        "# String Manipulation dengan Python"
      ],
      "metadata": {
        "id": "-vwBNhNyZx4o"
      }
    },
    {
      "cell_type": "markdown",
      "source": [
        "### Apa itu String Manipulation?"
      ],
      "metadata": {
        "id": "BZT3y3A8Z48J"
      }
    },
    {
      "cell_type": "code",
      "source": [
        "nama_produk = \"Sepatu Niko\"\n",
        "nama_produk = nama_produk[:2] + \"P\" + nama_produk[3:9] + \"K\" + nama_produk[-1]\n",
        "print(nama_produk)\n",
        "print(nama_produk[:7])\n",
        "print(nama_produk[7:])\n",
        "print(len(nama_produk))"
      ],
      "metadata": {
        "colab": {
          "base_uri": "https://localhost:8080/"
        },
        "id": "rrDGipxLZ1BA",
        "outputId": "fb018aeb-8fc8-4bc7-9f43-35df192d4f19"
      },
      "execution_count": 12,
      "outputs": [
        {
          "output_type": "stream",
          "name": "stdout",
          "text": [
            "SePatu NiKo\n",
            "SePatu \n",
            "NiKo\n",
            "11\n"
          ]
        }
      ]
    },
    {
      "cell_type": "markdown",
      "source": [
        "### Operator “+” untuk Tipe Data String"
      ],
      "metadata": {
        "id": "T-Kx_ND8Z_Ji"
      }
    },
    {
      "cell_type": "code",
      "source": [
        "nama_depan = 'John'\n",
        "nama_belakang = 'Doee'\n",
        "nama_lengkap = nama_depan + ' ' + nama_belakang\n",
        "print(nama_lengkap)\n",
        "umur = '27 tahun'\n",
        "alamat = 'Jl. Anggrek No. 100'\n",
        "nama_umur_alamat = 'Hi, saya ' + nama_lengkap + 'umur' + umur + ', tinggal di' + alamat + '.'\n",
        "print(nama_umur_alamat)"
      ],
      "metadata": {
        "colab": {
          "base_uri": "https://localhost:8080/"
        },
        "id": "zNrTk08qaAxR",
        "outputId": "26e659ca-bbf6-45a0-c2e7-c324bef0bd1a"
      },
      "execution_count": 13,
      "outputs": [
        {
          "output_type": "stream",
          "name": "stdout",
          "text": [
            "John Doee\n",
            "Hi, saya John Doeeumur27 tahun, tinggal diJl. Anggrek No. 100.\n"
          ]
        }
      ]
    },
    {
      "cell_type": "markdown",
      "source": [
        "### Menghilangkan Spasi di Awal dan/atau di Akhir"
      ],
      "metadata": {
        "id": "1rZU5iX4aF-A"
      }
    },
    {
      "cell_type": "code",
      "source": [
        "# Fitur .strip()\n",
        "print(\">>> Fitur .strip()\")\n",
        "kata_sambutan = ' halo, selamat siang! '\n",
        "kata_sambutan = kata_sambutan.strip()\n",
        "print(kata_sambutan)\n",
        "\n",
        "# Fitur .lstrip()\n",
        "print(\">>> Fitur .lstrip()\")\n",
        "kata_sambutan = ' halo, selamat siang! '\n",
        "kata_sambutan = kata_sambutan.lstrip()\n",
        "print(kata_sambutan)\n",
        "\n",
        "# Fitur .rstrip()\n",
        "print(\">>> Fitur .rstrip()\")\n",
        "kata_sambutan = ' halo, selamat siang! '\n",
        "kata_sambutan = kata_sambutan.rstrip()\n",
        "print(kata_sambutan)"
      ],
      "metadata": {
        "colab": {
          "base_uri": "https://localhost:8080/"
        },
        "id": "9wjAUYOAaHpA",
        "outputId": "224904a1-1e5e-4832-89ad-20f9892e6ae1"
      },
      "execution_count": 14,
      "outputs": [
        {
          "output_type": "stream",
          "name": "stdout",
          "text": [
            ">>> Fitur .strip()\n",
            "halo, selamat siang!\n",
            ">>> Fitur .lstrip()\n",
            "halo, selamat siang! \n",
            ">>> Fitur .rstrip()\n",
            " halo, selamat siang!\n"
          ]
        }
      ]
    },
    {
      "cell_type": "markdown",
      "source": [
        "### Merubah Caps pada String"
      ],
      "metadata": {
        "id": "t_z7_CCkaMxQ"
      }
    },
    {
      "cell_type": "code",
      "source": [
        "# Fitur .capitalize()\n",
        "print(\">>> Fitur .capitalize()\")\n",
        "judul_buku = 'belajar bahasa Python'\n",
        "print(judul_buku.capitalize())\n",
        "\n",
        "# Fitur .lower()\n",
        "print(\">>> Fitur .lower()\")\n",
        "judul_buku = 'Belajar Bahasa PYTHON.'\n",
        "print(judul_buku.lower())\n",
        "\n",
        "# Fitur .upper()\n",
        "print(\">>> Fitur .upper()\")\n",
        "judul_buku = 'Belajar Bahasa PYTHON.'\n",
        "print(judul_buku.upper())"
      ],
      "metadata": {
        "colab": {
          "base_uri": "https://localhost:8080/"
        },
        "id": "D2MEA9olaQ46",
        "outputId": "b549d79a-c316-4f47-bf25-7d4521042e2b"
      },
      "execution_count": 15,
      "outputs": [
        {
          "output_type": "stream",
          "name": "stdout",
          "text": [
            ">>> Fitur .capitalize()\n",
            "Belajar bahasa python\n",
            ">>> Fitur .lower()\n",
            "belajar bahasa python.\n",
            ">>> Fitur .upper()\n",
            "BELAJAR BAHASA PYTHON.\n"
          ]
        }
      ]
    },
    {
      "cell_type": "markdown",
      "source": [
        "### Pemecahan, Penggabungan, dan Penggantian String"
      ],
      "metadata": {
        "id": "ig22iS8_ahO5"
      }
    },
    {
      "cell_type": "code",
      "source": [
        "# Fitur .split()\n",
        "print(\">>> Fitur .split()\")\n",
        "bilangan = \"ani dan budi dan wati dan johan\"\n",
        "karakter = bilangan.split(\"dan\")\n",
        "print(karakter)\n",
        "kata = bilangan.split(\" \")\n",
        "print(kata)\n",
        "\n",
        "# Fitur .join()\n",
        "print(\">>> Fitur .join()\")\n",
        "pemisah = \" dan \"\n",
        "karakter = [\"Ricky\", \"Peter\", \"Jordan\"]\n",
        "kalimat = pemisah.join(karakter)\n",
        "print(kalimat)\n",
        "\n",
        "# Fitur .replace()\n",
        "print(\">>> Fitur .replace()\")\n",
        "kalimat = \"apel malang apel yang paling segar, apel sehat, apel nikmat\"\n",
        "kalimat = kalimat.replace(\"apel\", \"jeruk\")\n",
        "print(kalimat)"
      ],
      "metadata": {
        "colab": {
          "base_uri": "https://localhost:8080/"
        },
        "id": "IAaUHhXZakkh",
        "outputId": "9167a7d5-df8d-4d4e-9d3c-111d0cddc4fd"
      },
      "execution_count": 16,
      "outputs": [
        {
          "output_type": "stream",
          "name": "stdout",
          "text": [
            ">>> Fitur .split()\n",
            "['ani ', ' budi ', ' wati ', ' johan']\n",
            "['ani', 'dan', 'budi', 'dan', 'wati', 'dan', 'johan']\n",
            ">>> Fitur .join()\n",
            "Ricky dan Peter dan Jordan\n",
            ">>> Fitur .replace()\n",
            "jeruk malang jeruk yang paling segar, jeruk sehat, jeruk nikmat\n"
          ]
        }
      ]
    },
    {
      "cell_type": "markdown",
      "source": [
        "### Menentukan Posisi dan Jumlah Sub-string pada String"
      ],
      "metadata": {
        "id": "HJJ8zAfPaoz5"
      }
    },
    {
      "cell_type": "code",
      "source": [
        "teks = \"Apel malang adalah apel termanis dibanding apel-apel lainnya\"\n",
        "# Fitur .find()\n",
        "print(\">>> Fitur .find()\")\n",
        "print(teks.find(\"Apel\"))\n",
        "print(teks.find(\"malang\"))\n",
        "\n",
        "# Fitur .count()\n",
        "print(\">>> Fitur .count()\")\n",
        "kemunculan_kata_apel = teks.count(\"apel\")\n",
        "print(kemunculan_kata_apel)"
      ],
      "metadata": {
        "colab": {
          "base_uri": "https://localhost:8080/"
        },
        "id": "HTxq4UaQatOC",
        "outputId": "eea91e2a-0aec-4363-90a9-37325a196303"
      },
      "execution_count": 17,
      "outputs": [
        {
          "output_type": "stream",
          "name": "stdout",
          "text": [
            ">>> Fitur .find()\n",
            "0\n",
            "5\n",
            ">>> Fitur .count()\n",
            "3\n"
          ]
        }
      ]
    },
    {
      "cell_type": "markdown",
      "source": [
        "### Menentukan String Apakah Diawali/Diakhiri oleh Sub-string"
      ],
      "metadata": {
        "id": "9CLDJGiPawTp"
      }
    },
    {
      "cell_type": "code",
      "source": [
        "# Fitur .startswith()\n",
        "print(\">>> Fitur .startswith()\")\n",
        "teks = \"Apel malang adalah apel termanis dibanding apel-apel lainnya\"\n",
        "print(teks.startswith(\"Apel\"))\n",
        "print(teks.startswith(\"apel\"))\n",
        "\n",
        "# Fitur .endswith()\n",
        "print(\">>> Fitur .endswith()\")\n",
        "print(teks.endswith(\"lainnya\"))\n",
        "print(teks.endswith(\"apel\"))"
      ],
      "metadata": {
        "colab": {
          "base_uri": "https://localhost:8080/"
        },
        "id": "uTcbBuB1azmy",
        "outputId": "41a48657-556e-4f7d-d626-be13fe904111"
      },
      "execution_count": 18,
      "outputs": [
        {
          "output_type": "stream",
          "name": "stdout",
          "text": [
            ">>> Fitur .startswith()\n",
            "True\n",
            "False\n",
            ">>> Fitur .endswith()\n",
            "True\n",
            "False\n"
          ]
        }
      ]
    },
    {
      "cell_type": "markdown",
      "source": [
        "### Tugas Praktek"
      ],
      "metadata": {
        "id": "H1ruVxb8a2Qx"
      }
    },
    {
      "cell_type": "code",
      "source": [
        "judul_artikel = [\n",
        "\"Buah Salak Baik untuk Mata\", \"Buah Salak Kaya Potasium\", \n",
        "\"Buah Jeruk Kaya Vitamin C\", \"Buah Salak Kaya Manfaat\", \n",
        "\"Salak Baik untuk Jantung\", \"Jeruk dapat Memperkuat Tulang\", \n",
        "\"Jeruk Mencegah Penyakit Asma\", \"Jeruk Memperkuat Gigi\", \n",
        "\"Jeruk Mencegah Kolesterol Jahat\", \"Salak Mencegah Diabetes\", \n",
        "\"Salak Memperkuat Dinding Usus\", \"Salak Baik untuk Darah\",\n",
        "\"Jeruk Kaya Manfaat untuk Jantung\", \"Salak si Kecil yang Baik\", \n",
        "\"Jeruk dan Salak Buah Kaya Manfaat\", \"Buah Jeruk Enak\",\n",
        "\"Tips Panen Jeruk Ribuan Kilo\", \"Tips Bertanam Salak\", \n",
        "\"Salak Manis untuk Berbuka\", \"Jeruk Baik untuk Wajah\"\n",
        "]\n",
        "\n",
        "jumlah_artikel_jeruk = 0\n",
        "jumlah_artikel_salak = 0\n",
        "\n",
        "for judul in judul_artikel:\n",
        "    if judul.count(\"Jeruk\") > 0: \n",
        "        jumlah_artikel_jeruk += 1\n",
        "    if judul.count(\"Salak\") > 0:\n",
        "        jumlah_artikel_salak += 1\n",
        "        \n",
        "print(jumlah_artikel_jeruk) \n",
        "print(jumlah_artikel_salak)"
      ],
      "metadata": {
        "colab": {
          "base_uri": "https://localhost:8080/"
        },
        "id": "DrxqX4qNa5vp",
        "outputId": "b8604d3b-f343-4d42-f3d2-1d2bbb3aa096"
      },
      "execution_count": 19,
      "outputs": [
        {
          "output_type": "stream",
          "name": "stdout",
          "text": [
            "10\n",
            "11\n"
          ]
        }
      ]
    },
    {
      "cell_type": "code",
      "source": [
        "judul_artikel = [\n",
        "\"Buah Salak Baik untuk Mata\", \"Buah Salak Kaya Potasium\", \n",
        "\"Buah Jeruk Kaya Vitamin C\", \"Buah Salak Kaya Manfaat\", \n",
        "\"Salak Baik untuk Jantung\", \"Jeruk dapat Memperkuat Tulang\", \n",
        "\"Jeruk Mencegah Penyakit Asma\", \"Jeruk Memperkuat Gigi\", \n",
        "\"Jeruk Mencegah Kolesterol Jahat\", \"Salak Mencegah Diabetes\", \n",
        "\"Salak Memperkuat Dinding Usus\", \"Salak Baik untuk Darah\",\n",
        "\"Jeruk Kaya Manfaat untuk Jantung\", \"Salak si Kecil yang Baik\", \n",
        "\"Jeruk dan Salak Buah Kaya Manfaat\", \"Buah Jeruk Enak\",\n",
        "\"Tips Panen Jeruk Ribuan Kilo\", \"Tips Bertanam Salak\", \n",
        "\"Salak Manis untuk Berbuka\", \"Jeruk Baik untuk Wajah\"\n",
        "]\n",
        "\n",
        "kata_positif = [\"Kaya\", \"Baik\", \"Mencegah\", \"Memperkuat\"]\n",
        "kata_positif_jeruk = 0\n",
        "kata_positif_salak = 0\n",
        "\n",
        "for judul in judul_artikel:\n",
        "  for kata in kata_positif:\n",
        "    if judul.count(\"Jeruk\") > 0 and judul.count(kata) > 0:\n",
        "      kata_positif_jeruk += 1\n",
        "    if judul.count(\"Salak\") > 0 and judul.count(kata) > 0:\n",
        "      kata_positif_salak += 1\n",
        "      \n",
        "print(kata_positif_jeruk)\n",
        "print(kata_positif_salak)"
      ],
      "metadata": {
        "colab": {
          "base_uri": "https://localhost:8080/"
        },
        "id": "cBxS-7MRbARh",
        "outputId": "f96ed31f-1153-4527-babd-a190a0a3cb86"
      },
      "execution_count": 20,
      "outputs": [
        {
          "output_type": "stream",
          "name": "stdout",
          "text": [
            "8\n",
            "9\n"
          ]
        }
      ]
    },
    {
      "cell_type": "markdown",
      "source": [
        "# Functions"
      ],
      "metadata": {
        "id": "8RJZ85lEbNYK"
      }
    },
    {
      "cell_type": "markdown",
      "source": [
        "### Fungsi Pertama"
      ],
      "metadata": {
        "id": "WCXknqRjbRkS"
      }
    },
    {
      "cell_type": "code",
      "source": [
        "# Definisikan fungsi\n",
        "def contoh_fungsi():\n",
        "    print(\"Halo Dunia\")\n",
        "    print(\"Aku sedang belajar bahasa Python\")\n",
        "    \n",
        "# Panggil fungsi yang telah didefinisikan\n",
        "contoh_fungsi()"
      ],
      "metadata": {
        "colab": {
          "base_uri": "https://localhost:8080/"
        },
        "id": "5nFAfoajbTrp",
        "outputId": "c2368a12-7feb-4c39-f19c-1eb430b338c1"
      },
      "execution_count": 21,
      "outputs": [
        {
          "output_type": "stream",
          "name": "stdout",
          "text": [
            "Halo Dunia\n",
            "Aku sedang belajar bahasa Python\n"
          ]
        }
      ]
    },
    {
      "cell_type": "markdown",
      "source": [
        "### Fungsi Kedua"
      ],
      "metadata": {
        "id": "NM9A8vT6bay6"
      }
    },
    {
      "cell_type": "code",
      "source": [
        "# Definsikan fungsi \n",
        "def fungsi_dengan_argumen(nama_depan, nama_belakang):\n",
        "    print(nama_depan+ \" \" +nama_belakang)\n",
        "    \n",
        "# Panggil fungsi dengan memasukkan argumen\n",
        "# nama_depan yaitu \"John\" dan nama_belakang \"Doe\"\n",
        "fungsi_dengan_argumen(\"John\", \"Doe\")"
      ],
      "metadata": {
        "colab": {
          "base_uri": "https://localhost:8080/"
        },
        "id": "5BcYPS7jbcFb",
        "outputId": "9eb158f5-fc20-47e2-80a5-f2ac376299f0"
      },
      "execution_count": 22,
      "outputs": [
        {
          "output_type": "stream",
          "name": "stdout",
          "text": [
            "John Doe\n"
          ]
        }
      ]
    },
    {
      "cell_type": "markdown",
      "source": [
        "### Fungsi Ketiga"
      ],
      "metadata": {
        "id": "vOMpPUdIbfSM"
      }
    },
    {
      "cell_type": "code",
      "source": [
        "# Definsikan fungsi dengan nilai default argument kedua adalah \"\".\n",
        "def fungsi_dengan_argumen(nama_depan, nama_belakang = \"\"):\n",
        "\tprint(nama_depan+ \" \" +nama_belakang)\n",
        " \n",
        "# Panggil fungsi dengan memasukkan argumen nama_depan \"John\"\n",
        "fungsi_dengan_argumen(\"John\")\n",
        "\n",
        "# Panggil fungsi dengan memasukkan argumen\n",
        "# nama_depan yaitu \"John\" dan nama_belakang \"Doe\"\n",
        "fungsi_dengan_argumen(\"John\", \"Doe\")"
      ],
      "metadata": {
        "colab": {
          "base_uri": "https://localhost:8080/"
        },
        "id": "DsNFTDX1biya",
        "outputId": "aac2ee12-af8e-49c9-b441-4cf432973ff6"
      },
      "execution_count": 23,
      "outputs": [
        {
          "output_type": "stream",
          "name": "stdout",
          "text": [
            "John \n",
            "John Doe\n"
          ]
        }
      ]
    },
    {
      "cell_type": "markdown",
      "source": [
        "### Tugas Praktek"
      ],
      "metadata": {
        "id": "6HXh_rGOboAp"
      }
    },
    {
      "cell_type": "code",
      "source": [
        "# Dua buah data yang tersimpan dalam tipe list\n",
        "data1 = [70, 70, 70, 100, 100, 100, 120, 120, 150, 150]\n",
        "data2 = [50, 60, 60, 50, 70, 70, 100, 80, 100, 90]\n",
        "\n",
        "# Definisikan fungsi hitng_rata_rata\n",
        "def hitung_rata_rata(data):\n",
        "    jumlah = 0\n",
        "    for item in data:\n",
        "        jumlah += item\n",
        "    rata_rata = jumlah/len(data)\n",
        "    return rata_rata\n",
        "    \n",
        "# Hitung nilai rata-rata dari kedua data yang dimiliki\n",
        "print('Rata-rata data1:')\n",
        "print(hitung_rata_rata(data1))\n",
        "print('Rata-rata data2:')\n",
        "print(hitung_rata_rata(data2))"
      ],
      "metadata": {
        "colab": {
          "base_uri": "https://localhost:8080/"
        },
        "id": "7JZ4FOtCbqTp",
        "outputId": "9523c1b7-e827-4057-c883-f56576dfff18"
      },
      "execution_count": 24,
      "outputs": [
        {
          "output_type": "stream",
          "name": "stdout",
          "text": [
            "Rata-rata data1:\n",
            "105.0\n",
            "Rata-rata data2:\n",
            "73.0\n"
          ]
        }
      ]
    },
    {
      "cell_type": "code",
      "source": [
        "# Dua buah data yang tersimpan dalam tipe list\n",
        "data1 = [70, 70, 70, 100, 100, 100, 120, 120, 150, 150]\n",
        "data2 = [50, 60, 60, 50, 70, 70, 100, 80, 100, 90]\n",
        "\n",
        "# Fungsi rata-rata data\n",
        "def hitung_rata_rata(data):\n",
        "    jumlah = 0\n",
        "    for item in data:\n",
        "        jumlah += item\n",
        "    rata_rata = jumlah/len(data)\n",
        "    return rata_rata\n",
        "\n",
        "# Definisikan fungsi hitung_standar_deviasi\n",
        "def hitung_standar_deviasi(data):\n",
        "    rata_rata_data = hitung_rata_rata(data)\n",
        "    varians = 0\n",
        "    for item in data:\n",
        "        varians += (item - rata_rata_data) ** 2\n",
        "    varians /= len(data)\n",
        "    standar_deviasi = varians ** (1/2)\n",
        "    return standar_deviasi\n",
        "    \n",
        "# Hitung nilai standar deviasi dari kedua data yang dimiliki\n",
        "print('Standar deviasi data1:')\n",
        "print(hitung_standar_deviasi(data1))\n",
        "print('Standar deviasi data2:')\n",
        "print(hitung_standar_deviasi(data2))"
      ],
      "metadata": {
        "colab": {
          "base_uri": "https://localhost:8080/"
        },
        "id": "uS5ppSQRbwoa",
        "outputId": "d886c325-ceb4-40dc-dd09-eee026a7c974"
      },
      "execution_count": 25,
      "outputs": [
        {
          "output_type": "stream",
          "name": "stdout",
          "text": [
            "Standar deviasi data1:\n",
            "28.722813232690143\n",
            "Standar deviasi data2:\n",
            "17.916472867168917\n"
          ]
        }
      ]
    },
    {
      "cell_type": "code",
      "source": [
        "# Data properti\n",
        "tabel_properti = {\n",
        "'luas_tanah': [70, 70, 70, 100, 100, 100, 120, 120, 150, 150],\n",
        "'luas_bangunan': [50, 60, 60, 50, 70, 70, 100, 80, 100, 90],\n",
        "'jarak': [15, 30, 55, 30, 25, 50, 20, 50, 50, 15],\n",
        "'harga': [500, 400, 300, 700, 1000, 650, 2000, 1200, 1800, 3000]\n",
        "}\n",
        "\n",
        "# Fungsi rata-rata data\n",
        "def hitung_rata_rata(data):\n",
        "    jumlah = 0\n",
        "    for item in data:\n",
        "        jumlah += item\n",
        "    rata_rata = jumlah/len(data)\n",
        "    return rata_rata\n",
        "\n",
        "# Fungsi hitung_standar_deviasi\n",
        "def hitung_standar_deviasi(data):\n",
        "    rata_rata_data = hitung_rata_rata(data)\n",
        "    varians = 0\n",
        "    for item in data:\n",
        "        varians += (item - rata_rata_data) ** 2\n",
        "        varians /= len(data)\n",
        "    standar_deviasi = varians ** (1/2)\n",
        "    return standar_deviasi\n",
        "\n",
        "# Definisikan fungsi untuk menghitung rata-rata dan standar deviasi\n",
        "# setiap kolom pada tabel_properti yang diberikan oleh key dict.\n",
        "def deskripsi_properti(tabel):\n",
        "    for key in tabel.keys():\n",
        "        print('Rata-rata ' + key + ':')\n",
        "        print(hitung_rata_rata(tabel[key])) \n",
        "        print('Standar deviasi ' + key + ':')\n",
        "        print(hitung_standar_deviasi(tabel[key]))\n",
        "        print('')\n",
        "        \n",
        "# Panggil fungsi deskripsi_properti untuk menghitung rata-rata \n",
        "# dan standar deviasi setiap kolom pada tabel_properti\n",
        "deskripsi_properti(tabel_properti)"
      ],
      "metadata": {
        "colab": {
          "base_uri": "https://localhost:8080/"
        },
        "id": "zmxIcfTmb7UK",
        "outputId": "69ecd4de-c7a5-49ca-8aa7-8ed29f13c8df"
      },
      "execution_count": 26,
      "outputs": [
        {
          "output_type": "stream",
          "name": "stdout",
          "text": [
            "Rata-rata luas_tanah:\n",
            "105.0\n",
            "Standar deviasi luas_tanah:\n",
            "14.93311056335886\n",
            "\n",
            "Rata-rata luas_bangunan:\n",
            "73.0\n",
            "Standar deviasi luas_bangunan:\n",
            "6.025948374480153\n",
            "\n",
            "Rata-rata jarak:\n",
            "34.0\n",
            "Standar deviasi jarak:\n",
            "6.24005184770928\n",
            "\n",
            "Rata-rata harga:\n",
            "1155.0\n",
            "Standar deviasi harga:\n",
            "587.0594351517378\n",
            "\n"
          ]
        }
      ]
    },
    {
      "cell_type": "markdown",
      "source": [
        "# Manipulasi Berkas Teks dan Library Matematika pada Python"
      ],
      "metadata": {
        "id": "uaYHG-DqcDib"
      }
    },
    {
      "cell_type": "markdown",
      "source": [
        "### Membaca Berkas Teks – Part 1"
      ],
      "metadata": {
        "id": "3QfCLu3acI1q"
      }
    },
    {
      "cell_type": "code",
      "source": [
        "# Membaca file hello.txt dengan fungsi read()\n",
        "print(\">>> Membaca file hello.txt dengan fungsi read()\")\n",
        "file = open(\"hello.txt\", \"r\")\n",
        "content = file.read()\n",
        "file.close()\n",
        "print(content)\n",
        "\n",
        "# Membaca file hello.txt dengan fungsi readline()\n",
        "print(\">>> Membaca file hello.txt dengan fungsi readline()\")\n",
        "file = open(\"hello.txt\", \"r\")\n",
        "first_line = file.readline()\n",
        "second_line = file.readline()\n",
        "file.close()\n",
        "print(first_line)\n",
        "print(second_line)"
      ],
      "metadata": {
        "colab": {
          "base_uri": "https://localhost:8080/"
        },
        "id": "ouEsbyyKcGta",
        "outputId": "7b2fe854-8904-48cb-b0af-ce0d656577c7"
      },
      "execution_count": 31,
      "outputs": [
        {
          "output_type": "stream",
          "name": "stdout",
          "text": [
            ">>> Membaca file hello.txt dengan fungsi read()\n",
            "Kita sedang belajar Python\n",
            "Tepatnya belajar memanipulasi berkas teks\n",
            "Memanipulasi berkas dengan Python sangatlah mudah!\n",
            ">>> Membaca file hello.txt dengan fungsi readline()\n",
            "Kita sedang belajar Python\n",
            "\n",
            "Tepatnya belajar memanipulasi berkas teks\n",
            "\n"
          ]
        }
      ]
    },
    {
      "cell_type": "markdown",
      "source": [
        "### Membaca Berkas Teks – Part 2"
      ],
      "metadata": {
        "id": "wc0NAGNnc6FK"
      }
    },
    {
      "cell_type": "code",
      "source": [
        "# Membaca file hello.txt dengan fungsi readlines()\n",
        "print(\">>> Membaca file hello.txt dengan fungsi readlines()\")\n",
        "file = open(\"hello.txt\", \"r\")\n",
        "all_lines = file.readlines()\n",
        "file.close()\n",
        "print(all_lines)\n",
        "\n",
        "# Membaca file hello.txt dengan menerapkan looping\n",
        "print(\">>> Membaca file hello.txt dengan menerapkan looping\")\n",
        "file = open(\"hello.txt\", \"r\")\n",
        "\n",
        "for line in file:\n",
        "    print(line)\n",
        "file.close()"
      ],
      "metadata": {
        "colab": {
          "base_uri": "https://localhost:8080/"
        },
        "id": "hXnvlo3jc-Iy",
        "outputId": "17b55272-55e3-4c5e-f029-c6e9d3537d8f"
      },
      "execution_count": 33,
      "outputs": [
        {
          "output_type": "stream",
          "name": "stdout",
          "text": [
            ">>> Membaca file hello.txt dengan fungsi readlines()\n",
            "['Kita sedang belajar Python\\n', 'Tepatnya belajar memanipulasi berkas teks\\n', 'Memanipulasi berkas dengan Python sangatlah mudah!']\n",
            ">>> Membaca file hello.txt dengan menerapkan looping\n",
            "Kita sedang belajar Python\n",
            "\n",
            "Tepatnya belajar memanipulasi berkas teks\n",
            "\n",
            "Memanipulasi berkas dengan Python sangatlah mudah!\n"
          ]
        }
      ]
    },
    {
      "cell_type": "markdown",
      "source": [
        "### Menulis Berkas Teks – Part 1"
      ],
      "metadata": {
        "id": "qkCkAMajdC6a"
      }
    },
    {
      "cell_type": "code",
      "source": [
        "# Menulis ke file hello.txt\n",
        "file = open(\"hello.txt\", \"w\")\n",
        "file.write(\"Sekarang kita belajar menulis dengan menggunakan Python\")\n",
        "file.write(\"Menulis konten file dengan mode w (write). \")\n",
        "file.close()"
      ],
      "metadata": {
        "id": "RmItxfwudGZC"
      },
      "execution_count": 34,
      "outputs": []
    },
    {
      "cell_type": "markdown",
      "source": [
        "### Menulis Berkas Teks – Part 2"
      ],
      "metadata": {
        "id": "SFV9p7ymdKZi"
      }
    },
    {
      "cell_type": "code",
      "source": [
        "# Menulis ke file dengan mode append\n",
        "file = open(\"hello.txt\", \"a\")\n",
        "file.writelines([\n",
        "\"Sekarang kita belajar menulis dengan menggunakan Python\", \n",
        "\"Menulis konten file dengan mode a (append). \"\n",
        "])\n",
        "file.close()"
      ],
      "metadata": {
        "id": "n_s9ixiqdMNa"
      },
      "execution_count": 35,
      "outputs": []
    },
    {
      "cell_type": "markdown",
      "source": [
        "### Fungsi dalam Library Matematika – Part 1"
      ],
      "metadata": {
        "id": "xpklGH6CdOHx"
      }
    },
    {
      "cell_type": "code",
      "source": [
        "# Import library math\n",
        "import math\n",
        "\n",
        "# Fungsi math.ceil()\n",
        "print(\">>> Fungsi math.ceil()\")\n",
        "x = 10.32\n",
        "y = 13.87\n",
        "x_ceil = math.ceil(x)\n",
        "y_ceil = math.ceil(y)\n",
        "print(x_ceil)\n",
        "print(y_ceil)\n",
        "\n",
        "# Fungsi math.floor()\n",
        "print(\">>> Fungsi math.floor()\")\n",
        "x_floor = math.floor(x)\n",
        "y_floor = math.floor(y)\n",
        "print(x_floor)\n",
        "print(y_floor)\n",
        "\n",
        "# Fungsi math.fabs()\n",
        "print(\">>> Fungsi math.fabs()\")\n",
        "x = 10.32\n",
        "y = -13.87\n",
        "x = math.fabs(x)\n",
        "y = math.fabs(y)\n",
        "print(x)\n",
        "print(y)\n",
        "\n",
        "# Fungsi math.factorial()\n",
        "print(\">>> Fungsi math.factorial()\")\n",
        "x_factorial = math.factorial(5)\n",
        "print(x_factorial)\n",
        "\n",
        "# Fungsi math.fsum()\n",
        "print(\">>> Fungsi math.fsum()\")\n",
        "x = [1, 2, 3, 4, 5, 6, -6, -5, -4]\n",
        "total = math.fsum(x)\n",
        "print(total)"
      ],
      "metadata": {
        "colab": {
          "base_uri": "https://localhost:8080/"
        },
        "id": "BZi4yv97dS-i",
        "outputId": "8686b7b7-12ce-4bac-cbea-a8189629dc05"
      },
      "execution_count": 36,
      "outputs": [
        {
          "output_type": "stream",
          "name": "stdout",
          "text": [
            ">>> Fungsi math.ceil()\n",
            "11\n",
            "14\n",
            ">>> Fungsi math.floor()\n",
            "10\n",
            "13\n",
            ">>> Fungsi math.fabs()\n",
            "10.32\n",
            "13.87\n",
            ">>> Fungsi math.factorial()\n",
            "120\n",
            ">>> Fungsi math.fsum()\n",
            "6.0\n"
          ]
        }
      ]
    },
    {
      "cell_type": "markdown",
      "source": [
        "### Fungsi dalam Library Matematika – Part 2"
      ],
      "metadata": {
        "id": "9xoGY8hXdYgD"
      }
    },
    {
      "cell_type": "code",
      "source": [
        "# Import library math\n",
        "import math\n",
        "\n",
        "# Fungsi math.log()\n",
        "print(\">>> Fungsi math.log()\")\n",
        "# x = log basis 2 dari 8\n",
        "x = math.log(8, 2)\n",
        "# y = log basis 3 dari 81\n",
        "y = math.log(81, 3)\n",
        "# z = log basis 10 dari 10000\n",
        "z = math.log(10000, 10) \n",
        "print(x)\n",
        "print(y)\n",
        "print(z)\n",
        "\n",
        "# Fungsi math.sqrt()\n",
        "print(\">>> Fungsi math.sqrt()\")\n",
        "# akar kuadrat dari 100\n",
        "x = math.sqrt(100)\n",
        "print(x)\n",
        "# akar kuadrat dari 2\n",
        "y = math.sqrt(2)\n",
        "print(y)\n",
        "\n",
        "# Fungsi math.copysign()\n",
        "print(\">>> Fungsi math.copysign()\")\n",
        "x = 10.32\n",
        "y = -13.87\n",
        "z = -15\n",
        "x = math.copysign(x, z)\n",
        "y = math.copysign(y, z)\n",
        "z = math.copysign(z, 10)\n",
        "print(x)\n",
        "print(y)\n",
        "print(z)"
      ],
      "metadata": {
        "colab": {
          "base_uri": "https://localhost:8080/"
        },
        "id": "928_nOKvdl5D",
        "outputId": "800bf8e7-0ad2-43bf-fda8-d7795b82665c"
      },
      "execution_count": 37,
      "outputs": [
        {
          "output_type": "stream",
          "name": "stdout",
          "text": [
            ">>> Fungsi math.log()\n",
            "3.0\n",
            "4.0\n",
            "4.0\n",
            ">>> Fungsi math.sqrt()\n",
            "10.0\n",
            "1.4142135623730951\n",
            ">>> Fungsi math.copysign()\n",
            "-10.32\n",
            "-13.87\n",
            "15.0\n"
          ]
        }
      ]
    }
  ]
}