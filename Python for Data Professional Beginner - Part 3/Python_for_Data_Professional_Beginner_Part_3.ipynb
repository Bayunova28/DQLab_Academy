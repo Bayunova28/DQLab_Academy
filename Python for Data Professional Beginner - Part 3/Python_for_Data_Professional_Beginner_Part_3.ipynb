{
  "nbformat": 4,
  "nbformat_minor": 0,
  "metadata": {
    "colab": {
      "name": "Python for Data Professional Beginner - Part 3.ipynb",
      "provenance": []
    },
    "kernelspec": {
      "name": "python3",
      "display_name": "Python 3"
    },
    "language_info": {
      "name": "python"
    }
  },
  "cells": [
    {
      "cell_type": "markdown",
      "source": [
        "# Classes & Objects"
      ],
      "metadata": {
        "id": "IRI9KIrTi1MT"
      }
    },
    {
      "cell_type": "markdown",
      "source": [
        "### Class dan Objek dalam Python - Part 3"
      ],
      "metadata": {
        "id": "1FBN-hE_jVQp"
      }
    },
    {
      "cell_type": "code",
      "source": [
        "# Definisikan class Karyawan\n",
        "class Karyawan:\n",
        "    nama_perusahaan = 'ABC'\n",
        "\n",
        "# Inisiasi object yang dinyatakan dalam variabel aksara dan senja\n",
        "aksara = Karyawan()\n",
        "senja = Karyawan()\n",
        "\n",
        "# Cetak nama perusahaan melalui penggunaan keyword __class__\n",
        "# pada class attribute nama_perusahaan\n",
        "print(aksara.__class__.nama_perusahaan)\n",
        "\n",
        "# Ubah nama_perusahaan menjadi 'DEF'\n",
        "aksara.__class__.nama_perusahaan = 'DEF'\n",
        "\n",
        "# Cetak nama_perusahaan objek aksara dan senja\n",
        "print(aksara.__class__.nama_perusahaan)\n",
        "print(senja.__class__.nama_perusahaan)"
      ],
      "metadata": {
        "colab": {
          "base_uri": "https://localhost:8080/"
        },
        "id": "EDfoGiJLjWiq",
        "outputId": "cdf51b39-5b38-40ea-f053-73e3046ea41e"
      },
      "execution_count": 2,
      "outputs": [
        {
          "output_type": "stream",
          "name": "stdout",
          "text": [
            "ABC\n",
            "DEF\n",
            "DEF\n"
          ]
        }
      ]
    },
    {
      "cell_type": "markdown",
      "source": [
        "### Class dan Objek dalam Python - Part 4"
      ],
      "metadata": {
        "id": "RWXhOclzjdcK"
      }
    },
    {
      "cell_type": "code",
      "source": [
        "# Definisikan class Karyawan\n",
        "class Karyawan:\n",
        "    nama_perusahaan = 'ABC'\n",
        "    def __init__(self, nama, usia, pendapatan):\n",
        "        self.nama = nama\n",
        "        self.usia = usia\n",
        "        self.pendapatan = pendapatan\n",
        "\n",
        "# Buat object bernama aksara dan senja\n",
        "aksara = Karyawan('Aksara', 25, 8500000)\n",
        "senja = Karyawan('Senja', 28, 12500000)\n",
        "\n",
        "# Cetak objek bernama aksara\n",
        "print(aksara.nama + ', Usia: ' + str(aksara.usia) + ', Pendapatan ' + str(aksara.pendapatan))\n",
        "\n",
        "# Cetak objek bernama senja\n",
        "print(senja.nama + ', Usia: ' + str(senja.usia) + ', Pendapatan ' + str(senja.pendapatan))"
      ],
      "metadata": {
        "colab": {
          "base_uri": "https://localhost:8080/"
        },
        "id": "SAf449O1je1h",
        "outputId": "345dbf1c-8b73-4b29-a8f1-1d3475f10938"
      },
      "execution_count": 3,
      "outputs": [
        {
          "output_type": "stream",
          "name": "stdout",
          "text": [
            "Aksara, Usia: 25, Pendapatan 8500000\n",
            "Senja, Usia: 28, Pendapatan 12500000\n"
          ]
        }
      ]
    },
    {
      "cell_type": "markdown",
      "source": [
        "### Behavior pada Class"
      ],
      "metadata": {
        "id": "ePAoJx2EjjXS"
      }
    },
    {
      "cell_type": "code",
      "source": [
        "# Definisikan class Karyawan berikut dengan attribut dan fungsinya\n",
        "class Karyawan:\n",
        "    nama_perusahaan = 'ABC'\n",
        "    insentif_lembur = 250000\n",
        "    def __init__(self, nama, usia, pendapatan):\n",
        "        self.nama = nama\n",
        "        self.usia = usia\n",
        "        self.pendapatan = pendapatan\n",
        "        self.pendapatan_tambahan = 0\n",
        "    def lembur(self):\n",
        "        self.pendapatan_tambahan += self.insentif_lembur\n",
        "    def tambahan_proyek(self, insentif_proyek):\n",
        "    \tself.pendapatan_tambahan += insentif_proyek\n",
        "    def total_pendapatan(self):\n",
        "    \treturn self.pendapatan + self.pendapatan_tambahan\n",
        "\n",
        "# Buat object dari karwayan bernama Aksara dan Senja\n",
        "aksara = Karyawan('Aksara', 25, 8500000)\n",
        "senja = Karyawan('Senja', 28, 12500000)\n",
        "\n",
        "# Aksara melaksanakan lembur\n",
        "aksara.lembur()\n",
        "\n",
        "# Senja memiliki proyek tambahan\n",
        "senja.tambahan_proyek(2500000)\n",
        "\n",
        "# Cetak pendapatan total Aksara dan Senja\n",
        "print('Pendapatan Total Aksara: ' + str(aksara.total_pendapatan()))\n",
        "print('Pendapatan Total Senja: ' +str(senja.total_pendapatan()))"
      ],
      "metadata": {
        "colab": {
          "base_uri": "https://localhost:8080/"
        },
        "id": "Nb7ntbe1jqaZ",
        "outputId": "d69a8a23-7427-4349-e7b3-5b198bf74540"
      },
      "execution_count": 4,
      "outputs": [
        {
          "output_type": "stream",
          "name": "stdout",
          "text": [
            "Pendapatan Total Aksara: 8750000\n",
            "Pendapatan Total Senja: 15000000\n"
          ]
        }
      ]
    },
    {
      "cell_type": "markdown",
      "source": [
        "### Tugas Praktek"
      ],
      "metadata": {
        "id": "eU6tq0yxi55R"
      }
    },
    {
      "cell_type": "code",
      "execution_count": 9,
      "metadata": {
        "id": "1MRbYkuqiq5H"
      },
      "outputs": [],
      "source": [
        "class Karyawan:\n",
        "    def __init__(self, nama, usia, pendapatan, insentif_lembur): \n",
        "        self.nama = nama\n",
        "        self.usia = usia \n",
        "        self.pendapatan = pendapatan \n",
        "        self.pendapatan_tambahan = 0\n",
        "        self.insentif_lembur = insentif_lembur \n",
        "    def lembur(self):\n",
        "        self.pendapatan_tambahan += self.insentif_lembur \n",
        "    def tambahan_proyek(self, jumlah_tambahan):\n",
        "        self.pendapatan_tambahan += jumlah_tambahan \n",
        "    def total_pendapatan(self):\n",
        "        return self.pendapatan + self.pendapatan_tambahan \n",
        "\n",
        "class Perusahaan:\n",
        "    def __init__(self, nama, alamat, nomor_telepon): \n",
        "        self.nama = nama\n",
        "        self.alamat = alamat \n",
        "        self.nomor_telepon = nomor_telepon\n",
        "        self.list_karyawan = []\n",
        "    def aktifkan_karyawan(self, karyawan): \n",
        "        self.list_karyawan.append(karyawan)\n",
        "    def nonaktifkan_karyawan(self, nama_karyawan): \n",
        "        karyawan_nonaktif = None\n",
        "        for karyawan in self.list_karyawan:\n",
        "            if karyawan.nama == nama_karyawan: \n",
        "                karyawan_nonaktif = karyawan \n",
        "                break\n",
        "        if karyawan_nonaktif is not None: \n",
        "            self.list_karyawan.remove(karyawan_nonaktif)\n",
        "\n",
        "# Definisikan perusahaan\n",
        "perusahaan = Perusahaan('ABC', 'Jl.Jendral Sudirman, Blok 11', '(021)95205XX')\n",
        "\n",
        "# Definisikan nama-nama karyawan\n",
        "karyawan_1 = Karyawan('Ani', 25, 8500000, 100000)\n",
        "karyawan_2 = Karyawan('Budi', 28, 12000000, 150000)\n",
        "karyawan_3 = Karyawan('Cici', 30, 15000000, 200000)\n",
        "\n",
        "# Aktifkan karyawan di perusahaan ABC\n",
        "perusahaan.aktifkan_karyawan(karyawan_1) \n",
        "perusahaan.aktifkan_karyawan(karyawan_2) \n",
        "perusahaan.aktifkan_karyawan(karyawan_3)"
      ]
    },
    {
      "cell_type": "markdown",
      "source": [
        "# Encapsulation & Inheritance"
      ],
      "metadata": {
        "id": "fcQpDkFalPRF"
      }
    },
    {
      "cell_type": "markdown",
      "source": [
        "### Encapsulation pada Python – Part 2"
      ],
      "metadata": {
        "id": "TdFORThXlUVi"
      }
    },
    {
      "cell_type": "code",
      "source": [
        "class Burung:\n",
        "    def __init__(self, nama):\n",
        "        self.nama = nama\n",
        "    def fly(self):\n",
        "        print(nama + ' sedang terbang')\n",
        "\n",
        "class Ayam(Burung):\n",
        "    def fly(self):\n",
        "        print(self.nama + ' tidak bisa terbang')\n",
        "\n",
        "anak_ayam = Ayam('Si Jago')\n",
        "anak_ayam.fly()"
      ],
      "metadata": {
        "colab": {
          "base_uri": "https://localhost:8080/"
        },
        "id": "JlResQC4lWqC",
        "outputId": "ca608b53-403e-4c1b-c58a-7207e09e85f2"
      },
      "execution_count": 15,
      "outputs": [
        {
          "output_type": "stream",
          "name": "stdout",
          "text": [
            "Si Jago tidak bisa terbang\n"
          ]
        }
      ]
    },
    {
      "cell_type": "markdown",
      "source": [
        "### Encapsulation pada Python – Part 3"
      ],
      "metadata": {
        "id": "7FBJjcRPmsUs"
      }
    },
    {
      "cell_type": "code",
      "source": [
        "class Mamalia:\n",
        "    def __init__(self, nama):\n",
        "        self.__nama = nama\n",
        "    def interaksi(self):\n",
        "        print('Bersuara')\n",
        "\n",
        "class Anjing(Mamalia):\n",
        "    def interaksi(self):\n",
        "        print('Guk')\n",
        "\n",
        "class Manusia(Mamalia):\n",
        "    pass\n",
        "\n",
        "blacky = Anjing('Blacky')\n",
        "toni = Manusia('Toni')\n",
        "toni.interaksi()\n",
        "blacky.interaksi()"
      ],
      "metadata": {
        "colab": {
          "base_uri": "https://localhost:8080/"
        },
        "id": "fBASEOAAmxXb",
        "outputId": "8b849054-26bb-4820-e047-5894c3926ea7"
      },
      "execution_count": 16,
      "outputs": [
        {
          "output_type": "stream",
          "name": "stdout",
          "text": [
            "Bersuara\n",
            "Guk\n"
          ]
        }
      ]
    },
    {
      "cell_type": "markdown",
      "source": [
        "### Inheritance pada Python – Part 2"
      ],
      "metadata": {
        "id": "woUUamxao6nl"
      }
    },
    {
      "cell_type": "code",
      "source": [
        "# Definisikan class Karyawan (sebagai base class)\n",
        "class Karyawan: \n",
        "    nama_perusahaan = 'ABC' \n",
        "    insentif_lembur = 250000\n",
        "    def __init__(self, nama, usia, pendapatan): \n",
        "        self.nama = nama\n",
        "        self.usia = usia \n",
        "        self.pendapatan = pendapatan \n",
        "        self.pendapatan_tambahan = 0\n",
        "    def lembur(self):\n",
        "        self.pendapatan_tambahan += self.insentif_lembur \n",
        "    def tambahan_proyek(self, insentif_proyek):\n",
        "        self.pendapatan_tambahan += insentif_proyek \n",
        "    def total_pendapatan(self):\n",
        "        return self.pendapatan + self.pendapatan_tambahan\n",
        "\n",
        "# Buat class turunan (sebagai inherit class) dari class karyawan, \n",
        "# yaitu class AnalisData\n",
        "class AnalisData(Karyawan):\n",
        "    def __init__(self, nama, usia, pendapatan):\n",
        "    # melakukan pemanggilan konstruktur class Karyawan \n",
        "        super().__init__(nama, usia, pendapatan)\n",
        "\n",
        "# Buat kembali class turunan (sebagai inherit class) dari class karyawan,  \n",
        "# yaitu class IlmuwanData\n",
        "class IlmuwanData(Karyawan):\n",
        "    # mengubah atribut insentif_lembur yang digunakan pada fungsi lembur()\n",
        "    insentif_lembur = 500000\n",
        "    def __init__(self, nama, usia, pendapatan): \n",
        "        super().__init__(nama, usia, pendapatan)\n",
        "\n",
        "# Buat objek karyawan yang bekerja sebagai AnalisData\n",
        "aksara = AnalisData('Aksara', 25, 8500000)\n",
        "aksara.lembur()\n",
        "print(aksara.total_pendapatan())\n",
        "\n",
        "# Buat objek karyawan yang bekerja sebagai IlmuwanData\n",
        "senja = IlmuwanData('Senja', 28, 13000000)\n",
        "senja.lembur()\n",
        "print(senja.total_pendapatan())"
      ],
      "metadata": {
        "colab": {
          "base_uri": "https://localhost:8080/"
        },
        "id": "uwSufrx1pB3M",
        "outputId": "b0f12724-d900-4229-fe35-fc9485a32ec7"
      },
      "execution_count": 28,
      "outputs": [
        {
          "output_type": "stream",
          "name": "stdout",
          "text": [
            "8750000\n",
            "13500000\n"
          ]
        }
      ]
    },
    {
      "cell_type": "markdown",
      "source": [
        "# Polymorphism & Overloading"
      ],
      "metadata": {
        "id": "Eqq5uRIkm3oC"
      }
    },
    {
      "cell_type": "markdown",
      "source": [
        "### Polymorphism pada Python - Part 1"
      ],
      "metadata": {
        "id": "Bl_ERtE4m7fS"
      }
    },
    {
      "cell_type": "code",
      "source": [
        "# Definisikan class Karyawan (sebagai base class)\n",
        "class Karyawan: \n",
        "    nama_perusahaan = 'ABC' \n",
        "    insentif_lembur = 250000\n",
        "    def __init__(self, nama, usia, pendapatan): \n",
        "        self.nama = nama\n",
        "        self.usia = usia \n",
        "        self.pendapatan = pendapatan \n",
        "        self.pendapatan_tambahan = 0\n",
        "    def lembur(self):\n",
        "        self.pendapatan_tambahan += self.insentif_lembur \n",
        "    def tambahan_proyek(self, insentif_proyek):\n",
        "        self.pendapatan_tambahan += insentif_proyek \n",
        "    def total_pendapatan(self):\n",
        "        return self.pendapatan + self.pendapatan_tambahan\n",
        "        \n",
        "# Buat class turunan (sebagai inherit class) dari class karyawan, \n",
        "# yaitu class AnalisData\n",
        "class AnalisData(Karyawan):\n",
        "    def __init__(self, nama, usia, pendapatan):\n",
        "    # melakukan pemanggilan konstruktur class Karyawan \n",
        "        super().__init__(nama, usia, pendapatan)\n",
        "    # menerapkan polymorphism dengan mendefinisikan kembali fungsi \n",
        "    # lembur() pada class AnalisData \n",
        "    def lembur(self):\n",
        "        # pendapatan tambahan pada class AnalisData sebesar\n",
        "        # 10 % dari pendapatannya.\n",
        "        self.pendapatan_tambahan += int(self.pendapatan * 0.1)\n",
        "\n",
        "# Buat objek karyawan yang bekerja sebagai AnalisData\n",
        "aksara = AnalisData('Aksara', 25, 8500000)\n",
        "aksara.lembur()\n",
        "print(aksara.total_pendapatan())"
      ],
      "metadata": {
        "colab": {
          "base_uri": "https://localhost:8080/"
        },
        "id": "aYLlps5Mm5_i",
        "outputId": "302bab15-035d-4fa4-ea00-33039d049ffb"
      },
      "execution_count": 20,
      "outputs": [
        {
          "output_type": "stream",
          "name": "stdout",
          "text": [
            "9350000\n"
          ]
        }
      ]
    },
    {
      "cell_type": "markdown",
      "source": [
        "### Polymorphism pada Python - Part 2"
      ],
      "metadata": {
        "id": "7_fObgkunJGT"
      }
    },
    {
      "cell_type": "code",
      "source": [
        "# Definisikan class Karyawan (sebagai base class)\n",
        "class Karyawan:\n",
        "    nama_perusahaan = 'ABC'\n",
        "    insentif_lembur = 250000\n",
        "    def __init__(self, nama, usia, pendapatan):\n",
        "          self.nama = nama\n",
        "          self.usia = usia\n",
        "          self.pendapatan = pendapatan\n",
        "          self.pendapatan_tambahan = 0\n",
        "    def lembur(self):\n",
        "        self.pendapatan_tambahan += self.insentif_lembur\n",
        "    def tambahan_proyek(self, insentif_proyek):\n",
        "        self.pendapatan_tambahan += insentif_proyek\n",
        "    def total_pendapatan(self):\n",
        "        return self.pendapatan + self.pendapatan_tambahan\n",
        "\n",
        "# Buat class turunan (sebagai inherit class) dari class karyawan,\n",
        "# yaitu class AnalisData\n",
        "class AnalisData(Karyawan):\n",
        "      def __init__(self, nama, usia, pendapatan):\n",
        "          super().__init__ (nama, usia, pendapatan)\n",
        "      # mendefinisikan kembali fungsi lembur() pada class AnalisData\n",
        "      def lembur(self):\n",
        "      # memanggil fungsi lembur pada class Karyawan\n",
        "          super().lembur()\n",
        "          # pendapatan tambahan pada class AnalisData sebesar\n",
        "          # 5 % dari pendapatannya.\n",
        "          self.pendapatan_tambahan += int(self.pendapatan * 0.05)\n",
        "          \n",
        "# Buat objek karyawan yang bekerja sebagai AnalisData\n",
        "aksara = AnalisData('Aksara', 25, 8500000)\n",
        "aksara.lembur()\n",
        "print(aksara.total_pendapatan())"
      ],
      "metadata": {
        "colab": {
          "base_uri": "https://localhost:8080/"
        },
        "id": "m_Y-A6ApnMhD",
        "outputId": "87a28090-e1e2-4760-b156-454129c76bc5"
      },
      "execution_count": 21,
      "outputs": [
        {
          "output_type": "stream",
          "name": "stdout",
          "text": [
            "9175000\n"
          ]
        }
      ]
    },
    {
      "cell_type": "markdown",
      "source": [
        "### Tugas Praktek"
      ],
      "metadata": {
        "id": "3MriiH8xoDMc"
      }
    },
    {
      "cell_type": "code",
      "source": [
        "# Definisikan class Karyawan\n",
        "class Karyawan:\n",
        "    def __init__(self, nama, usia, pendapatan, insentif_lembur): \n",
        "        self.nama = nama\n",
        "        self.usia = usia \n",
        "        self.pendapatan = pendapatan \n",
        "        self.pendapatan_tambahan = 0\n",
        "        self.insentif_lembur = insentif_lembur \n",
        "    def lembur(self):\n",
        "        self.pendapatan_tambahan += self.insentif_lembur \n",
        "    def tambahan_proyek(self,jumlah_tambahan):\n",
        "        self.pendapatan_tambahan += jumlah_tambahan \n",
        "    def total_pendapatan(self):\n",
        "        return self.pendapatan + self.pendapatan_tambahan\n",
        "        \n",
        "# Definisikan class TenagaLepas sebagai child class dari\n",
        "# class Karyawan\n",
        "class TenagaLepas(Karyawan):\n",
        "    def __init__(self, nama, usia, pendapatan):\n",
        "       super().__init__(nama, usia, pendapatan, 0)\n",
        "    def tambahan_proyek(self, nilai_proyek):\n",
        "        self.pendapatan_tambahan += nilai_proyek * 0.01 "
      ],
      "metadata": {
        "id": "qHex-sNpoGDr"
      },
      "execution_count": 22,
      "outputs": []
    },
    {
      "cell_type": "code",
      "source": [
        "# Definisikan class Karyawan sebagai parent class\n",
        "class Karyawan:\n",
        "      def __init__(self, nama, usia, pendapatan, insentif_lembur):\n",
        "          self.nama = nama\n",
        "          self.usia = usia\n",
        "          self.pendapatan = pendapatan\n",
        "          self.pendapatan_tambahan = 0\n",
        "          self.insentif_lembur = insentif_lembur\n",
        "      def lembur(self):\n",
        "          self.pendapatan_tambahan += self.insentif_lembur\n",
        "      def tambahan_proyek(self,jumlah_tambahan):\n",
        "          self.pendapatan_tambahan += jumlah_tambahan\n",
        "      def total_pendapatan(self):\n",
        "          return self.pendapatan + self.pendapatan_tambahan\n",
        "\n",
        "# Definisikan class TenagaLepas sebagai child class dari\n",
        "# class Karyawan\n",
        "class TenagaLepas(Karyawan):\n",
        "      def __init__(self, nama, usia, pendapatan):\n",
        "          super().__init__(nama, usia, pendapatan, 0)\n",
        "      def tambahan_proyek(self, nilai_proyek):\n",
        "          self.pendapatan_tambahan += nilai_proyek * 0.01\n",
        "\n",
        "# Definisikan class AnalisData sebagai child class dari\n",
        "# class Karyawan\n",
        "class AnalisData(Karyawan):\n",
        "      pass\n",
        "\n",
        "# Definisikan class IlmuwanData sebagai child class dari\n",
        "# class Karyawan\n",
        "class IlmuwanData(Karyawan):\n",
        "      def tambahan_proyek(self, nilai_proyek):\n",
        "          self.pendapatan_tambahan += 0.1 * nilai_proyek\n",
        "\n",
        "# Definisikan class PembersihData sebagai child class dari\n",
        "# class TenagaLepas\n",
        "class PembersihData(TenagaLepas):\n",
        "      pass\n",
        "\n",
        "# Definisikan class DokumenterTeknis sebagai child class dari\n",
        "# class TenagaLepas\n",
        "class DokumenterTeknis(TenagaLepas):\n",
        "      def tambahan_proyek(self, jumlah_tambahan):\n",
        "          return"
      ],
      "metadata": {
        "id": "kwpvun0poMJ6"
      },
      "execution_count": 23,
      "outputs": []
    },
    {
      "cell_type": "code",
      "source": [
        "class Karyawan: \n",
        "    nama_perusahaan = 'ABC' \n",
        "    insentif_lembur = 250000\n",
        "    # usia akan di-set nilainya menjadi 21 saat tidak\n",
        "    # dispesifikasikan dan pendapatan akan di-set nilainya\n",
        "    # menjadi 5000000 saat tidak dispesifikasikan\n",
        "    def __init__(self, nama, usia=21, pendapatan=5000000): \n",
        "        self.nama = nama\n",
        "        self.usia = usia \n",
        "        self.pendapatan = pendapatan \n",
        "        self.pendapatan_tambahan = 0\n",
        "    def lembur(self):\n",
        "        self.pendapatan_tambahan += self.insentif_lembur \n",
        "    def tambahan_proyek(self, insentif_proyek):\n",
        "        self.pendapatan_tambahan += insentif_proyek \n",
        "    def total_pendapatan(self):\n",
        "        return self.pendapatan + self.pendapatan_tambahan\n",
        "\n",
        "# Karyawan baru pertama yang bernama Budi\n",
        "karyawan_baru1 = Karyawan('Budi')\n",
        "print(karyawan_baru1.nama)\n",
        "print(karyawan_baru1.usia)\n",
        "print(karyawan_baru1.total_pendapatan())\n",
        "\n",
        "# Karyawan baru ke-2 yang bernama Didi, umur 25\n",
        "karyawan_baru2 = Karyawan('Didi', 25)\n",
        "print(karyawan_baru2.nama)\n",
        "print(karyawan_baru2.usia)\n",
        "print(karyawan_baru2.total_pendapatan())\n",
        "\n",
        "# Karyawan baru ke-3 yang bernama Hadi, pendapatan 8000000\n",
        "karyawan_baru3 = Karyawan('Hadi', pendapatan = 8000000)\n",
        "print(karyawan_baru3.nama)\n",
        "print(karyawan_baru3.usia)\n",
        "print(karyawan_baru3.total_pendapatan())"
      ],
      "metadata": {
        "colab": {
          "base_uri": "https://localhost:8080/"
        },
        "id": "eZakW5kzqWFF",
        "outputId": "2b606238-e694-45e4-d903-438bb6c4eb30"
      },
      "execution_count": 29,
      "outputs": [
        {
          "output_type": "stream",
          "name": "stdout",
          "text": [
            "Budi\n",
            "21\n",
            "5000000\n",
            "Didi\n",
            "25\n",
            "5000000\n",
            "Hadi\n",
            "21\n",
            "8000000\n"
          ]
        }
      ]
    },
    {
      "cell_type": "markdown",
      "source": [
        "# Mini Quiz"
      ],
      "metadata": {
        "id": "6Dc3zPGNqlvr"
      }
    },
    {
      "cell_type": "markdown",
      "source": [
        "### Studi Kasus dari Senja"
      ],
      "metadata": {
        "id": "E5L5tgz3qpwL"
      }
    },
    {
      "cell_type": "code",
      "source": [
        "# Definisikan class Karyawan sebagai parent class\n",
        "class Karyawan:\n",
        "      def __init__(self, nama, usia, pendapatan, insentif_lembur):\n",
        "          self.nama = nama\n",
        "          self.usia = usia\n",
        "          self.pendapatan = pendapatan\n",
        "          self.pendapatan_tambahan = 0\n",
        "          self.insentif_lembur = insentif_lembur\n",
        "      def lembur(self):\n",
        "          self.pendapatan_tambahan += self.insentif_lembur\n",
        "      def tambahan_proyek(self,jumlah_tambahan):\n",
        "          self.pendapatan_tambahan += jumlah_tambahan\n",
        "      def total_pendapatan(self):\n",
        "          return self.pendapatan + self.pendapatan_tambahan\n",
        "\n",
        "# Definisikan class TenagaLepas sebagai child class dari class Karyawan\n",
        "class TenagaLepas(Karyawan):\n",
        "      def __init__(self, nama, usia, pendapatan):\n",
        "          super().__init__(nama, usia, pendapatan, 0)\n",
        "      def tambahan_proyek(self, nilai_proyek):\n",
        "          self.pendapatan_tambahan += nilai_proyek * 0.01\n",
        "\n",
        "# Definisikan class AnalisData sebagai child class dari class Karyawan\n",
        "class AnalisData(Karyawan):\n",
        "      def __init__(self, nama, usia = 21, pendapatan = 6500000,\n",
        "          insentif_lembur = 100000):\n",
        "          super().__init__(nama, usia, pendapatan, insentif_lembur)\n",
        "\n",
        "# Definisikan class IlmuwanData sebagai child class dari class Karyawan\n",
        "class IlmuwanData(Karyawan):\n",
        "      def __init__(self, nama, usia = 25, pendapatan = 12000000,\n",
        "          insentif_lembur = 150000):\n",
        "          super().__init__(nama, usia, pendapatan,insentif_lembur)\n",
        "      def tambahan_proyek(self, nilai_proyek):\n",
        "          self.pendapatan_tambahan += 0.1 * nilai_proyek\n",
        "\n",
        "# Definisikan class PembersihData sebagai child class dari class TenagaLepas\n",
        "class PembersihData(TenagaLepas):\n",
        "      def __init__(self, nama, usia, pendapatan = 4000000):\n",
        "          super().__init__(nama, usia, pendapatan)\n",
        "\n",
        "# Definisikan class DokumenterTeknis sebagai child class dari class TenagaLepas\n",
        "class DokumenterTeknis(TenagaLepas):\n",
        "      def __init__(self, nama, usia, pendapatan = 2500000):\n",
        "          super().__init__(nama, usia, pendapatan)\n",
        "      def tambahan_proyek(self, jumlah_tambahan):\n",
        "          return\n",
        "\n",
        "# Definisikan class Perusahaan\n",
        "class Perusahaan:\n",
        "      def __init__(self, nama, alamat, nomor_telepon):\n",
        "          self.nama = nama\n",
        "          self.alamat = alamat\n",
        "          self.nomor_telepon = nomor_telepon\n",
        "          self.list_karyawan = []\n",
        "      def aktifkan_karyawan(self, karyawan):\n",
        "          self.list_karyawan.append(karyawan)\n",
        "      def nonaktifkan_karyawan(self, nama_karyawan):\n",
        "          karyawan_nonaktif = None\n",
        "          for karyawan in self.list_karyawan:\n",
        "              if karyawan.nama == nama_karyawan:\n",
        "                 karyawan_nonaktif = karyawan\n",
        "              break\n",
        "              if karyawan_nonaktif is not None:\n",
        "                 self.list_karyawan.remove(karyawan_nonaktif)\n",
        "      def total_pengeluaran(self):\n",
        "          pengeluaran = 0\n",
        "          for karyawan in self.list_karyawan:\n",
        "              pengeluaran += karyawan.total_pendapatan()\n",
        "              return pengeluaran\n",
        "      def cari_karyawan(self, nama_karyawan):\n",
        "          for karyawan in self.list_karyawan:\n",
        "              if karyawan.nama == nama_karyawan:\n",
        "                 return karyawan\n",
        "                 return None\n",
        "\n",
        "# Create object karyawan sesuai dengan tugasnya masing-masing\n",
        "# seperti yang dinyatakan dalam tabel.\n",
        "ani = PembersihData('Ani', 25)\n",
        "budi = DokumenterTeknis('Budi', 18)\n",
        "cici = IlmuwanData('Cici')\n",
        "didi = IlmuwanData('Didi', 32, 20000000)\n",
        "efi = AnalisData('Efi')\n",
        "febi = AnalisData('Febi', 28, 12000000)\n",
        "\n",
        "# Create object perusahaan\n",
        "perusahaan = Perusahaan('ABC','Jl. Jendral Sudirman, Blok 11', '(021) 95812XX')\n",
        "\n",
        "# Aktifkan setiap karyawan yang telah didefinisikan\n",
        "perusahaan.aktifkan_karyawan(ani)\n",
        "perusahaan.aktifkan_karyawan(budi)\n",
        "perusahaan.aktifkan_karyawan(cici)\n",
        "perusahaan.aktifkan_karyawan(didi)\n",
        "perusahaan.aktifkan_karyawan(efi)\n",
        "perusahaan.aktifkan_karyawan(febi)\n",
        "\n",
        "# Cetak keseluruhan total pengeluaran perusahaan\n",
        "print(perusahaan.total_pengeluaran())"
      ],
      "metadata": {
        "colab": {
          "base_uri": "https://localhost:8080/"
        },
        "id": "FVhg-MhrqsrG",
        "outputId": "97633907-4e26-4182-8826-32e067248e71"
      },
      "execution_count": 31,
      "outputs": [
        {
          "output_type": "stream",
          "name": "stdout",
          "text": [
            "4000000\n"
          ]
        }
      ]
    }
  ]
}