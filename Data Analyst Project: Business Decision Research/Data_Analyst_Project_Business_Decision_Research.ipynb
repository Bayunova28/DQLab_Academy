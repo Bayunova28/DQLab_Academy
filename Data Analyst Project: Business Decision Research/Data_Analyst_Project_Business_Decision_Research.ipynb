{
  "nbformat": 4,
  "nbformat_minor": 0,
  "metadata": {
    "colab": {
      "name": "Data Analyst Project: Business Decision Research.ipynb",
      "provenance": [],
      "collapsed_sections": []
    },
    "kernelspec": {
      "name": "python3",
      "display_name": "Python 3"
    },
    "language_info": {
      "name": "python"
    }
  },
  "cells": [
    {
      "cell_type": "markdown",
      "source": [
        "# Coding Test: Data Preparation"
      ],
      "metadata": {
        "id": "Obhpsxp2aesM"
      }
    },
    {
      "cell_type": "markdown",
      "source": [
        "### Importing Data dan Inspection"
      ],
      "metadata": {
        "id": "6_XrKLGRaept"
      }
    },
    {
      "cell_type": "code",
      "execution_count": null,
      "metadata": {
        "colab": {
          "base_uri": "https://localhost:8080/"
        },
        "id": "ceZs6yjNaPKc",
        "outputId": "35b7f170-5c7d-4e7f-992f-6a5e0287e122"
      },
      "outputs": [
        {
          "output_type": "stream",
          "name": "stdout",
          "text": [
            "Lima data teratas:\n",
            "   no  Row_Num  ...  Average_Transaction_Amount Count_Transaction\n",
            "0   1        1  ...                     1467681                22\n",
            "1   2        2  ...                     1269337                41\n",
            "2   3        3  ...                      310915                30\n",
            "3   4        4  ...                      722632                27\n",
            "4   5        5  ...                     1775036                25\n",
            "\n",
            "[5 rows x 8 columns]\n",
            "\n",
            "Info dataset:\n",
            "<class 'pandas.core.frame.DataFrame'>\n",
            "RangeIndex: 100000 entries, 0 to 99999\n",
            "Data columns (total 8 columns):\n",
            " #   Column                      Non-Null Count   Dtype \n",
            "---  ------                      --------------   ----- \n",
            " 0   no                          100000 non-null  int64 \n",
            " 1   Row_Num                     100000 non-null  int64 \n",
            " 2   Customer_ID                 100000 non-null  int64 \n",
            " 3   Product                     100000 non-null  object\n",
            " 4   First_Transaction           100000 non-null  int64 \n",
            " 5   Last_Transaction            100000 non-null  int64 \n",
            " 6   Average_Transaction_Amount  100000 non-null  int64 \n",
            " 7   Count_Transaction           100000 non-null  int64 \n",
            "dtypes: int64(7), object(1)\n",
            "memory usage: 6.1+ MB\n",
            "None\n"
          ]
        }
      ],
      "source": [
        "import pandas as pd\n",
        "\n",
        "df = pd.read_csv('https://storage.googleapis.com/dqlab-dataset/data_retail.csv', sep=';')\n",
        "\n",
        "print('Lima data teratas:')\n",
        "print(df.head())\n",
        "\n",
        "print('\\nInfo dataset:')\n",
        "print(df.info())"
      ]
    },
    {
      "cell_type": "markdown",
      "source": [
        "### Data Cleansing"
      ],
      "metadata": {
        "id": "ftX7tqeUa2G9"
      }
    },
    {
      "cell_type": "code",
      "source": [
        "import pandas as pd\n",
        "df = pd.read_csv('https://storage.googleapis.com/dqlab-dataset/data_retail.csv', sep=';')\n",
        "\n",
        "# Kolom First_Transaction\n",
        "df['First_Transaction'] = pd.to_datetime(df['First_Transaction']/1000, unit='s', origin='1970-01-01')\n",
        "# Kolom Last_Transaction\n",
        "df['Last_Transaction'] = pd.to_datetime(df['Last_Transaction']/1000, unit='s', origin='1970-01-01')\n",
        "\n",
        "print('Lima data teratas:')\n",
        "print(df.head())\n",
        "\n",
        "print('\\nInfo dataset:')\n",
        "print(df.info())"
      ],
      "metadata": {
        "colab": {
          "base_uri": "https://localhost:8080/"
        },
        "id": "L1abkkg5a3MN",
        "outputId": "8265168a-a839-445b-a83e-90d7a4057f52"
      },
      "execution_count": null,
      "outputs": [
        {
          "output_type": "stream",
          "name": "stdout",
          "text": [
            "Lima data teratas:\n",
            "   no  Row_Num  ...  Average_Transaction_Amount Count_Transaction\n",
            "0   1        1  ...                     1467681                22\n",
            "1   2        2  ...                     1269337                41\n",
            "2   3        3  ...                      310915                30\n",
            "3   4        4  ...                      722632                27\n",
            "4   5        5  ...                     1775036                25\n",
            "\n",
            "[5 rows x 8 columns]\n",
            "\n",
            "Info dataset:\n",
            "<class 'pandas.core.frame.DataFrame'>\n",
            "RangeIndex: 100000 entries, 0 to 99999\n",
            "Data columns (total 8 columns):\n",
            " #   Column                      Non-Null Count   Dtype         \n",
            "---  ------                      --------------   -----         \n",
            " 0   no                          100000 non-null  int64         \n",
            " 1   Row_Num                     100000 non-null  int64         \n",
            " 2   Customer_ID                 100000 non-null  int64         \n",
            " 3   Product                     100000 non-null  object        \n",
            " 4   First_Transaction           100000 non-null  datetime64[ns]\n",
            " 5   Last_Transaction            100000 non-null  datetime64[ns]\n",
            " 6   Average_Transaction_Amount  100000 non-null  int64         \n",
            " 7   Count_Transaction           100000 non-null  int64         \n",
            "dtypes: datetime64[ns](2), int64(5), object(1)\n",
            "memory usage: 6.1+ MB\n",
            "None\n"
          ]
        }
      ]
    },
    {
      "cell_type": "markdown",
      "source": [
        "### Churn Customers"
      ],
      "metadata": {
        "id": "IxOXRWzzcgs2"
      }
    },
    {
      "cell_type": "code",
      "source": [
        "import pandas as pd\n",
        "df = pd.read_csv('https://storage.googleapis.com/dqlab-dataset/data_retail.csv', sep=';')\n",
        "df['First_Transaction'] = pd.to_datetime(df['First_Transaction']/1000, unit='s', origin='1970-01-01')\n",
        "df['Last_Transaction'] = pd.to_datetime(df['Last_Transaction']/1000, unit='s', origin='1970-01-01')\n",
        "\n",
        "# Pengecekan transaksaksi terakhir dalam dataset\n",
        "print(max(df['Last_Transaction']))\n",
        "\n",
        "# Klasifikasikan customer yang berstatus churn atau tidak dengan boolean\n",
        "df.loc[df['Last_Transaction'] <= '2018-08-01', 'is_churn'] = True \n",
        "df.loc[df['Last_Transaction'] > '2018-08-01', 'is_churn'] = False \n",
        "\n",
        "print('Lima data teratas:')\n",
        "print(df.head())\n",
        "\n",
        "print('\\nInfo dataset:')\n",
        "print(df.info())"
      ],
      "metadata": {
        "colab": {
          "base_uri": "https://localhost:8080/"
        },
        "id": "x1q8FFp4cjME",
        "outputId": "27bd7090-7ddc-4ed4-b67e-2aee7b426172"
      },
      "execution_count": null,
      "outputs": [
        {
          "output_type": "stream",
          "name": "stdout",
          "text": [
            "2019-02-01 23:57:57.286000013\n",
            "Lima data teratas:\n",
            "   no  Row_Num  ...  Count_Transaction is_churn\n",
            "0   1        1  ...                 22    False\n",
            "1   2        2  ...                 41    False\n",
            "2   3        3  ...                 30    False\n",
            "3   4        4  ...                 27    False\n",
            "4   5        5  ...                 25    False\n",
            "\n",
            "[5 rows x 9 columns]\n",
            "\n",
            "Info dataset:\n",
            "<class 'pandas.core.frame.DataFrame'>\n",
            "RangeIndex: 100000 entries, 0 to 99999\n",
            "Data columns (total 9 columns):\n",
            " #   Column                      Non-Null Count   Dtype         \n",
            "---  ------                      --------------   -----         \n",
            " 0   no                          100000 non-null  int64         \n",
            " 1   Row_Num                     100000 non-null  int64         \n",
            " 2   Customer_ID                 100000 non-null  int64         \n",
            " 3   Product                     100000 non-null  object        \n",
            " 4   First_Transaction           100000 non-null  datetime64[ns]\n",
            " 5   Last_Transaction            100000 non-null  datetime64[ns]\n",
            " 6   Average_Transaction_Amount  100000 non-null  int64         \n",
            " 7   Count_Transaction           100000 non-null  int64         \n",
            " 8   is_churn                    100000 non-null  object        \n",
            "dtypes: datetime64[ns](2), int64(5), object(2)\n",
            "memory usage: 6.9+ MB\n",
            "None\n"
          ]
        }
      ]
    },
    {
      "cell_type": "markdown",
      "source": [
        "### Menghapus kolom yang tidak diperlukan"
      ],
      "metadata": {
        "id": "OECk5RUDh4mi"
      }
    },
    {
      "cell_type": "code",
      "source": [
        "import pandas as pd\n",
        "df = pd.read_csv('https://storage.googleapis.com/dqlab-dataset/data_retail.csv', sep=';')\n",
        "df['First_Transaction'] = pd.to_datetime(df['First_Transaction']/1000, unit='s', origin='1970-01-01')\n",
        "df['Last_Transaction'] = pd.to_datetime(df['Last_Transaction']/1000, unit='s', origin='1970-01-01')\n",
        "\n",
        "# Hapus kolom-kolom yang tidak diperlukan\n",
        "del df['no']\n",
        "del df['Row_Num']\n",
        "\n",
        "# Cetak lima data teratas\n",
        "print(df.head())"
      ],
      "metadata": {
        "colab": {
          "base_uri": "https://localhost:8080/"
        },
        "id": "_WAOeY9mh6UZ",
        "outputId": "2d7ba554-148e-469d-d548-a7d318029556"
      },
      "execution_count": null,
      "outputs": [
        {
          "output_type": "stream",
          "name": "stdout",
          "text": [
            "   Customer_ID Product  ... Average_Transaction_Amount Count_Transaction\n",
            "0        29531   Jaket  ...                    1467681                22\n",
            "1        29531  Sepatu  ...                    1269337                41\n",
            "2       141526     Tas  ...                     310915                30\n",
            "3       141526   Jaket  ...                     722632                27\n",
            "4        37545  Sepatu  ...                    1775036                25\n",
            "\n",
            "[5 rows x 6 columns]\n"
          ]
        }
      ]
    },
    {
      "cell_type": "markdown",
      "source": [
        "# Coding Test: Data Visualization"
      ],
      "metadata": {
        "id": "dWaLJ4BdiXbZ"
      }
    },
    {
      "cell_type": "markdown",
      "source": [
        "### Customer acquisition by year"
      ],
      "metadata": {
        "id": "bsMTbodQiYZp"
      }
    },
    {
      "cell_type": "code",
      "source": [
        "import pandas as pd\n",
        "df = pd.read_csv('https://storage.googleapis.com/dqlab-dataset/data_retail.csv', sep=';')\n",
        "df['First_Transaction'] = pd.to_datetime(df['First_Transaction']/1000, unit='s', origin='1970-01-01')\n",
        "df['Last_Transaction'] = pd.to_datetime(df['Last_Transaction']/1000, unit='s', origin='1970-01-01')\n",
        "\n",
        "import matplotlib.pyplot as plt\n",
        "\n",
        "# Kolom tahun transaksi pertama\n",
        "df['Year_First_Transaction'] = df['First_Transaction'].dt.year\n",
        "\n",
        "# Kolom tahun transaksi terakhir\n",
        "df['Year_Last_Transaction'] = df['Last_Transaction'].dt.year\n",
        "\n",
        "df_year = df.groupby(['Year_First_Transaction'])['Customer_ID'].count()\n",
        "df_year.plot(x='Year_First_Transaction', y='Customer_ID', kind='bar', title='Graph of Customer Acquisition')\n",
        "plt.xlabel('Year_First_Transaction')\n",
        "plt.ylabel('Num_of_Customer')\n",
        "plt.tight_layout()\n",
        "plt.show()"
      ],
      "metadata": {
        "colab": {
          "base_uri": "https://localhost:8080/",
          "height": 297
        },
        "id": "Ve9VQOFbibQr",
        "outputId": "2d5780d0-0dd2-4106-8158-a24ec71a3198"
      },
      "execution_count": null,
      "outputs": [
        {
          "output_type": "display_data",
          "data": {
            "image/png": "[encoded data removed]",
            "text/plain": [
              "<Figure size 432x288 with 1 Axes>"
            ]
          },
          "metadata": {
            "needs_background": "light"
          }
        }
      ]
    },
    {
      "cell_type": "markdown",
      "source": [
        "### Transaction by year"
      ],
      "metadata": {
        "id": "iUYPPH38kEPz"
      }
    },
    {
      "cell_type": "code",
      "source": [
        "import pandas as pd\n",
        "df = pd.read_csv('https://storage.googleapis.com/dqlab-dataset/data_retail.csv', sep=';')\n",
        "df['First_Transaction'] = pd.to_datetime(df['First_Transaction']/1000, unit='s', origin='1970-01-01')\n",
        "df['Last_Transaction'] = pd.to_datetime(df['Last_Transaction']/1000, unit='s', origin='1970-01-01')\n",
        "df['Year_First_Transaction'] = df['First_Transaction'].dt.year\n",
        "df['Year_Last_Transaction'] = df['Last_Transaction'].dt.year\n",
        "\n",
        "import matplotlib.pyplot as plt\n",
        "\n",
        "plt.clf()\n",
        "df_year = df.groupby(['Year_First_Transaction'])['Count_Transaction'].sum()\n",
        "df_year.plot(x='Year_First_Transaction', y='Count_Transaction', kind='bar', title='Graph of Transaction Customer')\n",
        "plt.xlabel('Year_First_Transaction')\n",
        "plt.ylabel('Num_of_Transaction')\n",
        "plt.tight_layout()\n",
        "plt.show()"
      ],
      "metadata": {
        "colab": {
          "base_uri": "https://localhost:8080/",
          "height": 297
        },
        "id": "eiKvxQqlkJJJ",
        "outputId": "89f28fea-7ac6-45d2-d596-4883d12a800d"
      },
      "execution_count": null,
      "outputs": [
        {
          "output_type": "display_data",
          "data": {
            "image/png": "[encoded data removed]",
            "text/plain": [
              "<Figure size 432x288 with 1 Axes>"
            ]
          },
          "metadata": {
            "needs_background": "light"
          }
        }
      ]
    },
    {
      "cell_type": "markdown",
      "source": [
        "### Average transaction amount by year"
      ],
      "metadata": {
        "id": "sYqOJcoMk9-5"
      }
    },
    {
      "cell_type": "code",
      "source": [
        "import pandas as pd\n",
        "df = pd.read_csv('https://storage.googleapis.com/dqlab-dataset/data_retail.csv', sep=';')\n",
        "df['First_Transaction'] = pd.to_datetime(df['First_Transaction']/1000, unit='s', origin='1970-01-01')\n",
        "df['Last_Transaction'] = pd.to_datetime(df['Last_Transaction']/1000, unit='s', origin='1970-01-01')\n",
        "df['Year_First_Transaction'] = df['First_Transaction'].dt.year\n",
        "df['Year_Last_Transaction'] = df['Last_Transaction'].dt.year\n",
        "\n",
        "import matplotlib.pyplot as plt\n",
        "import seaborn as sns\n",
        "\n",
        "plt.clf()\n",
        "sns.pointplot(data = df.groupby(['Product', 'Year_First_Transaction']).mean().reset_index(), \n",
        "              x='Year_First_Transaction', \n",
        "              y='Average_Transaction_Amount', \n",
        "              hue='Product')\n",
        "plt.tight_layout()\n",
        "plt.show()"
      ],
      "metadata": {
        "colab": {
          "base_uri": "https://localhost:8080/",
          "height": 297
        },
        "id": "OqGuuOkYk-95",
        "outputId": "a2d2a90d-1492-4c19-8447-ea5032fe0dfd"
      },
      "execution_count": null,
      "outputs": [
        {
          "output_type": "display_data",
          "data": {
            "image/png": "[encoded data removed]",
            "text/plain": [
              "<Figure size 432x288 with 1 Axes>"
            ]
          },
          "metadata": {
            "needs_background": "light"
          }
        }
      ]
    },
    {
      "cell_type": "markdown",
      "source": [
        "### Proporsi churned customer untuk setiap produk"
      ],
      "metadata": {
        "id": "fua-0o4Ulohb"
      }
    },
    {
      "cell_type": "code",
      "source": [
        "import pandas as pd\n",
        "df = pd.read_csv('https://storage.googleapis.com/dqlab-dataset/data_retail.csv', sep=';')\n",
        "df['First_Transaction'] = pd.to_datetime(df['First_Transaction']/1000, unit='s', origin='1970-01-01')\n",
        "df['Last_Transaction'] = pd.to_datetime(df['Last_Transaction']/1000, unit='s', origin='1970-01-01')\n",
        "df['Year_First_Transaction'] = df['First_Transaction'].dt.year\n",
        "df['Year_Last_Transaction'] = df['Last_Transaction'].dt.year\n",
        "df.loc[df['Last_Transaction'] <= '2018-08-01', 'is_churn'] = True \n",
        "df.loc[df['Last_Transaction'] > '2018-08-01', 'is_churn'] = False \n",
        "\n",
        "import matplotlib.pyplot as plt\n",
        "\n",
        "plt.clf()\n",
        "# Melakukan pivot data dengan pivot_table\n",
        "df_piv = df.pivot_table(index='is_churn', \n",
        "                        columns='Product',\n",
        "                        values='Customer_ID', \n",
        "                        aggfunc='count', \n",
        "                        fill_value=0)\n",
        "\n",
        "# Mendapatkan Proportion Churn by Product\n",
        "plot_product = df_piv.count().sort_values(ascending=False).head(5).index\n",
        "\n",
        "# Plot pie chartnya\n",
        "df_piv = df_piv.reindex(columns=plot_product)\n",
        "df_piv.plot.pie(subplots=True,\n",
        "                figsize=(10, 11),\n",
        "                layout=(-1, 2),\n",
        "                autopct='%1.0f%%',\n",
        "                title='Proportion Churn by Product')\n",
        "plt.tight_layout()\n",
        "plt.show()"
      ],
      "metadata": {
        "colab": {
          "base_uri": "https://localhost:8080/",
          "height": 784
        },
        "id": "qatg-O6Qlqas",
        "outputId": "4fd97178-cce4-4ca8-9a6c-3393a596de6a"
      },
      "execution_count": null,
      "outputs": [
        {
          "output_type": "display_data",
          "data": {
            "text/plain": [
              "<Figure size 432x288 with 0 Axes>"
            ]
          },
          "metadata": {}
        },
        {
          "output_type": "display_data",
          "data": {
            "image/png": "[encoded data removed]",
            "text/plain": [
              "<Figure size 720x792 with 4 Axes>"
            ]
          },
          "metadata": {}
        }
      ]
    },
    {
      "cell_type": "markdown",
      "source": [
        "### Distribusi kategorisasi count transaction"
      ],
      "metadata": {
        "id": "inXGmzqGmoa0"
      }
    },
    {
      "cell_type": "code",
      "source": [
        "import pandas as pd\n",
        "df = pd.read_csv('https://storage.googleapis.com/dqlab-dataset/data_retail.csv', sep=';')\n",
        "df['First_Transaction'] = pd.to_datetime(df['First_Transaction']/1000, unit='s', origin='1970-01-01')\n",
        "df['Last_Transaction'] = pd.to_datetime(df['Last_Transaction']/1000, unit='s', origin='1970-01-01')\n",
        "df['Year_First_Transaction'] = df['First_Transaction'].dt.year\n",
        "df['Year_Last_Transaction'] = df['Last_Transaction'].dt.year\n",
        "df.loc[df['Last_Transaction'] <= '2018-08-01', 'is_churn'] = True \n",
        "df.loc[df['Last_Transaction'] > '2018-08-01', 'is_churn'] = False \n",
        "\n",
        "import matplotlib.pyplot as plt\n",
        "\n",
        "plt.clf()\n",
        "# Kategorisasi jumlah transaksi\n",
        "def func(row):\n",
        "    if row['Count_Transaction'] == 1:\n",
        "        val = '1. 1'\n",
        "    elif (row['Count_Transaction'] >1 and row['Count_Transaction'] <= 3):\n",
        "        val = '2.2 - 3'\n",
        "    elif (row['Count_Transaction'] >3 and row['Count_Transaction'] <= 6):\n",
        "        val = '3.4 - 6'\n",
        "    elif (row['Count_Transaction'] >6 and row['Count_Transaction'] <= 10):\n",
        "        val = '4.7 - 10'\n",
        "    else:\n",
        "        val = '5. > 10'\n",
        "    return val\n",
        "\n",
        "# Tambahkan kolom baru\n",
        "df['Count_Transaction_Group'] = df.apply(func, axis=1)\n",
        "\n",
        "df_year = df.groupby(['Count_Transaction_Group'])['Customer_ID'].count()\n",
        "df_year.plot(x='Count_Transaction_Group', y='Customer_ID', kind='bar', title='Customer Distribution by Count Transaction Group')\n",
        "plt.xlabel('Count_Transaction_Group')\n",
        "plt.ylabel('Num_of_Customer')\n",
        "plt.tight_layout()\n",
        "plt.show()"
      ],
      "metadata": {
        "id": "z2dhgEbimpw5",
        "colab": {
          "base_uri": "https://localhost:8080/",
          "height": 297
        },
        "outputId": "45ace2c5-20fd-4d99-8c69-19de1c37aa15"
      },
      "execution_count": 8,
      "outputs": [
        {
          "output_type": "display_data",
          "data": {
            "image/png": "[encoded data removed]",
            "text/plain": [
              "<Figure size 432x288 with 1 Axes>"
            ]
          },
          "metadata": {
            "needs_background": "light"
          }
        }
      ]
    },
    {
      "cell_type": "markdown",
      "source": [
        "### Distribusi kategorisasi average transaction amount"
      ],
      "metadata": {
        "id": "iz1mOZTDr82e"
      }
    },
    {
      "cell_type": "code",
      "source": [
        "import pandas as pd\n",
        "df = pd.read_csv('https://storage.googleapis.com/dqlab-dataset/data_retail.csv', sep=';')\n",
        "df['First_Transaction'] = pd.to_datetime(df['First_Transaction']/1000, unit='s', origin='1970-01-01')\n",
        "df['Last_Transaction'] = pd.to_datetime(df['Last_Transaction']/1000, unit='s', origin='1970-01-01')\n",
        "df['Year_First_Transaction'] = df['First_Transaction'].dt.year\n",
        "df['Year_Last_Transaction'] = df['Last_Transaction'].dt.year\n",
        "df.loc[df['Last_Transaction'] <= '2018-08-01', 'is_churn'] = True \n",
        "df.loc[df['Last_Transaction'] > '2018-08-01', 'is_churn'] = False \n",
        "\n",
        "import matplotlib.pyplot as plt\n",
        "\n",
        "plt.clf()\n",
        "# Kategorisasi rata-rata besar transaksi\n",
        "def f(row):\n",
        "    if (row['Average_Transaction_Amount'] >= 100000 and row['Average_Transaction_Amount'] <= 200000):\n",
        "        val = '1. 100.000 - 250.000'\n",
        "    elif (row['Average_Transaction_Amount'] > 250000 and row['Average_Transaction_Amount'] <= 500000):\n",
        "        val = '2. >250.000 - 500.000'\n",
        "    elif (row['Average_Transaction_Amount'] > 500000 and row['Average_Transaction_Amount'] <= 750000):\n",
        "        val = '3. >500.000 - 750.000'\n",
        "    elif (row['Average_Transaction_Amount'] > 750000 and row['Average_Transaction_Amount'] <= 1000000):\n",
        "        val = '4. >750.000 - 1.000.000'\n",
        "    elif (row['Average_Transaction_Amount'] > 1000000 and row['Average_Transaction_Amount'] <= 2500000):\n",
        "        val = '5. >1.000.000 - 2.500.000'\n",
        "    elif (row['Average_Transaction_Amount'] > 2500000 and row['Average_Transaction_Amount'] <= 5000000):\n",
        "        val = '6. >2.500.000 - 5.000.000'\n",
        "    elif (row['Average_Transaction_Amount'] > 5000000 and row['Average_Transaction_Amount'] <= 10000000):\n",
        "        val = '7. >5.000.000 - 10.000.000'\n",
        "    else:\n",
        "        val = '8. > 10.000.000'\n",
        "    return val\n",
        "\n",
        "# Tambahkan kolom baru\n",
        "df['Average_Transaction_Amount_Group'] = df.apply(f, axis=1)\n",
        "\n",
        "plt.figure(figsize=(12,8))\n",
        "df_year = df.groupby(['Average_Transaction_Amount_Group'])['Customer_ID'].count()\n",
        "df_year.plot(x='Average_Transaction_Amount_Group', y='Customer_ID', kind='bar', title='Customer Distribution by Average Transaction Amount Group')\n",
        "plt.xlabel('Average_Transaction_Amount_Group')\n",
        "plt.ylabel('Num_of_Customer')\n",
        "plt.tight_layout()\n",
        "plt.show()"
      ],
      "metadata": {
        "colab": {
          "base_uri": "https://localhost:8080/",
          "height": 602
        },
        "id": "XXN4gemcr_77",
        "outputId": "93ba0569-daac-4fb4-cce7-bfec6e87b61f"
      },
      "execution_count": 8,
      "outputs": [
        {
          "output_type": "display_data",
          "data": {
            "text/plain": [
              "<Figure size 432x288 with 0 Axes>"
            ]
          },
          "metadata": {}
        },
        {
          "output_type": "display_data",
          "data": {
            "image/png": "[encoded data removed]",
            "text/plain": [
              "<Figure size 864x576 with 1 Axes>"
            ]
          },
          "metadata": {
            "needs_background": "light"
          }
        }
      ]
    },
    {
      "cell_type": "markdown",
      "source": [
        "# Coding Test: Modelling"
      ],
      "metadata": {
        "id": "VmEDiovbz-dV"
      }
    },
    {
      "cell_type": "markdown",
      "source": [
        "### Feature Columns dan Target"
      ],
      "metadata": {
        "id": "6d8mFFpy0UfE"
      }
    },
    {
      "cell_type": "code",
      "source": [
        "import pandas as pd\n",
        "df = pd.read_csv('https://storage.googleapis.com/dqlab-dataset/data_retail.csv', sep=';')\n",
        "df['First_Transaction'] = pd.to_datetime(df['First_Transaction']/1000, unit='s', origin='1970-01-01')\n",
        "df['Last_Transaction'] = pd.to_datetime(df['Last_Transaction']/1000, unit='s', origin='1970-01-01')\n",
        "df['Year_First_Transaction'] = df['First_Transaction'].dt.year\n",
        "df['Year_Last_Transaction'] = df['Last_Transaction'].dt.year\n",
        "df.loc[df['Last_Transaction'] <= '2018-08-01', 'is_churn'] = True \n",
        "df.loc[df['Last_Transaction'] > '2018-08-01', 'is_churn'] = False \n",
        "\n",
        "# Feature column: Year_Diff\n",
        "df['Year_Diff'] = df['Year_Last_Transaction'] - df['Year_First_Transaction']\n",
        "\n",
        "# Nama-nama feature columns\n",
        "feature_columns = ['Average_Transaction_Amount', 'Count_Transaction', 'Year_Diff']\n",
        "\n",
        "# Features variable\n",
        "X = df[feature_columns] \n",
        "\n",
        "# Target variable\n",
        "y = df['is_churn'] "
      ],
      "metadata": {
        "id": "drrMArIH0Wks"
      },
      "execution_count": 5,
      "outputs": []
    },
    {
      "cell_type": "markdown",
      "source": [
        "### Split X dan y ke dalam bagian training dan testing"
      ],
      "metadata": {
        "id": "VMafnPrd1Gcc"
      }
    },
    {
      "cell_type": "code",
      "source": [
        "import pandas as pd\n",
        "df = pd.read_csv('https://storage.googleapis.com/dqlab-dataset/data_retail.csv', sep=';')\n",
        "df['First_Transaction'] = pd.to_datetime(df['First_Transaction']/1000, unit='s', origin='1970-01-01')\n",
        "df['Last_Transaction'] = pd.to_datetime(df['Last_Transaction']/1000, unit='s', origin='1970-01-01')\n",
        "df['Year_First_Transaction'] = df['First_Transaction'].dt.year\n",
        "df['Year_Last_Transaction'] = df['Last_Transaction'].dt.year\n",
        "df.loc[df['Last_Transaction'] <= '2018-08-01', 'is_churn'] = True \n",
        "df.loc[df['Last_Transaction'] > '2018-08-01', 'is_churn'] = False \n",
        "\n",
        "df['Year_Diff']=df['Year_Last_Transaction']-df['Year_First_Transaction']\n",
        "feature_columns = ['Average_Transaction_Amount', 'Count_Transaction', 'Year_Diff']\n",
        "\n",
        "X = df[feature_columns] \n",
        "y = df['is_churn']\n",
        "\n",
        "from sklearn.model_selection import train_test_split\n",
        "\n",
        "X_train, X_test, y_train, y_test = train_test_split(X, y, test_size = 0.25, random_state=0)"
      ],
      "metadata": {
        "id": "YG6OnUKM1He0"
      },
      "execution_count": 6,
      "outputs": []
    },
    {
      "cell_type": "markdown",
      "source": [
        "### Train, predict dan evaluate"
      ],
      "metadata": {
        "id": "mtm6Mykq1b50"
      }
    },
    {
      "cell_type": "code",
      "source": [
        "import pandas as pd\n",
        "df = pd.read_csv('https://storage.googleapis.com/dqlab-dataset/data_retail.csv', sep=';')\n",
        "df['First_Transaction'] = pd.to_datetime(df['First_Transaction']/1000, unit='s', origin='1970-01-01')\n",
        "df['Last_Transaction'] = pd.to_datetime(df['Last_Transaction']/1000, unit='s', origin='1970-01-01')\n",
        "df['Year_First_Transaction'] = df['First_Transaction'].dt.year\n",
        "df['Year_Last_Transaction'] = df['Last_Transaction'].dt.year\n",
        "df.loc[df['Last_Transaction'] <= '2018-08-01', 'is_churn'] = True \n",
        "df.loc[df['Last_Transaction'] > '2018-08-01', 'is_churn'] = False \n",
        "\n",
        "df['Year_Diff']=df['Year_Last_Transaction']-df['Year_First_Transaction']\n",
        "feature_columns = ['Average_Transaction_Amount', 'Count_Transaction', 'Year_Diff']\n",
        "\n",
        "# Mengubah variabel target menjadi integer\n",
        "df.is_churn[df['is_churn'] == 'False'] = 0\n",
        "df.is_churn[df['is_churn'] == 'True'] = 1\n",
        "df['is_churn'] = df['is_churn'].astype('int')\n",
        "\n",
        "X = df[feature_columns] \n",
        "y = df['is_churn'] \n",
        "\n",
        "from sklearn.model_selection import train_test_split\n",
        "X_train, X_test, y_train, y_test = train_test_split(X, y, test_size=0.25, random_state=0)\n",
        "\n",
        "from sklearn.linear_model import LogisticRegression\n",
        "from sklearn.metrics import confusion_matrix\n",
        "\n",
        "# Inisiasi model logreg\n",
        "logreg = LogisticRegression()\n",
        "\n",
        "# fit the model with data\n",
        "logreg.fit(X_train, y_train)\n",
        "\n",
        "# Predict model\n",
        "y_pred = logreg.predict(X_test)\n",
        "\n",
        "for i,x in enumerate(y_pred):\n",
        "    y_pred[i]=x.astype('int')\n",
        "\n",
        "# Evaluasi model menggunakan confusion matrix\n",
        "cnf_matrix = confusion_matrix(y_test, y_pred)\n",
        "print('Confusion Matrix:\\n', cnf_matrix)"
      ],
      "metadata": {
        "colab": {
          "base_uri": "https://localhost:8080/"
        },
        "id": "Mk2byssT1ewU",
        "outputId": "3399f35d-f2f3-43d2-ee38-04271121e33a"
      },
      "execution_count": 3,
      "outputs": [
        {
          "output_type": "stream",
          "name": "stderr",
          "text": [
            "/usr/local/lib/python3.7/dist-packages/ipykernel_launcher.py:14: SettingWithCopyWarning: \n",
            "A value is trying to be set on a copy of a slice from a DataFrame\n",
            "\n",
            "See the caveats in the documentation: https://pandas.pydata.org/pandas-docs/stable/user_guide/indexing.html#returning-a-view-versus-a-copy\n",
            "  \n",
            "/usr/local/lib/python3.7/dist-packages/ipykernel_launcher.py:15: SettingWithCopyWarning: \n",
            "A value is trying to be set on a copy of a slice from a DataFrame\n",
            "\n",
            "See the caveats in the documentation: https://pandas.pydata.org/pandas-docs/stable/user_guide/indexing.html#returning-a-view-versus-a-copy\n",
            "  from ipykernel import kernelapp as app\n"
          ]
        },
        {
          "output_type": "stream",
          "name": "stdout",
          "text": [
            "Confusion Matrix:\n",
            " [[    1  8330]\n",
            " [    3 16666]]\n"
          ]
        }
      ]
    },
    {
      "cell_type": "markdown",
      "source": [
        "### Visualisasi Confusion Matrix"
      ],
      "metadata": {
        "id": "3aP1oaTx4Lv2"
      }
    },
    {
      "cell_type": "code",
      "source": [
        "import pandas as pd\n",
        "df = pd.read_csv('https://storage.googleapis.com/dqlab-dataset/data_retail.csv', sep=';')\n",
        "df['First_Transaction'] = pd.to_datetime(df['First_Transaction']/1000, unit='s', origin='1970-01-01')\n",
        "df['Last_Transaction'] = pd.to_datetime(df['Last_Transaction']/1000, unit='s', origin='1970-01-01')\n",
        "df['Year_First_Transaction'] = df['First_Transaction'].dt.year\n",
        "df['Year_Last_Transaction'] = df['Last_Transaction'].dt.year\n",
        "df.loc[df['Last_Transaction'] <= '2018-08-01', 'is_churn'] = True \n",
        "df.loc[df['Last_Transaction'] > '2018-08-01', 'is_churn'] = False \n",
        "\n",
        "df['Year_Diff']=df['Year_Last_Transaction']-df['Year_First_Transaction']\n",
        "feature_columns = ['Average_Transaction_Amount', 'Count_Transaction', 'Year_Diff']\n",
        "\n",
        "# Mengubah variabel target menjadi integer\n",
        "df.is_churn[df['is_churn'] == 'False'] = 0\n",
        "df.is_churn[df['is_churn'] == 'True'] = 1\n",
        "df['is_churn'] = df['is_churn'].astype('int')\n",
        "\n",
        "X = df[feature_columns] \n",
        "y = df['is_churn'] \n",
        "\n",
        "from sklearn.model_selection import train_test_split\n",
        "X_train, X_test, y_train, y_test = train_test_split(X, y, test_size=0.25, random_state=0)\n",
        "\n",
        "from sklearn.linear_model import LogisticRegression\n",
        "from sklearn.metrics import confusion_matrix\n",
        "\n",
        "logreg = LogisticRegression()\n",
        "logreg.fit(X_train, y_train)\n",
        "y_pred = logreg.predict(X_test)\n",
        "cnf_matrix = confusion_matrix(y_test, y_pred)\n",
        "\n",
        "# import required modules\n",
        "import numpy as np\n",
        "import matplotlib.pyplot as plt\n",
        "import seaborn as sns\n",
        "\n",
        "plt.clf()\n",
        "# name  of classes\n",
        "class_names = [0, 1] \n",
        "fig, ax = plt.subplots()\n",
        "\n",
        "tick_marks = np.arange(len(class_names))\n",
        "plt.xticks(tick_marks, class_names)\n",
        "plt.yticks(tick_marks, class_names)\n",
        "\n",
        "# create heatmap\n",
        "sns.heatmap(pd.DataFrame(cnf_matrix), annot=True, cmap='YlGnBu', fmt='g')\n",
        "ax.xaxis.set_label_position('top')\n",
        "plt.title('Confusion matrix', y=1.1)\n",
        "plt.ylabel('Actual')\n",
        "plt.xlabel('Predicted')\n",
        "plt.tight_layout()\n",
        "plt.show()"
      ],
      "metadata": {
        "colab": {
          "base_uri": "https://localhost:8080/",
          "height": 488
        },
        "id": "Ppe6zPPK2-iN",
        "outputId": "97e2a193-089f-4701-ed72-8b5f343a6089"
      },
      "execution_count": 5,
      "outputs": [
        {
          "output_type": "stream",
          "name": "stderr",
          "text": [
            "/usr/local/lib/python3.7/dist-packages/ipykernel_launcher.py:14: SettingWithCopyWarning: \n",
            "A value is trying to be set on a copy of a slice from a DataFrame\n",
            "\n",
            "See the caveats in the documentation: https://pandas.pydata.org/pandas-docs/stable/user_guide/indexing.html#returning-a-view-versus-a-copy\n",
            "  \n",
            "/usr/local/lib/python3.7/dist-packages/ipykernel_launcher.py:15: SettingWithCopyWarning: \n",
            "A value is trying to be set on a copy of a slice from a DataFrame\n",
            "\n",
            "See the caveats in the documentation: https://pandas.pydata.org/pandas-docs/stable/user_guide/indexing.html#returning-a-view-versus-a-copy\n",
            "  from ipykernel import kernelapp as app\n"
          ]
        },
        {
          "output_type": "display_data",
          "data": {
            "text/plain": [
              "<Figure size 432x288 with 0 Axes>"
            ]
          },
          "metadata": {}
        },
        {
          "output_type": "display_data",
          "data": {
            "image/png": "[encoded data removed]",
            "text/plain": [
              "<Figure size 432x288 with 2 Axes>"
            ]
          },
          "metadata": {
            "needs_background": "light"
          }
        }
      ]
    },
    {
      "cell_type": "markdown",
      "source": [
        "### Accuracy, Precision, dan Recall"
      ],
      "metadata": {
        "id": "DUnt6l115EoN"
      }
    },
    {
      "cell_type": "code",
      "source": [
        "import pandas as pd\n",
        "df = pd.read_csv('https://storage.googleapis.com/dqlab-dataset/data_retail.csv', sep=';')\n",
        "df['First_Transaction'] = pd.to_datetime(df['First_Transaction']/1000, unit='s', origin='1970-01-01')\n",
        "df['Last_Transaction'] = pd.to_datetime(df['Last_Transaction']/1000, unit='s', origin='1970-01-01')\n",
        "df['Year_First_Transaction'] = df['First_Transaction'].dt.year\n",
        "df['Year_Last_Transaction'] = df['Last_Transaction'].dt.year\n",
        "df.loc[df['Last_Transaction'] <= '2018-08-01', 'is_churn'] = True \n",
        "df.loc[df['Last_Transaction'] > '2018-08-01', 'is_churn'] = False \n",
        "\n",
        "df['Year_Diff']=df['Year_Last_Transaction']-df['Year_First_Transaction']\n",
        "feature_columns = ['Average_Transaction_Amount', 'Count_Transaction', 'Year_Diff']\n",
        "\n",
        "# Mengubah variabel target menjadi integer\n",
        "df.is_churn[df['is_churn'] == 'False'] = 0\n",
        "df.is_churn[df['is_churn'] == 'True'] = 1\n",
        "df['is_churn'] = df['is_churn'].astype('int')\n",
        "\n",
        "X = df[feature_columns] \n",
        "y = df['is_churn'] \n",
        "\n",
        "from sklearn.model_selection import train_test_split\n",
        "X_train, X_test, y_train, y_test = train_test_split(X, y, test_size=0.25, random_state=0)\n",
        "\n",
        "from sklearn.linear_model import LogisticRegression\n",
        "from sklearn.metrics import confusion_matrix\n",
        "\n",
        "logreg = LogisticRegression()\n",
        "logreg.fit(X_train, y_train)\n",
        "y_pred = logreg.predict(X_test)\n",
        "cnf_matrix = confusion_matrix(y_test, y_pred)\n",
        "\n",
        "from sklearn.metrics import accuracy_score, precision_score, recall_score\n",
        "\n",
        "#Menghitung Accuracy, Precision, dan Recall\n",
        "print('Accuracy :', accuracy_score(y_test, y_pred))\n",
        "print('Precision:', precision_score(y_test, y_pred, average='micro'))\n",
        "print('Recall   :', recall_score(y_test, y_pred, average='micro'))"
      ],
      "metadata": {
        "colab": {
          "base_uri": "https://localhost:8080/"
        },
        "id": "oH7k95mz5HG0",
        "outputId": "a422ed02-e9c7-45b5-8355-576c1596a6d6"
      },
      "execution_count": 7,
      "outputs": [
        {
          "output_type": "stream",
          "name": "stderr",
          "text": [
            "/usr/local/lib/python3.7/dist-packages/ipykernel_launcher.py:14: SettingWithCopyWarning: \n",
            "A value is trying to be set on a copy of a slice from a DataFrame\n",
            "\n",
            "See the caveats in the documentation: https://pandas.pydata.org/pandas-docs/stable/user_guide/indexing.html#returning-a-view-versus-a-copy\n",
            "  \n",
            "/usr/local/lib/python3.7/dist-packages/ipykernel_launcher.py:15: SettingWithCopyWarning: \n",
            "A value is trying to be set on a copy of a slice from a DataFrame\n",
            "\n",
            "See the caveats in the documentation: https://pandas.pydata.org/pandas-docs/stable/user_guide/indexing.html#returning-a-view-versus-a-copy\n",
            "  from ipykernel import kernelapp as app\n"
          ]
        },
        {
          "output_type": "stream",
          "name": "stdout",
          "text": [
            "Accuracy : 0.66668\n",
            "Precision: 0.66668\n",
            "Recall   : 0.66668\n"
          ]
        }
      ]
    }
  ]
}