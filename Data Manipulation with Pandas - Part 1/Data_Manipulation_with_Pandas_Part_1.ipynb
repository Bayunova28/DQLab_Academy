{
  "nbformat": 4,
  "nbformat_minor": 0,
  "metadata": {
    "colab": {
      "name": "Data Manipulation with Pandas - Part 1.ipynb",
      "provenance": []
    },
    "kernelspec": {
      "name": "python3",
      "display_name": "Python 3"
    },
    "language_info": {
      "name": "python"
    }
  },
  "cells": [
    {
      "cell_type": "markdown",
      "source": [
        "# Introduction to Pandas"
      ],
      "metadata": {
        "id": "RngbUKgbJujX"
      }
    },
    {
      "cell_type": "markdown",
      "source": [
        "### DataFrame & Series"
      ],
      "metadata": {
        "id": "jdecsoDiJuaw"
      }
    },
    {
      "cell_type": "code",
      "execution_count": null,
      "metadata": {
        "colab": {
          "base_uri": "https://localhost:8080/"
        },
        "id": "N7HcDNTyJtQT",
        "outputId": "c32ed1f7-4cac-4531-cda5-8e733c8f6ea8"
      },
      "outputs": [
        {
          "output_type": "stream",
          "name": "stdout",
          "text": [
            "Series:\n",
            "0    1\n",
            "1    2\n",
            "2    3\n",
            "3    4\n",
            "4    5\n",
            "5    6\n",
            "dtype: int64\n",
            "DataFrame:\n",
            "   0  1  2\n",
            "0  1  2  3\n",
            "1  a  b  c\n",
            "2  3  4  5\n",
            "3  d  4  6\n"
          ]
        }
      ],
      "source": [
        "import pandas as pd\n",
        "\n",
        "# Series\n",
        "number_list = pd.Series([1, 2, 3, 4, 5, 6])\n",
        "print(\"Series:\")\n",
        "print(number_list)\n",
        "\n",
        "# DataFrame\n",
        "matrix = [[1,2,3],\n",
        "          ['a','b','c'],\n",
        "          [3,4,5],\n",
        "          ['d',4,6]]\n",
        "matrix_list = pd.DataFrame(matrix)\n",
        "print(\"DataFrame:\")\n",
        "print(matrix_list)"
      ]
    },
    {
      "cell_type": "markdown",
      "source": [
        "### Atribut DataFrame & Series - Part 1"
      ],
      "metadata": {
        "id": "s0EuN-m3J7WZ"
      }
    },
    {
      "cell_type": "code",
      "source": [
        "import pandas as pd\n",
        "\n",
        "# Series\n",
        "number_list = pd.Series([1,2,3,4,5,6])\n",
        "\n",
        "# DataFrame\n",
        "matrix_list = pd.DataFrame([[1,2,3],\n",
        "\t\t\t\t            ['a','b','c'],\n",
        "\t\t\t\t            [3,4,5],\n",
        "\t\t\t\t            ['d',4,6]])\n",
        "\n",
        "# [1] attribute .info()\n",
        "print(\"[1] attribute .info()\")\n",
        "print(matrix_list.info())\n",
        "\n",
        "# [2] attribute .shape\n",
        "print(\"\\n[2] attribute .shape\")\n",
        "print(\"    Shape dari number_list:\", number_list.shape)\n",
        "print(\"    Shape dari matrix_list:\", matrix_list.shape)\n",
        "\n",
        "# [3] attribute .dtypes\n",
        "print(\"\\n[3] attribute .dtypes\")\n",
        "print(\"    Tipe data number_list:\", number_list.dtypes)\n",
        "print(\"    Tipe data matrix_list:\", matrix_list.dtypes)\n",
        "\n",
        "# [4] attribute .astype()\n",
        "print(\"\\n[4] attribute .astype()\")\n",
        "print(\"    Konversi number_list ke str:\", number_list.astype(\"str\"))\n",
        "print(\"    Konversi matrix_list ke str:\", matrix_list.astype(\"str\"))"
      ],
      "metadata": {
        "colab": {
          "base_uri": "https://localhost:8080/"
        },
        "id": "ShZ0D1ppJ_eY",
        "outputId": "651d388d-70fd-4dc2-c501-731509640424"
      },
      "execution_count": null,
      "outputs": [
        {
          "output_type": "stream",
          "name": "stdout",
          "text": [
            "[1] attribute .info()\n",
            "<class 'pandas.core.frame.DataFrame'>\n",
            "RangeIndex: 4 entries, 0 to 3\n",
            "Data columns (total 3 columns):\n",
            " #   Column  Non-Null Count  Dtype \n",
            "---  ------  --------------  ----- \n",
            " 0   0       4 non-null      object\n",
            " 1   1       4 non-null      object\n",
            " 2   2       4 non-null      object\n",
            "dtypes: object(3)\n",
            "memory usage: 224.0+ bytes\n",
            "None\n",
            "\n",
            "[2] attribute .shape\n",
            "    Shape dari number_list: (6,)\n",
            "    Shape dari matrix_list: (4, 3)\n",
            "\n",
            "[3] attribute .dtypes\n",
            "    Tipe data number_list: int64\n",
            "    Tipe data matrix_list: 0    object\n",
            "1    object\n",
            "2    object\n",
            "dtype: object\n",
            "\n",
            "[4] attribute .astype()\n",
            "    Konversi number_list ke str: 0    1\n",
            "1    2\n",
            "2    3\n",
            "3    4\n",
            "4    5\n",
            "5    6\n",
            "dtype: object\n",
            "    Konversi matrix_list ke str:    0  1  2\n",
            "0  1  2  3\n",
            "1  a  b  c\n",
            "2  3  4  5\n",
            "3  d  4  6\n"
          ]
        }
      ]
    },
    {
      "cell_type": "markdown",
      "source": [
        "### Atribut DataFrame & Series - Part 2"
      ],
      "metadata": {
        "id": "skN5egPuKHGf"
      }
    },
    {
      "cell_type": "code",
      "source": [
        "import pandas as pd\n",
        "\n",
        "# Series\n",
        "number_list = pd.Series([1,2,3,4,5,6])\n",
        "\n",
        "# DataFrame\n",
        "matrix_list = pd.DataFrame([[1,2,3],\n",
        "\t\t\t\t            ['a','b','c'],\n",
        "\t\t\t\t            [3,4,5],\n",
        "\t\t\t\t            ['d',4,6]])\n",
        "\n",
        "# [5] attribute .copy()\n",
        "print(\"[5] attribute .copy()\")\n",
        "num_list = number_list.copy()\n",
        "print(\"    Copy number_list ke num_list:\", num_list)\n",
        "mtr_list = matrix_list.copy()\n",
        "print(\"    Copy matrix_list ke mtr_list:\", mtr_list)\t\n",
        "\n",
        "# [6] attribute .to_list()\n",
        "print(\"[6] attribute .to_list()\")\n",
        "print(number_list.to_list())\n",
        "\n",
        "# [7] attribute .unique()\n",
        "print(\"[7] attribute .unique()\")\n",
        "print(number_list.unique())"
      ],
      "metadata": {
        "colab": {
          "base_uri": "https://localhost:8080/"
        },
        "id": "ZfiH6BzMKKxX",
        "outputId": "fc40f947-1f02-4376-af3d-f03d6a1342d3"
      },
      "execution_count": null,
      "outputs": [
        {
          "output_type": "stream",
          "name": "stdout",
          "text": [
            "[5] attribute .copy()\n",
            "    Copy number_list ke num_list: 0    1\n",
            "1    2\n",
            "2    3\n",
            "3    4\n",
            "4    5\n",
            "5    6\n",
            "dtype: int64\n",
            "    Copy matrix_list ke mtr_list:    0  1  2\n",
            "0  1  2  3\n",
            "1  a  b  c\n",
            "2  3  4  5\n",
            "3  d  4  6\n",
            "[6] attribute .to_list()\n",
            "[1, 2, 3, 4, 5, 6]\n",
            "[7] attribute .unique()\n",
            "[1 2 3 4 5 6]\n"
          ]
        }
      ]
    },
    {
      "cell_type": "markdown",
      "source": [
        "### Atribut DataFrame & Series - Part 3"
      ],
      "metadata": {
        "id": "N3guICvRKU6I"
      }
    },
    {
      "cell_type": "code",
      "source": [
        "import pandas as pd\n",
        "\n",
        "# Series\n",
        "number_list = pd.Series([1,2,3,4,5,6])\n",
        "\n",
        "# DataFrame\n",
        "matrix_list = pd.DataFrame([[1,2,3],\n",
        "\t\t\t\t            ['a','b','c'],\n",
        "\t\t\t\t            [3,4,5],\n",
        "\t\t\t\t            ['d',4,6]])\n",
        "\n",
        "# [8] attribute .index\n",
        "print(\"[8] attribute .index\")\n",
        "print(\"    Index number_list:\", number_list.index)\n",
        "print(\"    Index matrix_list:\", matrix_list.index)\t\n",
        "\n",
        "# [9] attribute .columns\n",
        "print(\"[9] attribute .columns\")\n",
        "print(\"    Column matrix_list:\", matrix_list.columns)\n",
        "\n",
        "# [10] attribute .loc\n",
        "print(\"[10] attribute .loc\")\n",
        "print(\"    .loc[0:1] pada number_list:\", number_list.loc[0:1])\n",
        "print(\"    .loc[0:1] pada matrix_list:\", matrix_list.loc[0:1])\n",
        "\n",
        "# [11] attribute .iloc\n",
        "print(\"[11] attribute .iloc\")\n",
        "print(\"    iloc[0:1] pada number_list:\", number_list.iloc[0:1])\n",
        "print(\"    iloc[0:1] pada matrix_list:\", matrix_list.iloc[0:1])\t"
      ],
      "metadata": {
        "colab": {
          "base_uri": "https://localhost:8080/"
        },
        "id": "AuI5K5vGKXXA",
        "outputId": "701c4c83-d35e-44f3-99e8-d5c56c06d15b"
      },
      "execution_count": null,
      "outputs": [
        {
          "output_type": "stream",
          "name": "stdout",
          "text": [
            "[8] attribute .index\n",
            "    Index number_list: RangeIndex(start=0, stop=6, step=1)\n",
            "    Index matrix_list: RangeIndex(start=0, stop=4, step=1)\n",
            "[9] attribute .columns\n",
            "    Column matrix_list: RangeIndex(start=0, stop=3, step=1)\n",
            "[10] attribute .loc\n",
            "    .loc[0:1] pada number_list: 0    1\n",
            "1    2\n",
            "dtype: int64\n",
            "    .loc[0:1] pada matrix_list:    0  1  2\n",
            "0  1  2  3\n",
            "1  a  b  c\n",
            "[11] attribute .iloc\n",
            "    iloc[0:1] pada number_list: 0    1\n",
            "dtype: int64\n",
            "    iloc[0:1] pada matrix_list:    0  1  2\n",
            "0  1  2  3\n"
          ]
        }
      ]
    },
    {
      "cell_type": "markdown",
      "source": [
        "### Creating Series & Dataframe from List"
      ],
      "metadata": {
        "id": "CQgTiaeOKhVX"
      }
    },
    {
      "cell_type": "code",
      "source": [
        "import pandas as pd\n",
        "\n",
        "# Creating series from list\n",
        "ex_list = ['a',1,3,5,'c','d']\n",
        "ex_series = pd.Series(ex_list)\n",
        "print(ex_series)\n",
        "\n",
        "# Creating dataframe from list of list\n",
        "ex_list_of_list = [[1, 'a', 'b', 'c'],\n",
        "                   [2.5, 'd', 'e', 'f'],\n",
        "\t\t           [5, 'g', 'h', 'i'],\n",
        "\t\t           [7.5, 'j', 10.5, 'l']]\n",
        "index = ['dq', 'lab', 'kar', 'lan']\n",
        "cols = ['float', 'char', 'obj', 'char']\n",
        "ex_df = pd.DataFrame(ex_list_of_list, index=index, columns=cols)\n",
        "print(ex_df)"
      ],
      "metadata": {
        "colab": {
          "base_uri": "https://localhost:8080/"
        },
        "id": "CEiRbAVgKjBQ",
        "outputId": "10777fd1-f8a9-4b36-e8c7-0f3e4899fac7"
      },
      "execution_count": null,
      "outputs": [
        {
          "output_type": "stream",
          "name": "stdout",
          "text": [
            "0    a\n",
            "1    1\n",
            "2    3\n",
            "3    5\n",
            "4    c\n",
            "5    d\n",
            "dtype: object\n",
            "     float char   obj char\n",
            "dq     1.0    a     b    c\n",
            "lab    2.5    d     e    f\n",
            "kar    5.0    g     h    i\n",
            "lan    7.5    j  10.5    l\n"
          ]
        }
      ]
    },
    {
      "cell_type": "markdown",
      "source": [
        "### Creating Series & Dataframe from Dictionary"
      ],
      "metadata": {
        "id": "d_9D70z_KoW3"
      }
    },
    {
      "cell_type": "code",
      "source": [
        "import pandas as pd\n",
        "\n",
        "# Creating series from dictionary\n",
        "dict_series = {'1' : 'a',\n",
        "\t\t\t   '2' : 'b',\n",
        "\t\t\t   '3' : 'c'}\n",
        "ex_series = pd.Series(dict_series)\n",
        "print(ex_series)\n",
        "\n",
        "# Creating dataframe from dictionary\n",
        "df_series = {'1' : ['a','b','c'],\n",
        "             '2' : ['b','c','d'],\n",
        "             '4' : [2,3,'z']}\n",
        "ex_df = pd.DataFrame(df_series)\n",
        "print(ex_df)"
      ],
      "metadata": {
        "colab": {
          "base_uri": "https://localhost:8080/"
        },
        "id": "pc0k75FlKsFX",
        "outputId": "f8042738-3978-4e8a-e4b0-8439bef3afac"
      },
      "execution_count": null,
      "outputs": [
        {
          "output_type": "stream",
          "name": "stdout",
          "text": [
            "1    a\n",
            "2    b\n",
            "3    c\n",
            "dtype: object\n",
            "   1  2  4\n",
            "0  a  b  2\n",
            "1  b  c  3\n",
            "2  c  d  z\n"
          ]
        }
      ]
    },
    {
      "cell_type": "markdown",
      "source": [
        "### Creating Series & Dataframe from Numpy Array"
      ],
      "metadata": {
        "id": "bK5QEzfQKw-f"
      }
    },
    {
      "cell_type": "code",
      "source": [
        "import pandas as pd\n",
        "import numpy as np\n",
        "\n",
        "# Creating series from numpy array (1D)\n",
        "arr_series = np.array([1,2,3,4,5,6,6,7])\n",
        "ex_series = pd.Series(arr_series)\n",
        "print(ex_series)\n",
        "\n",
        "# Creating dataframe from numpy array (2D)\n",
        "arr_df = np.array([[1,2,3,5],\n",
        "                   [5,6,7,8],\n",
        "                   ['a','b','c',10]])\n",
        "ex_df = pd.DataFrame(arr_df)\n",
        "print(ex_df)"
      ],
      "metadata": {
        "colab": {
          "base_uri": "https://localhost:8080/"
        },
        "id": "9uTJCoQ8KypH",
        "outputId": "692da163-2e61-4d9a-8871-68ca337db627"
      },
      "execution_count": null,
      "outputs": [
        {
          "output_type": "stream",
          "name": "stdout",
          "text": [
            "0    1\n",
            "1    2\n",
            "2    3\n",
            "3    4\n",
            "4    5\n",
            "5    6\n",
            "6    6\n",
            "7    7\n",
            "dtype: int64\n",
            "   0  1  2   3\n",
            "0  1  2  3   5\n",
            "1  5  6  7   8\n",
            "2  a  b  c  10\n"
          ]
        }
      ]
    },
    {
      "cell_type": "markdown",
      "source": [
        "# Dataset I/O"
      ],
      "metadata": {
        "id": "bIgfiPW0K79X"
      }
    },
    {
      "cell_type": "markdown",
      "source": [
        "### Read Dataset - CSV dan TSV"
      ],
      "metadata": {
        "id": "G_lMJuVLK_GP"
      }
    },
    {
      "cell_type": "code",
      "source": [
        "import pandas as pd\n",
        "\n",
        "# File CSV\n",
        "df_csv = pd.read_csv(\"https://storage.googleapis.com/dqlab-dataset/sample_csv.csv\")\n",
        "print(df_csv.head(3)) # Menampilkan 3 data teratas\n",
        "\n",
        "# File TSV\n",
        "df_tsv = pd.read_csv(\"https://storage.googleapis.com/dqlab-dataset/sample_tsv.tsv\", sep='\\t')\n",
        "print(df_tsv.head(3)) # Menampilkan 3 data teratas"
      ],
      "metadata": {
        "colab": {
          "base_uri": "https://localhost:8080/"
        },
        "id": "USKio2mFLNfn",
        "outputId": "43c1eda7-69a9-447f-d0db-7ab81a037d5e"
      },
      "execution_count": null,
      "outputs": [
        {
          "output_type": "stream",
          "name": "stdout",
          "text": [
            "   order_id  order_date  customer_id  ...    brand quantity item_price\n",
            "0   1612339  2019-01-01        18055  ...  BRAND_C        4    1934000\n",
            "1   1612339  2019-01-01        18055  ...  BRAND_V        8     604000\n",
            "2   1612339  2019-01-01        18055  ...  BRAND_G       12     747000\n",
            "\n",
            "[3 rows x 9 columns]\n",
            "   order_id  order_date  customer_id  ...    brand quantity item_price\n",
            "0   1612339  2019-01-01        18055  ...  BRAND_C        4    1934000\n",
            "1   1612339  2019-01-01        18055  ...  BRAND_V        8     604000\n",
            "2   1612339  2019-01-01        18055  ...  BRAND_G       12     747000\n",
            "\n",
            "[3 rows x 9 columns]\n"
          ]
        }
      ]
    },
    {
      "cell_type": "markdown",
      "source": [
        "### Read Dataset - Excel"
      ],
      "metadata": {
        "id": "ljVrgMLaLRL4"
      }
    },
    {
      "cell_type": "code",
      "source": [
        "import pandas as pd\n",
        "\n",
        "# File xlsx dengan data di sheet \"test\"\n",
        "df_excel = pd.read_excel(\"https://storage.googleapis.com/dqlab-dataset/sample_excel.xlsx\", sheet_name=\"test\")\n",
        "print(df_excel.head(4)) # Menampilkan 4 data teratas"
      ],
      "metadata": {
        "colab": {
          "base_uri": "https://localhost:8080/"
        },
        "id": "d-AVVv5MLUbY",
        "outputId": "67cb9458-50e1-4148-d1f6-6e113d15fb01"
      },
      "execution_count": null,
      "outputs": [
        {
          "output_type": "stream",
          "name": "stdout",
          "text": [
            "   order_id  order_date  customer_id  ...    brand quantity item_price\n",
            "0   1612339  2019-01-01        18055  ...  BRAND_C        4    1934000\n",
            "1   1612339  2019-01-01        18055  ...  BRAND_V        8     604000\n",
            "2   1612339  2019-01-01        18055  ...  BRAND_G       12     747000\n",
            "3   1612339  2019-01-01        18055  ...  BRAND_B       12     450000\n",
            "\n",
            "[4 rows x 9 columns]\n"
          ]
        }
      ]
    },
    {
      "cell_type": "markdown",
      "source": [
        "### Read Dataset - JSON"
      ],
      "metadata": {
        "id": "dkU7PEtSLX9q"
      }
    },
    {
      "cell_type": "code",
      "source": [
        "import pandas as pd\n",
        "\n",
        "# File JSON\n",
        "url = \"https://storage.googleapis.com/dqlab-dataset/covid2019-api-herokuapp-v2.json\"\n",
        "df_json = pd.read_json(url)\n",
        "print(df_json.head(10)) # Menampilkan 10 data teratas"
      ],
      "metadata": {
        "colab": {
          "base_uri": "https://localhost:8080/"
        },
        "id": "TtDVPJ0dLjIJ",
        "outputId": "5b097040-4928-4e93-e3b1-dc763d937756"
      },
      "execution_count": null,
      "outputs": [
        {
          "output_type": "stream",
          "name": "stdout",
          "text": [
            "                                                data          dt          ts\n",
            "0  {'location': 'US', 'confirmed': 3363056, 'deat...  07-14-2020  1594684800\n",
            "1  {'location': 'Brazil', 'confirmed': 1884967, '...  07-14-2020  1594684800\n",
            "2  {'location': 'India', 'confirmed': 906752, 'de...  07-14-2020  1594684800\n",
            "3  {'location': 'Russia', 'confirmed': 732547, 'd...  07-14-2020  1594684800\n",
            "4  {'location': 'Peru', 'confirmed': 330123, 'dea...  07-14-2020  1594684800\n",
            "5  {'location': 'Chile', 'confirmed': 317657, 'de...  07-14-2020  1594684800\n",
            "6  {'location': 'Mexico', 'confirmed': 304435, 'd...  07-14-2020  1594684800\n",
            "7  {'location': 'United Kingdom', 'confirmed': 29...  07-14-2020  1594684800\n",
            "8  {'location': 'South Africa', 'confirmed': 2877...  07-14-2020  1594684800\n",
            "9  {'location': 'Iran', 'confirmed': 259652, 'dea...  07-14-2020  1594684800\n"
          ]
        }
      ]
    },
    {
      "cell_type": "markdown",
      "source": [
        "### Head & Tail"
      ],
      "metadata": {
        "id": "MR4Aig5zLqqg"
      }
    },
    {
      "cell_type": "code",
      "source": [
        "import pandas as pd\n",
        "\n",
        "# Baca file sample_csv.csv\n",
        "df = pd.read_csv(\"https://storage.googleapis.com/dqlab-dataset/sample_csv.csv\")\n",
        "\n",
        "# Tampilkan 3 data teratas\n",
        "print(\"Tiga data teratas:\\n\", df.head(3))\n",
        "\n",
        "# Tampilkan 3 data terbawah\n",
        "print(\"Tiga data terbawah:\\n\", df.tail(3))"
      ],
      "metadata": {
        "colab": {
          "base_uri": "https://localhost:8080/"
        },
        "id": "LDCo0tuzLr9Z",
        "outputId": "d11c5648-0079-4777-fe20-e852b169fda6"
      },
      "execution_count": null,
      "outputs": [
        {
          "output_type": "stream",
          "name": "stdout",
          "text": [
            "Tiga data teratas:\n",
            "    order_id  order_date  customer_id  ...    brand quantity item_price\n",
            "0   1612339  2019-01-01        18055  ...  BRAND_C        4    1934000\n",
            "1   1612339  2019-01-01        18055  ...  BRAND_V        8     604000\n",
            "2   1612339  2019-01-01        18055  ...  BRAND_G       12     747000\n",
            "\n",
            "[3 rows x 9 columns]\n",
            "Tiga data terbawah:\n",
            "      order_id  order_date  customer_id  ...    brand quantity item_price\n",
            "98    1612390  2019-01-01        12681  ...  BRAND_S       24     450000\n",
            "99    1612390  2019-01-01        12681  ...  BRAND_S       24     450000\n",
            "100   1612390  2019-01-01        12681  ...  BRAND_B        4    1325000\n",
            "\n",
            "[3 rows x 9 columns]\n"
          ]
        }
      ]
    },
    {
      "cell_type": "markdown",
      "source": [
        "### Indexing, Slicing, dan Transforming"
      ],
      "metadata": {
        "id": "rDdAuLaxLwhI"
      }
    },
    {
      "cell_type": "markdown",
      "source": [
        "### Indexing - Part 2"
      ],
      "metadata": {
        "id": "MVn4WwAtL843"
      }
    },
    {
      "cell_type": "code",
      "source": [
        "import pandas as pd\n",
        "\n",
        "# Baca file TSV sample_tsv.tsv\n",
        "df = pd.read_csv(\"https://storage.googleapis.com/dqlab-dataset/sample_tsv.tsv\", sep = \"\\t\")\n",
        "\n",
        "# Index dari df\n",
        "print(\"Index:\", df.index)\n",
        "\n",
        "# Column dari df\n",
        "print(\"Columns:\", df.columns)"
      ],
      "metadata": {
        "colab": {
          "base_uri": "https://localhost:8080/"
        },
        "id": "Wfive2q7L6EY",
        "outputId": "f6f93376-9b54-49f7-ec29-ef5b6d02a36a"
      },
      "execution_count": null,
      "outputs": [
        {
          "output_type": "stream",
          "name": "stdout",
          "text": [
            "Index: RangeIndex(start=0, stop=101, step=1)\n",
            "Columns: Index(['order_id', 'order_date', 'customer_id', 'city', 'province',\n",
            "       'product_id', 'brand', 'quantity', 'item_price'],\n",
            "      dtype='object')\n"
          ]
        }
      ]
    },
    {
      "cell_type": "markdown",
      "source": [
        "### Indexing - Part 3"
      ],
      "metadata": {
        "id": "hBa1gtoyMDX_"
      }
    },
    {
      "cell_type": "code",
      "source": [
        "import pandas as pd\n",
        "\n",
        "# Baca file TSV sample_tsv.tsv\n",
        "df = pd.read_csv(\"https://storage.googleapis.com/dqlab-dataset/sample_tsv.tsv\", sep = \"\\t\")\n",
        "\n",
        "# Set multi index df\n",
        "df_x = df.set_index(['order_date', 'city', 'customer_id'])\n",
        "\n",
        "# Print nama dan level dari multi index\n",
        "for name, level in zip(df_x.index.names, df_x.index.levels):\n",
        "    print(name,':',level)"
      ],
      "metadata": {
        "colab": {
          "base_uri": "https://localhost:8080/"
        },
        "id": "Wt-uDpV8ME0I",
        "outputId": "94d8eff3-6db7-48a7-8d81-2a0ca3118a2d"
      },
      "execution_count": null,
      "outputs": [
        {
          "output_type": "stream",
          "name": "stdout",
          "text": [
            "order_date : Index(['2019-01-01'], dtype='object', name='order_date')\n",
            "city : Index(['Bogor', 'Jakarta Pusat', 'Jakarta Selatan', 'Jakarta Utara',\n",
            "       'Makassar', 'Malang', 'Surabaya', 'Tangerang'],\n",
            "      dtype='object', name='city')\n",
            "customer_id : Int64Index([12681, 13963, 15649, 17091, 17228, 17450, 17470, 17511, 17616,\n",
            "            18055],\n",
            "           dtype='int64', name='customer_id')\n"
          ]
        }
      ]
    },
    {
      "cell_type": "markdown",
      "source": [
        "### Indexing - Part 4"
      ],
      "metadata": {
        "id": "zbBzCrE9MITI"
      }
    },
    {
      "cell_type": "code",
      "source": [
        "import pandas as pd\n",
        "\n",
        "# Baca file sample_tsv.tsv untuk 10 baris pertama saja\n",
        "df = pd.read_csv(\"https://storage.googleapis.com/dqlab-dataset/sample_tsv.tsv\", sep = \"\\t\", nrows=10)\n",
        "\n",
        "# Cetak data frame awal\n",
        "print(\"Dataframe awal:\\n\", df)\n",
        "\n",
        "# Set index baru\n",
        "df.index = [\"Pesanan ke-\" + str(i) for i in range(1, 11)]\n",
        "\n",
        "# Cetak data frame dengan index baru\n",
        "print(\"Dataframe dengan index baru:\\n\", df)"
      ],
      "metadata": {
        "colab": {
          "base_uri": "https://localhost:8080/"
        },
        "id": "Ad7lJFykMP8x",
        "outputId": "067530dd-7d11-431a-f25c-1d607bb1fda0"
      },
      "execution_count": null,
      "outputs": [
        {
          "output_type": "stream",
          "name": "stdout",
          "text": [
            "Dataframe awal:\n",
            "    order_id  order_date  customer_id  ...    brand quantity item_price\n",
            "0   1612339  2019-01-01        18055  ...  BRAND_C        4    1934000\n",
            "1   1612339  2019-01-01        18055  ...  BRAND_V        8     604000\n",
            "2   1612339  2019-01-01        18055  ...  BRAND_G       12     747000\n",
            "3   1612339  2019-01-01        18055  ...  BRAND_B       12     450000\n",
            "4   1612339  2019-01-01        18055  ...  BRAND_G        3    1500000\n",
            "5   1612339  2019-01-01        18055  ...  BRAND_V        3    2095000\n",
            "6   1612339  2019-01-01        18055  ...  BRAND_H        3    2095000\n",
            "7   1612339  2019-01-01        18055  ...  BRAND_S        3    1745000\n",
            "8   1612339  2019-01-01        18055  ...  BRAND_F        6    1045000\n",
            "9   1612339  2019-01-01        18055  ...  BRAND_P        6    1045000\n",
            "\n",
            "[10 rows x 9 columns]\n",
            "Dataframe dengan index baru:\n",
            "                order_id  order_date  customer_id  ...    brand quantity item_price\n",
            "Pesanan ke-1    1612339  2019-01-01        18055  ...  BRAND_C        4    1934000\n",
            "Pesanan ke-2    1612339  2019-01-01        18055  ...  BRAND_V        8     604000\n",
            "Pesanan ke-3    1612339  2019-01-01        18055  ...  BRAND_G       12     747000\n",
            "Pesanan ke-4    1612339  2019-01-01        18055  ...  BRAND_B       12     450000\n",
            "Pesanan ke-5    1612339  2019-01-01        18055  ...  BRAND_G        3    1500000\n",
            "Pesanan ke-6    1612339  2019-01-01        18055  ...  BRAND_V        3    2095000\n",
            "Pesanan ke-7    1612339  2019-01-01        18055  ...  BRAND_H        3    2095000\n",
            "Pesanan ke-8    1612339  2019-01-01        18055  ...  BRAND_S        3    1745000\n",
            "Pesanan ke-9    1612339  2019-01-01        18055  ...  BRAND_F        6    1045000\n",
            "Pesanan ke-10   1612339  2019-01-01        18055  ...  BRAND_P        6    1045000\n",
            "\n",
            "[10 rows x 9 columns]\n"
          ]
        }
      ]
    },
    {
      "cell_type": "markdown",
      "source": [
        "### Indexing - Part 5"
      ],
      "metadata": {
        "id": "bxKO_l2uMWCg"
      }
    },
    {
      "cell_type": "code",
      "source": [
        "import pandas as pd\n",
        "\n",
        "# Baca file sample_tsv.tsv dan set lah index_col sesuai instruksi\n",
        "df = pd.read_csv(\"https://storage.googleapis.com/dqlab-dataset/sample_tsv.tsv\", sep = \"\\t\", index_col=[\"order_date\", \"order_id\"])\n",
        "\n",
        "# Cetak data frame untuk 8 data teratas\n",
        "print(\"Dataframe:\\n\", df.head(8))"
      ],
      "metadata": {
        "colab": {
          "base_uri": "https://localhost:8080/"
        },
        "id": "5pC2W3OEMXZw",
        "outputId": "ab95ea9d-f773-4fad-82fa-40d4746a3176"
      },
      "execution_count": null,
      "outputs": [
        {
          "output_type": "stream",
          "name": "stdout",
          "text": [
            "Dataframe:\n",
            "                      customer_id             city  ... quantity item_price\n",
            "order_date order_id                                ...                    \n",
            "2019-01-01 1612339         18055  Jakarta Selatan  ...        4    1934000\n",
            "           1612339         18055  Jakarta Selatan  ...        8     604000\n",
            "           1612339         18055  Jakarta Selatan  ...       12     747000\n",
            "           1612339         18055  Jakarta Selatan  ...       12     450000\n",
            "           1612339         18055  Jakarta Selatan  ...        3    1500000\n",
            "           1612339         18055  Jakarta Selatan  ...        3    2095000\n",
            "           1612339         18055  Jakarta Selatan  ...        3    2095000\n",
            "           1612339         18055  Jakarta Selatan  ...        3    1745000\n",
            "\n",
            "[8 rows x 7 columns]\n"
          ]
        }
      ]
    },
    {
      "cell_type": "markdown",
      "source": [
        "### Slicing - Part 1"
      ],
      "metadata": {
        "id": "NUc1JDIAMdPp"
      }
    },
    {
      "cell_type": "code",
      "source": [
        "import pandas as pd\n",
        "\n",
        "# Baca file sample_csv.csv\n",
        "df = pd.read_csv(\"https://storage.googleapis.com/dqlab-dataset/sample_csv.csv\")\n",
        "\n",
        "# Slice langsung berdasarkan kolom\n",
        "df_slice = df.loc[(df[\"customer_id\"] == \"18055\") &\n",
        "(df[\"product_id\"].isin([\"P0029\",\"P0040\",\"P0041\",\"P0116\",\"P0117\"]))\n",
        "]\n",
        "print(\"Slice langsung berdasarkan kolom:\\n\", df_slice)"
      ],
      "metadata": {
        "colab": {
          "base_uri": "https://localhost:8080/"
        },
        "id": "B_pQjbUzMesY",
        "outputId": "0322b67e-715e-4f09-aa2d-646a18880cd2"
      },
      "execution_count": null,
      "outputs": [
        {
          "output_type": "stream",
          "name": "stdout",
          "text": [
            "Slice langsung berdasarkan kolom:\n",
            " Empty DataFrame\n",
            "Columns: [order_id, order_date, customer_id, city, province, product_id, brand, quantity, item_price]\n",
            "Index: []\n"
          ]
        }
      ]
    },
    {
      "cell_type": "markdown",
      "source": [
        "### Slicing - Part 2"
      ],
      "metadata": {
        "id": "ESPJhkz5Mlo4"
      }
    },
    {
      "cell_type": "code",
      "source": [
        "import pandas as pd\n",
        "\n",
        "# Baca file sample_csv.csv\n",
        "df = pd.read_csv(\"https://storage.googleapis.com/dqlab-dataset/sample_csv.csv\")\n",
        "\n",
        "# Set index dari df sesuai instruksi\n",
        "df = df.set_index([\"order_date\", \"order_id\", \"product_id\"])\n",
        "\n",
        "# Slice sesuai intruksi\n",
        "df_slice = df.loc[(\"2019-01-01\",1612339,[\"P2154\", \"P2159\"]),:]\n",
        "print(\"Slice df:\\n\", df_slice)"
      ],
      "metadata": {
        "colab": {
          "base_uri": "https://localhost:8080/"
        },
        "id": "XvXbSbkSMm-5",
        "outputId": "11b687e7-98a3-4075-f298-e837ce1de13b"
      },
      "execution_count": null,
      "outputs": [
        {
          "output_type": "stream",
          "name": "stdout",
          "text": [
            "Slice df:\n",
            "                                 customer_id  ... item_price\n",
            "order_date order_id product_id               ...           \n",
            "2019-01-01 1612339  P2154             18055  ...    1745000\n",
            "                    P2159             18055  ...     310000\n",
            "\n",
            "[2 rows x 6 columns]\n"
          ]
        }
      ]
    },
    {
      "cell_type": "markdown",
      "source": [
        "### Transforming - Part 1"
      ],
      "metadata": {
        "id": "swcxDh6sMv8A"
      }
    },
    {
      "cell_type": "code",
      "source": [
        "import pandas as pd\n",
        "\n",
        "# Baca file sample_csv.csv\n",
        "df = pd.read_csv(\"https://storage.googleapis.com/dqlab-dataset/sample_csv.csv\")\n",
        "\n",
        "# Tampilkan tipe data\n",
        "print(\"Tipe data df:\\n\", df.dtypes)\n",
        "\n",
        "# Ubah tipe data kolom order_date menjadi datetime\n",
        "df[\"order_date\"] = pd.to_datetime(df[\"order_date\"])\n",
        "\n",
        "# Tampilkan tipe data df setelah transformasi\n",
        "print(\"\\nTipe data df setelah transformasi:\\n\", df.dtypes)"
      ],
      "metadata": {
        "colab": {
          "base_uri": "https://localhost:8080/"
        },
        "id": "GIgDdsdTMxgY",
        "outputId": "46372d46-deb6-48f3-e712-fee40f10f36d"
      },
      "execution_count": null,
      "outputs": [
        {
          "output_type": "stream",
          "name": "stdout",
          "text": [
            "Tipe data df:\n",
            " order_id        int64\n",
            "order_date     object\n",
            "customer_id     int64\n",
            "city           object\n",
            "province       object\n",
            "product_id     object\n",
            "brand          object\n",
            "quantity        int64\n",
            "item_price      int64\n",
            "dtype: object\n",
            "\n",
            "Tipe data df setelah transformasi:\n",
            " order_id                int64\n",
            "order_date     datetime64[ns]\n",
            "customer_id             int64\n",
            "city                   object\n",
            "province               object\n",
            "product_id             object\n",
            "brand                  object\n",
            "quantity                int64\n",
            "item_price              int64\n",
            "dtype: object\n"
          ]
        }
      ]
    },
    {
      "cell_type": "markdown",
      "source": [
        "### Transforming - Part 2"
      ],
      "metadata": {
        "id": "7NU3yIz9M1Kw"
      }
    },
    {
      "cell_type": "code",
      "source": [
        "import pandas as pd\n",
        "\n",
        "# Baca file sample_csv.csv\n",
        "df = pd.read_csv(\"https://storage.googleapis.com/dqlab-dataset/sample_csv.csv\")\n",
        "\n",
        "# Tampilkan tipe data\n",
        "print(\"Tipe data df:\\n\", df.dtypes)\n",
        "\n",
        "# Ubah tipe data kolom quantity menjadi tipe data numerik float\n",
        "df[\"quantity\"] = pd.to_numeric(df[\"quantity\"], downcast=\"float\")\n",
        "\n",
        "# Ubah tipe data kolom city menjadi tipe data category\n",
        "df[\"city\"] = df[\"city\"].astype(\"category\")\n",
        "\n",
        "# Tampilkan tipe data df setelah transformasi\n",
        "print(\"\\nTipe data df setelah transformasi:\\n\", df.dtypes)"
      ],
      "metadata": {
        "colab": {
          "base_uri": "https://localhost:8080/"
        },
        "id": "6FdoS_22M6ER",
        "outputId": "485bb65a-b49e-47d0-816b-09947097b956"
      },
      "execution_count": null,
      "outputs": [
        {
          "output_type": "stream",
          "name": "stdout",
          "text": [
            "Tipe data df:\n",
            " order_id        int64\n",
            "order_date     object\n",
            "customer_id     int64\n",
            "city           object\n",
            "province       object\n",
            "product_id     object\n",
            "brand          object\n",
            "quantity        int64\n",
            "item_price      int64\n",
            "dtype: object\n",
            "\n",
            "Tipe data df setelah transformasi:\n",
            " order_id          int64\n",
            "order_date       object\n",
            "customer_id       int64\n",
            "city           category\n",
            "province         object\n",
            "product_id       object\n",
            "brand            object\n",
            "quantity        float32\n",
            "item_price        int64\n",
            "dtype: object\n"
          ]
        }
      ]
    },
    {
      "cell_type": "markdown",
      "source": [
        "### Transforming - Part 3"
      ],
      "metadata": {
        "id": "R8aVnP2WM-nB"
      }
    },
    {
      "cell_type": "code",
      "source": [
        "import pandas as pd\n",
        "\n",
        "# Baca file sample_csv.csv\n",
        "df = pd.read_csv(\"https://storage.googleapis.com/dqlab-dataset/sample_csv.csv\")\n",
        "\n",
        "# Cetak 5 baris teratas kolom brand\n",
        "print(\"Kolom brand awal:\\n\", df[\"brand\"].head())\n",
        "\n",
        "# Gunakan method apply untuk merubah isi kolom menjadi lower case\n",
        "df[\"brand\"] = df[\"brand\"].apply(lambda x: x.lower())\n",
        "\n",
        "# Cetak 5 baris teratas kolom brand\n",
        "print(\"Kolom brand setelah apply:\\n\", df[\"brand\"].head())\n",
        "\n",
        "# Gunakan method map untuk mengambil kode brand yaitu karakter terakhirnya\n",
        "df[\"brand\"] = df[\"brand\"].map(lambda x: x[-1])\n",
        "\n",
        "# Cetak 5 baris teratas kolom brand\n",
        "print(\"Kolom brand setelah map:\\n\", df[\"brand\"].head())"
      ],
      "metadata": {
        "colab": {
          "base_uri": "https://localhost:8080/"
        },
        "id": "_RtYS-ZFNCrR",
        "outputId": "fdfd223f-3c25-4354-be5f-311a6ff37082"
      },
      "execution_count": null,
      "outputs": [
        {
          "output_type": "stream",
          "name": "stdout",
          "text": [
            "Kolom brand awal:\n",
            " 0    BRAND_C\n",
            "1    BRAND_V\n",
            "2    BRAND_G\n",
            "3    BRAND_B\n",
            "4    BRAND_G\n",
            "Name: brand, dtype: object\n",
            "Kolom brand setelah apply:\n",
            " 0    brand_c\n",
            "1    brand_v\n",
            "2    brand_g\n",
            "3    brand_b\n",
            "4    brand_g\n",
            "Name: brand, dtype: object\n",
            "Kolom brand setelah map:\n",
            " 0    c\n",
            "1    v\n",
            "2    g\n",
            "3    b\n",
            "4    g\n",
            "Name: brand, dtype: object\n"
          ]
        }
      ]
    },
    {
      "cell_type": "markdown",
      "source": [
        "### Transforming - Part 4"
      ],
      "metadata": {
        "id": "uWhZ-V-tNHZR"
      }
    },
    {
      "cell_type": "code",
      "source": [
        "import numpy as np\n",
        "import pandas as pd\n",
        "\n",
        "# number generator, set angka seed menjadi suatu angka, bisa semua angka, supaya hasil random nya selalu sama ketika kita run\n",
        "np.random.seed(1234)\n",
        "\n",
        "# create dataframe 3 baris dan 4 kolom dengan angka random\n",
        "df_tr = pd.DataFrame(np.random.rand(3,4))\n",
        "\n",
        "# Cetak dataframe\n",
        "print(\"Dataframe:\\n\", df_tr)\n",
        "\n",
        "# Cara 1 dengan tanpa define function awalnya, langsung pake fungsi anonymous lambda x\n",
        "df_tr1 = df_tr.applymap(lambda x: x ** 2 + 3 * x + 2) \n",
        "print(\"\\nDataframe - cara 1:\\n\", df_tr1)\n",
        "\n",
        "# Cara 2 dengan define function \n",
        "def qudratic_fun(x):\n",
        "\treturn x ** 2 + 3 * x + 2\n",
        "df_tr2 = df_tr.applymap(qudratic_fun)\n",
        "print(\"\\nDataframe - cara 2:\\n\", df_tr2)"
      ],
      "metadata": {
        "colab": {
          "base_uri": "https://localhost:8080/"
        },
        "id": "fd8rsEeJNKWJ",
        "outputId": "f54e0306-2125-4a73-d868-8a34ce596259"
      },
      "execution_count": null,
      "outputs": [
        {
          "output_type": "stream",
          "name": "stdout",
          "text": [
            "Dataframe:\n",
            "           0         1         2         3\n",
            "0  0.191519  0.622109  0.437728  0.785359\n",
            "1  0.779976  0.272593  0.276464  0.801872\n",
            "2  0.958139  0.875933  0.357817  0.500995\n",
            "\n",
            "Dataframe - cara 1:\n",
            "           0         1         2         3\n",
            "0  2.611238  4.253346  3.504789  4.972864\n",
            "1  4.948290  2.892085  2.905825  5.048616\n",
            "2  5.792449  5.395056  3.201485  3.753981\n",
            "\n",
            "Dataframe - cara 2:\n",
            "           0         1         2         3\n",
            "0  2.611238  4.253346  3.504789  4.972864\n",
            "1  4.948290  2.892085  2.905825  5.048616\n",
            "2  5.792449  5.395056  3.201485  3.753981\n"
          ]
        }
      ]
    },
    {
      "cell_type": "markdown",
      "source": [
        "# Handling Missing Values"
      ],
      "metadata": {
        "id": "2DZf75o2NXKg"
      }
    },
    {
      "cell_type": "markdown",
      "source": [
        "### Inspeksi Missing Value"
      ],
      "metadata": {
        "id": "PSk3NR5zNaP9"
      }
    },
    {
      "cell_type": "code",
      "source": [
        "import pandas as pd\n",
        "\n",
        "# Baca file \"public data covid19 jhu csse eu.csv\"\n",
        "df = pd.read_csv(\"https://storage.googleapis.com/dqlab-dataset/CHAPTER%204%20-%20missing%20value%20-%20public%20data%20covid19%20.csv\")\n",
        "\n",
        "# Cetak info dari df\n",
        "print(df.info())\n",
        "\n",
        "# Cetak jumlah missing value di setiap kolom\n",
        "mv = df.isna().sum()\n",
        "print(\"\\nJumlah missing value per kolom:\\n\", mv)"
      ],
      "metadata": {
        "colab": {
          "base_uri": "https://localhost:8080/"
        },
        "id": "FaIxAHIJNdpZ",
        "outputId": "f945b8f2-b6b0-4e67-d089-8c3b044fc02d"
      },
      "execution_count": null,
      "outputs": [
        {
          "output_type": "stream",
          "name": "stdout",
          "text": [
            "<class 'pandas.core.frame.DataFrame'>\n",
            "RangeIndex: 1000 entries, 0 to 999\n",
            "Data columns (total 13 columns):\n",
            " #   Column          Non-Null Count  Dtype  \n",
            "---  ------          --------------  -----  \n",
            " 0   province_state  960 non-null    object \n",
            " 1   country_region  1000 non-null   object \n",
            " 2   date            1000 non-null   object \n",
            " 3   latitude        874 non-null    float64\n",
            " 4   longitude       874 non-null    float64\n",
            " 5   location_geom   874 non-null    object \n",
            " 6   confirmed       1000 non-null   int64  \n",
            " 7   deaths          999 non-null    float64\n",
            " 8   recovered       999 non-null    float64\n",
            " 9   active          949 non-null    float64\n",
            " 10  fips            949 non-null    float64\n",
            " 11  admin2          842 non-null    object \n",
            " 12  combined_key    0 non-null      float64\n",
            "dtypes: float64(7), int64(1), object(5)\n",
            "memory usage: 101.7+ KB\n",
            "None\n",
            "\n",
            "Jumlah missing value per kolom:\n",
            " province_state      40\n",
            "country_region       0\n",
            "date                 0\n",
            "latitude           126\n",
            "longitude          126\n",
            "location_geom      126\n",
            "confirmed            0\n",
            "deaths               1\n",
            "recovered            1\n",
            "active              51\n",
            "fips                51\n",
            "admin2             158\n",
            "combined_key      1000\n",
            "dtype: int64\n"
          ]
        }
      ]
    },
    {
      "cell_type": "markdown",
      "source": [
        "### Treatment untuk Missing Value - Part 2"
      ],
      "metadata": {
        "id": "pxYayHQdNj8x"
      }
    },
    {
      "cell_type": "code",
      "source": [
        "import pandas as pd\n",
        "\n",
        "# Baca file \"public data covid19 jhu csse eu.csv\"\n",
        "df = pd.read_csv(\"https://storage.googleapis.com/dqlab-dataset/CHAPTER%204%20-%20missing%20value%20-%20public%20data%20covid19%20.csv\")\n",
        "\n",
        "# Cetak ukuran awal dataframe\n",
        "print(\"Ukuran awal df: %d baris, %d kolom.\" % df.shape)\n",
        "\n",
        "# Drop kolom yang seluruhnya missing value dan cetak ukurannya\n",
        "df = df.dropna(axis=1, how=\"all\")\n",
        "print(\"Ukuran df setelah buang kolom dengan seluruh data missing: %d baris, %d kolom.\" % df.shape)\n",
        "\n",
        "# Drop baris jika ada satu saja data yang missing dan cetak ukurannya\n",
        "df = df.dropna(axis = 0, how = \"any\")\n",
        "print(\"Ukuran df setelah dibuang baris yang memiliki sekurangnya 1 missing value: %d baris, %d kolom.\" % df.shape)"
      ],
      "metadata": {
        "id": "p5obu2ReNmkC",
        "outputId": "daa7ba7e-ef94-4824-c1ee-6a558fde11ae",
        "colab": {
          "base_uri": "https://localhost:8080/"
        }
      },
      "execution_count": null,
      "outputs": [
        {
          "output_type": "stream",
          "name": "stdout",
          "text": [
            "Ukuran awal df: 1000 baris, 13 kolom.\n",
            "Ukuran df setelah buang kolom dengan seluruh data missing: 1000 baris, 12 kolom.\n",
            "Ukuran df setelah dibuang baris yang memiliki sekurangnya 1 missing value: 746 baris, 12 kolom.\n"
          ]
        }
      ]
    },
    {
      "cell_type": "markdown",
      "source": [
        "### Treatment untuk Missing Value - Part 3"
      ],
      "metadata": {
        "id": "jcpy_3ExOSMA"
      }
    },
    {
      "cell_type": "code",
      "source": [
        "import pandas as pd\n",
        "\n",
        "# Baca file \"public data covid19 jhu csse eu.csv\"\n",
        "df = pd.read_csv(\"https://storage.googleapis.com/dqlab-dataset/CHAPTER%204%20-%20missing%20value%20-%20public%20data%20covid19%20.csv\")\n",
        "\n",
        "# Cetak unique value pada kolom province_state\n",
        "print(\"Unique value awal:\\n\", df[\"province_state\"].unique())\n",
        "\n",
        "# Ganti missing value dengan string \"unknown_province_state\"\n",
        "df[\"province_state\"] = df[\"province_state\"].fillna(\"unknown_province_state\")\n",
        "\n",
        "# Cetak kembali unique value pada kolom province_state\n",
        "print(\"Unique value setelah fillna:\\n\", df[\"province_state\"].unique())"
      ],
      "metadata": {
        "colab": {
          "base_uri": "https://localhost:8080/"
        },
        "id": "5NcDSV19OVfR",
        "outputId": "22b09ba4-f42f-4473-f2c0-d62fe19c8260"
      },
      "execution_count": 24,
      "outputs": [
        {
          "output_type": "stream",
          "name": "stdout",
          "text": [
            "Unique value awal:\n",
            " [nan 'US' 'Guam' 'Iowa']\n",
            "Unique value setelah fillna:\n",
            " ['unknown_province_state' 'US' 'Guam' 'Iowa']\n"
          ]
        }
      ]
    },
    {
      "cell_type": "markdown",
      "source": [
        "### Treatment untuk Missing Value - Part 4"
      ],
      "metadata": {
        "id": "C5VID1n2OcCQ"
      }
    },
    {
      "cell_type": "code",
      "source": [
        "import pandas as pd\n",
        "\n",
        "# Baca file \"https://storage.googleapis.com/dqlab-dataset/CHAPTER%204%20-%20missing%20value%20-%20public%20data%20covid19%20.csv\"\n",
        "df = pd.read_csv(\"https://storage.googleapis.com/dqlab-dataset/CHAPTER%204%20-%20missing%20value%20-%20public%20data%20covid19%20.csv\")\n",
        "\n",
        "# Cetak nilai mean dan median awal\n",
        "print(\"Awal: mean = %f, median = %f.\" % (df[\"active\"].mean(), df[\"active\"].median()))\n",
        "\n",
        "# Isi missing value kolom active dengan median\n",
        "df_median = df[\"active\"].fillna(df[\"active\"].median())\n",
        "\n",
        "# Cetak nilai mean dan median awal setelah diisi dengan median\n",
        "print(\"Fillna median: mean = %f, median = %f.\" % (df_median.mean(), df_median.median()))\n",
        "\n",
        "# Isi missing value kolom active dengan mean\n",
        "df_mean = df[\"active\"].fillna(df[\"active\"].mean())\n",
        "\n",
        "# Cetak nilai mean dan median awal setelah diisi dengan mean\n",
        "print(\"Fillna mean: mean = %f, median = %f.\" % (df_mean.mean(), df_mean.median()))"
      ],
      "metadata": {
        "colab": {
          "base_uri": "https://localhost:8080/"
        },
        "id": "bEjOkWYiOdWA",
        "outputId": "9e1151c7-0ab7-4d42-872f-b6554efdf2f8"
      },
      "execution_count": 25,
      "outputs": [
        {
          "output_type": "stream",
          "name": "stdout",
          "text": [
            "Awal: mean = 192.571128, median = 41.000000.\n",
            "Fillna median: mean = 184.841000, median = 41.000000.\n",
            "Fillna mean: mean = 192.571128, median = 49.000000.\n"
          ]
        }
      ]
    },
    {
      "cell_type": "markdown",
      "source": [
        "### Treatment untuk Missing Value - Part 5"
      ],
      "metadata": {
        "id": "81b1gsWyOmdY"
      }
    },
    {
      "cell_type": "code",
      "source": [
        "import numpy as np\n",
        "import pandas as pd\n",
        "\n",
        "# Data\n",
        "ts = pd.Series({\n",
        "   \"2020-01-01\":9,\n",
        "   \"2020-01-02\":np.nan,\n",
        "   \"2020-01-05\":np.nan,\n",
        "   \"2020-01-07\":24,\n",
        "   \"2020-01-10\":np.nan,\n",
        "   \"2020-01-12\":np.nan,\n",
        "   \"2020-01-15\":33,\n",
        "   \"2020-01-17\":np.nan,\n",
        "   \"2020-01-16\":40,\n",
        "   \"2020-01-20\":45,\n",
        "   \"2020-01-22\":52,\n",
        "   \"2020-01-25\":75,\n",
        "   \"2020-01-28\":np.nan,\n",
        "   \"2020-01-30\":np.nan\n",
        "})\n",
        "\n",
        "# Isi missing value menggunakan interpolasi linier\n",
        "ts = ts.interpolate()\n",
        "\n",
        "# Cetak time series setelah interpolasi linier\n",
        "print(\"Setelah diisi missing valuenya:\\n\", ts)"
      ],
      "metadata": {
        "colab": {
          "base_uri": "https://localhost:8080/"
        },
        "id": "x-yEysVhOn-w",
        "outputId": "825b43a5-dc4b-4da8-dc03-26a5cbcb12b6"
      },
      "execution_count": 26,
      "outputs": [
        {
          "output_type": "stream",
          "name": "stdout",
          "text": [
            "Setelah diisi missing valuenya:\n",
            " 2020-01-01     9.0\n",
            "2020-01-02    14.0\n",
            "2020-01-05    19.0\n",
            "2020-01-07    24.0\n",
            "2020-01-10    27.0\n",
            "2020-01-12    30.0\n",
            "2020-01-15    33.0\n",
            "2020-01-17    36.5\n",
            "2020-01-16    40.0\n",
            "2020-01-20    45.0\n",
            "2020-01-22    52.0\n",
            "2020-01-25    75.0\n",
            "2020-01-28    75.0\n",
            "2020-01-30    75.0\n",
            "dtype: float64\n"
          ]
        }
      ]
    },
    {
      "cell_type": "markdown",
      "source": [
        "# Mini Project"
      ],
      "metadata": {
        "id": "Nu2rl6HcOwt4"
      }
    },
    {
      "cell_type": "markdown",
      "source": [
        "### Project dari Andra"
      ],
      "metadata": {
        "id": "e2tZwDD2Ozto"
      }
    },
    {
      "cell_type": "code",
      "source": [
        "import pandas as pd\n",
        "\n",
        "# 1. Baca dataset\n",
        "print(\"[1] BACA DATASET\")\n",
        "df = pd.read_csv(\"https://storage.googleapis.com/dqlab-dataset/retail_raw_test.csv\", low_memory=False)\n",
        "print(\" Dataset:\\n\", df.head())\n",
        "print(\" Info:\\n\", df.info())"
      ],
      "metadata": {
        "colab": {
          "base_uri": "https://localhost:8080/"
        },
        "id": "dyc9xxyiO2H4",
        "outputId": "9a67f3d1-e0f6-4570-8a80-7e91bbcdcbf7"
      },
      "execution_count": 28,
      "outputs": [
        {
          "output_type": "stream",
          "name": "stdout",
          "text": [
            "[1] BACA DATASET\n",
            " Dataset:\n",
            "    order_id    order_date customer_id  ... quantity item_price product_value\n",
            "0   1730350  Dec 11, 2019      '13447  ...      '24    '113000        1374.0\n",
            "1   1677490  Jul 31, 2019          '0  ...       '1   '1164000        1370.0\n",
            "2   1704211  Oct 18, 2019      '16128  ...      '12    '747000        1679.0\n",
            "3   1679695  Aug 07, 2019      '16225  ...       '6    '590000        1708.0\n",
            "4   1679080  Aug 05, 2019          '0  ...       '2    '740000        1201.0\n",
            "\n",
            "[5 rows x 9 columns]\n",
            "<class 'pandas.core.frame.DataFrame'>\n",
            "RangeIndex: 5000 entries, 0 to 4999\n",
            "Data columns (total 9 columns):\n",
            " #   Column         Non-Null Count  Dtype  \n",
            "---  ------         --------------  -----  \n",
            " 0   order_id       5000 non-null   int64  \n",
            " 1   order_date     5000 non-null   object \n",
            " 2   customer_id    5000 non-null   object \n",
            " 3   city           3802 non-null   object \n",
            " 4   province       3802 non-null   object \n",
            " 5   brand          4995 non-null   object \n",
            " 6   quantity       5000 non-null   object \n",
            " 7   item_price     5000 non-null   object \n",
            " 8   product_value  4995 non-null   float64\n",
            "dtypes: float64(1), int64(1), object(7)\n",
            "memory usage: 351.7+ KB\n",
            " Info:\n",
            " None\n"
          ]
        }
      ]
    },
    {
      "cell_type": "code",
      "source": [
        "# 2. Ubah tipe data\n",
        "print(\"\\n[2] UBAH TIPE DATA\")\n",
        "df[\"customer_id\"] = df[\"customer_id\"].apply(lambda x: x.split(\"'\")[1]).astype(\"int64\")\n",
        "df[\"quantity\"] = df[\"quantity\"].apply(lambda x: x.split(\"'\")[1]).astype(\"int64\")\n",
        "df[\"item_price\"] = df[\"item_price\"].apply(lambda x: x.split(\"'\")[1]).astype(\"int64\")\n",
        "print(\" Tipe data:\\n\", df.dtypes)"
      ],
      "metadata": {
        "colab": {
          "base_uri": "https://localhost:8080/"
        },
        "id": "v3E8lhrsPLDY",
        "outputId": "79fae5c3-85ee-4c54-819a-06884c40f844"
      },
      "execution_count": 29,
      "outputs": [
        {
          "output_type": "stream",
          "name": "stdout",
          "text": [
            "\n",
            "[2] UBAH TIPE DATA\n",
            " Tipe data:\n",
            " order_id           int64\n",
            "order_date        object\n",
            "customer_id        int64\n",
            "city              object\n",
            "province          object\n",
            "brand             object\n",
            "quantity           int64\n",
            "item_price         int64\n",
            "product_value    float64\n",
            "dtype: object\n"
          ]
        }
      ]
    },
    {
      "cell_type": "code",
      "source": [
        "# 3. Transform \"product_value\" supaya bentuknya seragam dengan format \"PXXXX\", assign ke kolom baru \"product_id\", dan drop kolom \"product_value\", jika terdapat nan gantilah dengan \"unknown\"\n",
        "print(\"\\n[3] TRANSFORM product_value MENJADI product_id\")\n",
        "\n",
        "# Buat fungsi\n",
        "import math\n",
        "def impute_product_value(val):\n",
        "    if math.isnan(val):\n",
        "       return \"unknown\"\n",
        "    else:\n",
        "       return 'P' + '{:0>4}'.format(str(val).split('.')[0])\n",
        "\n",
        "# Buat kolom \"product_id\"\n",
        "df[\"product_id\"] = df[\"product_value\"].apply(lambda x: impute_product_value(x))\n",
        "# Hapus kolom \"product_value\"\n",
        "df.drop([\"product_value\"], axis=1, inplace=True)\n",
        "# Cetak 5 data teratas\n",
        "print(df.head())"
      ],
      "metadata": {
        "colab": {
          "base_uri": "https://localhost:8080/"
        },
        "id": "hAqZ1vD1POgg",
        "outputId": "f9a9f673-be4b-46a0-f56d-24283327a5b9"
      },
      "execution_count": 30,
      "outputs": [
        {
          "output_type": "stream",
          "name": "stdout",
          "text": [
            "\n",
            "[3] TRANSFORM product_value MENJADI product_id\n",
            "   order_id    order_date  customer_id  ... quantity item_price product_id\n",
            "0   1730350  Dec 11, 2019        13447  ...       24     113000      P1374\n",
            "1   1677490  Jul 31, 2019            0  ...        1    1164000      P1370\n",
            "2   1704211  Oct 18, 2019        16128  ...       12     747000      P1679\n",
            "3   1679695  Aug 07, 2019        16225  ...        6     590000      P1708\n",
            "4   1679080  Aug 05, 2019            0  ...        2     740000      P1201\n",
            "\n",
            "[5 rows x 9 columns]\n"
          ]
        }
      ]
    },
    {
      "cell_type": "code",
      "source": [
        "# 4. Tranform order_date menjadi value dengan format \"YYYY-mm-dd\"\n",
        "print(\"\\n[4] TRANSFORM order_date MENJADI FORMAT YYYY-mm-dd\")\n",
        "months_dict = {\n",
        "\"Jan\":\"01\",\n",
        "\"Feb\":\"02\",\n",
        "\"Mar\":\"03\",\n",
        "\"Apr\":\"04\",\n",
        "\"May\":\"05\",\n",
        "\"Jun\":\"06\",\n",
        "\"Jul\":\"07\",\n",
        "\"Aug\":\"08\",\n",
        "\"Sep\":\"09\",\n",
        "\"Oct\":\"10\",\n",
        "\"Nov\":\"11\",\n",
        "\"Dec\":\"12\"\n",
        "}\n",
        "df[\"order_date\"] = pd.to_datetime(df[\"order_date\"].apply(lambda x: str(x)[-4:] + \"-\" + months_dict[str(x)[:3]] + \"-\" + str(x)[4:7]))\n",
        "print(\" Tipe data:\\n\", df.dtypes)"
      ],
      "metadata": {
        "colab": {
          "base_uri": "https://localhost:8080/"
        },
        "id": "jJSUZaiiPTX_",
        "outputId": "e840a7f9-9718-4f65-eb72-ad669dca6cbf"
      },
      "execution_count": 31,
      "outputs": [
        {
          "output_type": "stream",
          "name": "stdout",
          "text": [
            "\n",
            "[4] TRANSFORM order_date MENJADI FORMAT YYYY-mm-dd\n",
            " Tipe data:\n",
            " order_id                int64\n",
            "order_date     datetime64[ns]\n",
            "customer_id             int64\n",
            "city                   object\n",
            "province               object\n",
            "brand                  object\n",
            "quantity                int64\n",
            "item_price              int64\n",
            "product_id             object\n",
            "dtype: object\n"
          ]
        }
      ]
    },
    {
      "cell_type": "code",
      "source": [
        "# 5. Mengatasi data yang hilang di beberapa kolom\n",
        "print(\"\\n[5] HANDLING MISSING VALUE\")\n",
        "\n",
        "# Kolom \"city\" dan \"province\" masih memiliki missing value, nilai yang hilang di kedua kolom ini diisi saja dengan \"unknown\"\n",
        "df[[\"city\",\"province\"]] = df[[\"city\",\"province\"]].fillna(\"unknown\")\n",
        "\n",
        "# Kolom brand juga masih memiliki missing value, Ganti value NaN menjadi \"no_brand\"\n",
        "df[\"brand\"] = df[\"brand\"].fillna(\"no_brand\")\n",
        "\n",
        "# Cek apakah masih terdapat missing value di seluruh kolom\n",
        "print(\" Info:\\n\", df.info())"
      ],
      "metadata": {
        "colab": {
          "base_uri": "https://localhost:8080/"
        },
        "id": "wA1U-kk5PWYB",
        "outputId": "f78fbdd0-fd2a-43df-c041-db2cd7d38587"
      },
      "execution_count": 33,
      "outputs": [
        {
          "output_type": "stream",
          "name": "stdout",
          "text": [
            "\n",
            "[5] HANDLING MISSING VALUE\n",
            "<class 'pandas.core.frame.DataFrame'>\n",
            "RangeIndex: 5000 entries, 0 to 4999\n",
            "Data columns (total 9 columns):\n",
            " #   Column       Non-Null Count  Dtype         \n",
            "---  ------       --------------  -----         \n",
            " 0   order_id     5000 non-null   int64         \n",
            " 1   order_date   5000 non-null   datetime64[ns]\n",
            " 2   customer_id  5000 non-null   int64         \n",
            " 3   city         5000 non-null   object        \n",
            " 4   province     5000 non-null   object        \n",
            " 5   brand        5000 non-null   object        \n",
            " 6   quantity     5000 non-null   int64         \n",
            " 7   item_price   5000 non-null   int64         \n",
            " 8   product_id   5000 non-null   object        \n",
            "dtypes: datetime64[ns](1), int64(4), object(4)\n",
            "memory usage: 351.7+ KB\n",
            " Info:\n",
            " None\n"
          ]
        }
      ]
    },
    {
      "cell_type": "code",
      "source": [
        "# 6. Membuat kolom baru \"city/province\" dengan menggabungkan kolom \"city\" dan kolom \"province\" dan delete kolom asalnya\n",
        "print(\"\\n[6] MEMBUAT KOLOM BARU city/province\")\n",
        "df[\"city/province\"] = df[\"city\"] + \"/\" + df[\"province\"]\n",
        "\n",
        "# drop kolom \"city\" dan \"province\" karena telah digabungkan\n",
        "df.drop([\"city\",\"province\"], axis=1, inplace=True)\n",
        "\n",
        "# Cetak 5 data teratas\n",
        "print(df.head())"
      ],
      "metadata": {
        "colab": {
          "base_uri": "https://localhost:8080/"
        },
        "id": "CgmBPhUmPbrp",
        "outputId": "0d022bf7-e08d-4382-bed5-51e8d303e813"
      },
      "execution_count": 34,
      "outputs": [
        {
          "output_type": "stream",
          "name": "stdout",
          "text": [
            "\n",
            "[6] MEMBUAT KOLOM BARU city/province\n",
            "   order_id order_date  ...  product_id              city/province\n",
            "0   1730350 2019-12-11  ...       P1374      Surakarta/Jawa Tengah\n",
            "1   1677490 2019-07-31  ...       P1370            unknown/unknown\n",
            "2   1704211 2019-10-18  ...       P1679  Jakarta Pusat/DKI Jakarta\n",
            "3   1679695 2019-08-07  ...       P1708      Yogyakarta/Yogyakarta\n",
            "4   1679080 2019-08-05  ...       P1201            unknown/unknown\n",
            "\n",
            "[5 rows x 8 columns]\n"
          ]
        }
      ]
    },
    {
      "cell_type": "code",
      "source": [
        "# 7. Membuat hierarchical index yang terdiri dari kolom \"city/province\", \"order_date\", \"customer_id\", \"order_id\", \"product_id\"\n",
        "print(\"\\n[7] MEMBUAT HIERACHICAL INDEX\")\n",
        "df = df.set_index([\"city/province\",\"order_date\",\"customer_id\",\"order_id\",\"product_id\"])\n",
        "\n",
        "# urutkanlah berdasarkan index yang baru\n",
        "df = df.sort_index()\n",
        "\n",
        "# Cetak 5 data teratas\n",
        "print(df.head())"
      ],
      "metadata": {
        "colab": {
          "base_uri": "https://localhost:8080/"
        },
        "id": "KkfIEd18Pf-J",
        "outputId": "162aa449-fcf8-4d0e-da74-e6e8bf07f8f8"
      },
      "execution_count": 35,
      "outputs": [
        {
          "output_type": "stream",
          "name": "stdout",
          "text": [
            "\n",
            "[7] MEMBUAT HIERACHICAL INDEX\n",
            "                                                                     brand  ...  item_price\n",
            "city/province          order_date customer_id order_id product_id           ...            \n",
            "Banda Aceh/Aceh        2019-04-17 12818       1642480  P1936       BRAND_K  ...      450000\n",
            "                       2019-11-12 12360       1715116  P0758       BRAND_C  ...      695000\n",
            "                                                       P3042       BRAND_R  ...      310000\n",
            "                       2019-12-09 12374       1729036  P1660       BRAND_G  ...     2795000\n",
            "Bandar Lampung/Lampung 2019-01-15 12515       1619257  P0628       BRAND_C  ...      695000\n",
            "\n",
            "[5 rows x 3 columns]\n"
          ]
        }
      ]
    },
    {
      "cell_type": "code",
      "source": [
        "# 8. Membuat kolom \"total_price\" yang formula nya perkalian antara kolom \"quantity\" dan kolom \"item_price\"\n",
        "print(\"\\n[8] MEMBUAT KOLOM total_price\")\n",
        "df[\"total_price\"] = df[\"quantity\"] * df[\"item_price\"]\n",
        "\n",
        "# Cetak 5 data teratas\n",
        "print(df.head())"
      ],
      "metadata": {
        "colab": {
          "base_uri": "https://localhost:8080/"
        },
        "id": "7vISMJy4PkOJ",
        "outputId": "8d0af242-fd12-4a8c-828c-e68c0364d714"
      },
      "execution_count": 36,
      "outputs": [
        {
          "output_type": "stream",
          "name": "stdout",
          "text": [
            "\n",
            "[8] MEMBUAT KOLOM total_price\n",
            "                                                                     brand  ...  total_price\n",
            "city/province          order_date customer_id order_id product_id           ...             \n",
            "Banda Aceh/Aceh        2019-04-17 12818       1642480  P1936       BRAND_K  ...     10800000\n",
            "                       2019-11-12 12360       1715116  P0758       BRAND_C  ...      5560000\n",
            "                                                       P3042       BRAND_R  ...      3720000\n",
            "                       2019-12-09 12374       1729036  P1660       BRAND_G  ...     11180000\n",
            "Bandar Lampung/Lampung 2019-01-15 12515       1619257  P0628       BRAND_C  ...      8340000\n",
            "\n",
            "[5 rows x 4 columns]\n"
          ]
        }
      ]
    },
    {
      "cell_type": "code",
      "source": [
        "# 9. Slice dataset agar hanya terdapat data bulan Januari 2019\n",
        "print(\"\\n[9] SLICE DATASET UNTUK BULAN JANUARI 2019 SAJA\")\n",
        "idx = pd.IndexSlice\n",
        "df_jan2019 = df.loc[idx[:, \"2019-01-01\":\"2019-01-31\"], :]\n",
        "print(\"Dataset akhir:\\n\", df_jan2019)\n",
        "\n",
        "# END OF PROJECT"
      ],
      "metadata": {
        "colab": {
          "base_uri": "https://localhost:8080/"
        },
        "id": "QzN4NbPCPnVp",
        "outputId": "a7afb5f1-772e-4e7d-af54-1d4ba0db9825"
      },
      "execution_count": 37,
      "outputs": [
        {
          "output_type": "stream",
          "name": "stdout",
          "text": [
            "\n",
            "[9] SLICE DATASET UNTUK BULAN JANUARI 2019 SAJA\n",
            "Dataset akhir:\n",
            "                                                                      brand  ...  total_price\n",
            "city/province          order_date customer_id order_id product_id           ...             \n",
            "Bandar Lampung/Lampung 2019-01-15 12515       1619257  P0628       BRAND_C  ...      8340000\n",
            "Bandung/Jawa Barat     2019-01-09 16134       1617055  P1597       BRAND_G  ...      4680000\n",
            "                       2019-01-10 17392       1617952  P2137       BRAND_M  ...      2124000\n",
            "                       2019-01-14 15527       1618828  P3115       BRAND_S  ...      1045000\n",
            "                       2019-01-29 13253       1620289  P0099       BRAND_A  ...      5400000\n",
            "...                                                                    ...  ...          ...\n",
            "unknown/unknown        2019-01-30 0           1620766  P3070       BRAND_R  ...       593000\n",
            "                                                       P3483       BRAND_S  ...      1779000\n",
            "                       2019-01-31 0           1621057  P1298       BRAND_F  ...       296000\n",
            "                                                       P1773       BRAND_H  ...      2965000\n",
            "                                                       P2877       BRAND_R  ...      1486000\n",
            "\n",
            "[334 rows x 4 columns]\n"
          ]
        }
      ]
    }
  ]
}